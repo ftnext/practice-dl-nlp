{
  "nbformat": 4,
  "nbformat_minor": 0,
  "metadata": {
    "colab": {
      "name": "20220517_transformers_example_legacy_ner_GermEval2014.ipynb",
      "provenance": [],
      "collapsed_sections": [],
      "authorship_tag": "ABX9TyO3x9dtXqGqZcVZKDln8YFE",
      "include_colab_link": true
    },
    "kernelspec": {
      "name": "python3",
      "display_name": "Python 3"
    },
    "language_info": {
      "name": "python"
    },
    "accelerator": "GPU"
  },
  "cells": [
    {
      "cell_type": "markdown",
      "metadata": {
        "id": "view-in-github",
        "colab_type": "text"
      },
      "source": [
        "<a href=\"https://colab.research.google.com/github/ftnext/practice-dl-nlp/blob/master/bert_exercise/transformers_examples/20220517_example_legacy_ner_GermEval2014.ipynb\" target=\"_parent\"><img src=\"https://colab.research.google.com/assets/colab-badge.svg\" alt=\"Open In Colab\"/></a>"
      ]
    },
    {
      "cell_type": "markdown",
      "source": [
        "ref: https://github.com/huggingface/transformers/tree/v4.19.1/examples/legacy/token-classification#germeval-2014-german-ner-dataset"
      ],
      "metadata": {
        "id": "dyi22-UsZkSi"
      }
    },
    {
      "cell_type": "code",
      "source": [
        "!mkdir -p /tmp/germeval2014/original"
      ],
      "metadata": {
        "id": "hc5gwpC1ZjwK"
      },
      "execution_count": 1,
      "outputs": []
    },
    {
      "cell_type": "markdown",
      "source": [
        "## Fetch"
      ],
      "metadata": {
        "id": "_8mhBt-qaoID"
      }
    },
    {
      "cell_type": "code",
      "source": [
        "!curl -L 'https://drive.google.com/uc?export=download&id=1Jjhbal535VVz2ap4v4r_rN1UEHTdLK5P' \\\n",
        "| grep -v \"^#\" | cut -f 2,3 | tr '\\t' ' ' > /tmp/germeval2014/original/train.txt.tmp\n",
        "!curl -L 'https://drive.google.com/uc?export=download&id=1ZfRcQThdtAR5PPRjIDtrVP7BtXSCUBbm' \\\n",
        "| grep -v \"^#\" | cut -f 2,3 | tr '\\t' ' ' > /tmp/germeval2014/original/dev.txt.tmp\n",
        "!curl -L 'https://drive.google.com/uc?export=download&id=1u9mb7kNJHWQCWyweMDRMuTFoOHOfeBTH' \\\n",
        "| grep -v \"^#\" | cut -f 2,3 | tr '\\t' ' ' > /tmp/germeval2014/original/test.txt.tmp"
      ],
      "metadata": {
        "colab": {
          "base_uri": "https://localhost:8080/"
        },
        "id": "6bTejQyJZ5zC",
        "outputId": "65bc3212-41fd-4ffd-aa99-f440c7dcd8f9"
      },
      "execution_count": 2,
      "outputs": [
        {
          "output_type": "stream",
          "name": "stdout",
          "text": [
            "  % Total    % Received % Xferd  Average Speed   Time    Time     Time  Current\n",
            "                                 Dload  Upload   Total   Spent    Left  Speed\n",
            "  0     0    0     0    0     0      0      0 --:--:--  0:00:01 --:--:--     0\n",
            "100 7697k  100 7697k    0     0  3396k      0  0:00:02  0:00:02 --:--:-- 85.4M\n",
            "  % Total    % Received % Xferd  Average Speed   Time    Time     Time  Current\n",
            "                                 Dload  Upload   Total   Spent    Left  Speed\n",
            "  0     0    0     0    0     0      0      0 --:--:--  0:00:01 --:--:--     0\n",
            "100  706k  100  706k    0     0   516k      0  0:00:01  0:00:01 --:--:--  516k\n",
            "  % Total    % Received % Xferd  Average Speed   Time    Time     Time  Current\n",
            "                                 Dload  Upload   Total   Spent    Left  Speed\n",
            "  0     0    0     0    0     0      0      0 --:--:-- --:--:-- --:--:--     0\n",
            "100 1643k  100 1643k    0     0  1468k      0  0:00:01  0:00:01 --:--:-- 1468k\n"
          ]
        }
      ]
    },
    {
      "cell_type": "code",
      "source": [
        "!wc -l /tmp/germeval2014/original/*.tmp"
      ],
      "metadata": {
        "colab": {
          "base_uri": "https://localhost:8080/"
        },
        "id": "mXzCaCu6aH6R",
        "outputId": "79a931e0-a7fe-42c6-d5b7-b86baa1f0daf"
      },
      "execution_count": 3,
      "outputs": [
        {
          "output_type": "stream",
          "name": "stdout",
          "text": [
            "  43852 /tmp/germeval2014/original/dev.txt.tmp\n",
            " 101598 /tmp/germeval2014/original/test.txt.tmp\n",
            " 476854 /tmp/germeval2014/original/train.txt.tmp\n",
            " 622304 total\n"
          ]
        }
      ]
    },
    {
      "cell_type": "markdown",
      "source": [
        "## Development Environment"
      ],
      "metadata": {
        "id": "lh28W-SsarX2"
      }
    },
    {
      "cell_type": "code",
      "execution_count": 4,
      "metadata": {
        "colab": {
          "base_uri": "https://localhost:8080/"
        },
        "id": "FjBB7bduAvzq",
        "outputId": "4063fff4-9ec9-4184-9e31-d87c652568ac"
      },
      "outputs": [
        {
          "output_type": "stream",
          "name": "stdout",
          "text": [
            "Cloning into 'transformers'...\n",
            "remote: Enumerating objects: 95488, done.\u001b[K\n",
            "remote: Counting objects: 100% (314/314), done.\u001b[K\n",
            "remote: Compressing objects: 100% (223/223), done.\u001b[K\n",
            "remote: Total 95488 (delta 147), reused 174 (delta 74), pack-reused 95174\u001b[K\n",
            "Receiving objects: 100% (95488/95488), 88.73 MiB | 28.69 MiB/s, done.\n",
            "Resolving deltas: 100% (70138/70138), done.\n",
            "Note: checking out 'v4.19.1'.\n",
            "\n",
            "You are in 'detached HEAD' state. You can look around, make experimental\n",
            "changes and commit them, and you can discard any commits you make in this\n",
            "state without impacting any branches by performing another checkout.\n",
            "\n",
            "If you want to create a new branch to retain commits you create, you may\n",
            "do so (now or later) by using -b with the checkout command again. Example:\n",
            "\n",
            "  git checkout -b <new-branch-name>\n",
            "\n",
            "HEAD is now at a1651b518 Release: v4.19.1\n",
            "Processing /content/transformers\n",
            "\u001b[33m  DEPRECATION: A future pip version will change local packages to be built in-place without first copying to a temporary directory. We recommend you use --use-feature=in-tree-build to test your packages with this new behavior before it becomes the default.\n",
            "   pip 21.3 will remove support for this functionality. You can find discussion regarding this at https://github.com/pypa/pip/issues/7555.\u001b[0m\n",
            "  Installing build dependencies ... \u001b[?25l\u001b[?25hdone\n",
            "  Getting requirements to build wheel ... \u001b[?25l\u001b[?25hdone\n",
            "    Preparing wheel metadata ... \u001b[?25l\u001b[?25hdone\n",
            "Requirement already satisfied: tqdm>=4.27 in /usr/local/lib/python3.7/dist-packages (from transformers==4.19.1) (4.64.0)\n",
            "Requirement already satisfied: regex!=2019.12.17 in /usr/local/lib/python3.7/dist-packages (from transformers==4.19.1) (2019.12.20)\n",
            "Requirement already satisfied: importlib-metadata in /usr/local/lib/python3.7/dist-packages (from transformers==4.19.1) (4.11.3)\n",
            "Requirement already satisfied: numpy>=1.17 in /usr/local/lib/python3.7/dist-packages (from transformers==4.19.1) (1.21.6)\n",
            "Requirement already satisfied: requests in /usr/local/lib/python3.7/dist-packages (from transformers==4.19.1) (2.23.0)\n",
            "Requirement already satisfied: filelock in /usr/local/lib/python3.7/dist-packages (from transformers==4.19.1) (3.6.0)\n",
            "Requirement already satisfied: packaging>=20.0 in /usr/local/lib/python3.7/dist-packages (from transformers==4.19.1) (21.3)\n",
            "Collecting tokenizers!=0.11.3,<0.13,>=0.11.1\n",
            "  Downloading tokenizers-0.12.1-cp37-cp37m-manylinux_2_12_x86_64.manylinux2010_x86_64.whl (6.6 MB)\n",
            "\u001b[K     |████████████████████████████████| 6.6 MB 4.9 MB/s \n",
            "\u001b[?25hCollecting huggingface-hub<1.0,>=0.1.0\n",
            "  Downloading huggingface_hub-0.6.0-py3-none-any.whl (84 kB)\n",
            "\u001b[K     |████████████████████████████████| 84 kB 4.4 MB/s \n",
            "\u001b[?25hCollecting pyyaml>=5.1\n",
            "  Downloading PyYAML-6.0-cp37-cp37m-manylinux_2_5_x86_64.manylinux1_x86_64.manylinux_2_12_x86_64.manylinux2010_x86_64.whl (596 kB)\n",
            "\u001b[K     |████████████████████████████████| 596 kB 64.4 MB/s \n",
            "\u001b[?25hRequirement already satisfied: typing-extensions>=3.7.4.3 in /usr/local/lib/python3.7/dist-packages (from huggingface-hub<1.0,>=0.1.0->transformers==4.19.1) (4.2.0)\n",
            "Requirement already satisfied: pyparsing!=3.0.5,>=2.0.2 in /usr/local/lib/python3.7/dist-packages (from packaging>=20.0->transformers==4.19.1) (3.0.8)\n",
            "Requirement already satisfied: zipp>=0.5 in /usr/local/lib/python3.7/dist-packages (from importlib-metadata->transformers==4.19.1) (3.8.0)\n",
            "Requirement already satisfied: idna<3,>=2.5 in /usr/local/lib/python3.7/dist-packages (from requests->transformers==4.19.1) (2.10)\n",
            "Requirement already satisfied: urllib3!=1.25.0,!=1.25.1,<1.26,>=1.21.1 in /usr/local/lib/python3.7/dist-packages (from requests->transformers==4.19.1) (1.24.3)\n",
            "Requirement already satisfied: chardet<4,>=3.0.2 in /usr/local/lib/python3.7/dist-packages (from requests->transformers==4.19.1) (3.0.4)\n",
            "Requirement already satisfied: certifi>=2017.4.17 in /usr/local/lib/python3.7/dist-packages (from requests->transformers==4.19.1) (2021.10.8)\n",
            "Building wheels for collected packages: transformers\n",
            "  Building wheel for transformers (PEP 517) ... \u001b[?25l\u001b[?25hdone\n",
            "  Created wheel for transformers: filename=transformers-4.19.1-py3-none-any.whl size=4166491 sha256=ac2fda636f5b3f9cb4f0eaf85762908dc177056263a6c2f270ab54155e87abd5\n",
            "  Stored in directory: /tmp/pip-ephem-wheel-cache-cegey66y/wheels/49/62/f4/6730819eed4e6468662b1519bf3bf46419b2335990c77f8767\n",
            "Successfully built transformers\n",
            "Installing collected packages: pyyaml, tokenizers, huggingface-hub, transformers\n",
            "  Attempting uninstall: pyyaml\n",
            "    Found existing installation: PyYAML 3.13\n",
            "    Uninstalling PyYAML-3.13:\n",
            "      Successfully uninstalled PyYAML-3.13\n",
            "Successfully installed huggingface-hub-0.6.0 pyyaml-6.0 tokenizers-0.12.1 transformers-4.19.1\n"
          ]
        }
      ],
      "source": [
        "!git clone https://github.com/huggingface/transformers.git\n",
        "!cd transformers && git checkout v4.19.1&& pip install ."
      ]
    },
    {
      "cell_type": "code",
      "source": [
        "!pip install seqeval filelock conllu"
      ],
      "metadata": {
        "colab": {
          "base_uri": "https://localhost:8080/"
        },
        "id": "sOwuF0aldaro",
        "outputId": "1011d4ca-d612-4ef1-c2e5-592dd5fcf8e0"
      },
      "execution_count": 5,
      "outputs": [
        {
          "output_type": "stream",
          "name": "stdout",
          "text": [
            "Collecting seqeval\n",
            "  Downloading seqeval-1.2.2.tar.gz (43 kB)\n",
            "\u001b[?25l\r\u001b[K     |███████▌                        | 10 kB 29.7 MB/s eta 0:00:01\r\u001b[K     |███████████████                 | 20 kB 9.1 MB/s eta 0:00:01\r\u001b[K     |██████████████████████▌         | 30 kB 8.2 MB/s eta 0:00:01\r\u001b[K     |██████████████████████████████  | 40 kB 7.9 MB/s eta 0:00:01\r\u001b[K     |████████████████████████████████| 43 kB 1.2 MB/s \n",
            "\u001b[?25hRequirement already satisfied: filelock in /usr/local/lib/python3.7/dist-packages (3.6.0)\n",
            "Collecting conllu\n",
            "  Downloading conllu-4.4.2-py2.py3-none-any.whl (15 kB)\n",
            "Requirement already satisfied: numpy>=1.14.0 in /usr/local/lib/python3.7/dist-packages (from seqeval) (1.21.6)\n",
            "Requirement already satisfied: scikit-learn>=0.21.3 in /usr/local/lib/python3.7/dist-packages (from seqeval) (1.0.2)\n",
            "Requirement already satisfied: scipy>=1.1.0 in /usr/local/lib/python3.7/dist-packages (from scikit-learn>=0.21.3->seqeval) (1.4.1)\n",
            "Requirement already satisfied: joblib>=0.11 in /usr/local/lib/python3.7/dist-packages (from scikit-learn>=0.21.3->seqeval) (1.1.0)\n",
            "Requirement already satisfied: threadpoolctl>=2.0.0 in /usr/local/lib/python3.7/dist-packages (from scikit-learn>=0.21.3->seqeval) (3.1.0)\n",
            "Building wheels for collected packages: seqeval\n",
            "  Building wheel for seqeval (setup.py) ... \u001b[?25l\u001b[?25hdone\n",
            "  Created wheel for seqeval: filename=seqeval-1.2.2-py3-none-any.whl size=16180 sha256=6c299f61043c31217275785b62ec4bb6fed2b5de1468b471628ac2fb1b7e2167\n",
            "  Stored in directory: /root/.cache/pip/wheels/05/96/ee/7cac4e74f3b19e3158dce26a20a1c86b3533c43ec72a549fd7\n",
            "Successfully built seqeval\n",
            "Installing collected packages: seqeval, conllu\n",
            "Successfully installed conllu-4.4.2 seqeval-1.2.2\n"
          ]
        }
      ]
    },
    {
      "cell_type": "code",
      "source": [
        "!pip list | grep torch"
      ],
      "metadata": {
        "colab": {
          "base_uri": "https://localhost:8080/"
        },
        "id": "YA3IT_hKZ_Y-",
        "outputId": "1751ac2a-f129-4e84-e168-4a5f3e8a2c3b"
      },
      "execution_count": 6,
      "outputs": [
        {
          "output_type": "stream",
          "name": "stdout",
          "text": [
            "torch                         1.11.0+cu113\n",
            "torchaudio                    0.11.0+cu113\n",
            "torchsummary                  1.5.1\n",
            "torchtext                     0.12.0\n",
            "torchvision                   0.12.0+cu113\n"
          ]
        }
      ]
    },
    {
      "cell_type": "markdown",
      "source": [
        "## Preprocess"
      ],
      "metadata": {
        "id": "zNFmqgKKau1r"
      }
    },
    {
      "cell_type": "code",
      "source": [
        "!cd transformers/examples/legacy/token-classification && python scripts/preprocess.py \\\n",
        "  /tmp/germeval2014/original/train.txt.tmp bert-base-multilingual-cased 128 > /tmp/germeval2014/train.txt"
      ],
      "metadata": {
        "colab": {
          "base_uri": "https://localhost:8080/"
        },
        "id": "_gN-ddZiahg3",
        "outputId": "8c3ac6dc-e0a7-4611-f1ac-89e49db14e7c"
      },
      "execution_count": 7,
      "outputs": [
        {
          "output_type": "stream",
          "name": "stdout",
          "text": [
            "Downloading: 100% 29.0/29.0 [00:00<00:00, 32.2kB/s]\n",
            "Downloading: 100% 625/625 [00:00<00:00, 754kB/s]\n",
            "Downloading: 100% 972k/972k [00:00<00:00, 5.45MB/s]\n",
            "Downloading: 100% 1.87M/1.87M [00:00<00:00, 8.08MB/s]\n"
          ]
        }
      ]
    },
    {
      "cell_type": "code",
      "source": [
        "!cd transformers/examples/legacy/token-classification && python scripts/preprocess.py \\\n",
        "  /tmp/germeval2014/original/dev.txt.tmp bert-base-multilingual-cased 128 > /tmp/germeval2014/dev.txt"
      ],
      "metadata": {
        "id": "I5CNTcp_bxeO"
      },
      "execution_count": 8,
      "outputs": []
    },
    {
      "cell_type": "code",
      "source": [
        "!cd transformers/examples/legacy/token-classification && python scripts/preprocess.py \\\n",
        "  /tmp/germeval2014/original/test.txt.tmp bert-base-multilingual-cased 128 > /tmp/germeval2014/test.txt"
      ],
      "metadata": {
        "id": "syfPXNIFb5fw"
      },
      "execution_count": 9,
      "outputs": []
    },
    {
      "cell_type": "code",
      "source": [
        "!wc -l /tmp/germeval2014/*.txt"
      ],
      "metadata": {
        "colab": {
          "base_uri": "https://localhost:8080/"
        },
        "id": "9wIO29p3b6sG",
        "outputId": "33e5d552-f1f8-4f2b-f05c-103cecbc9337"
      },
      "execution_count": 10,
      "outputs": [
        {
          "output_type": "stream",
          "name": "stdout",
          "text": [
            "  43851 /tmp/germeval2014/dev.txt\n",
            " 101597 /tmp/germeval2014/test.txt\n",
            " 476852 /tmp/germeval2014/train.txt\n",
            " 622300 total\n"
          ]
        }
      ]
    },
    {
      "cell_type": "code",
      "source": [
        "!cd /tmp/germeval2014 && cat train.txt dev.txt test.txt | cut -d \" \" -f 2 | grep -v \"^$\"| sort | uniq > labels.txt"
      ],
      "metadata": {
        "id": "BpMb1qjjcMgT"
      },
      "execution_count": 11,
      "outputs": []
    },
    {
      "cell_type": "code",
      "source": [
        "!cat /tmp/germeval2014/labels.txt"
      ],
      "metadata": {
        "colab": {
          "base_uri": "https://localhost:8080/"
        },
        "id": "rYnpA883cVdT",
        "outputId": "9277b99b-a5d0-47f6-f84e-ee0423dc292c"
      },
      "execution_count": 12,
      "outputs": [
        {
          "output_type": "stream",
          "name": "stdout",
          "text": [
            "B-LOC\n",
            "B-LOCderiv\n",
            "B-LOCpart\n",
            "B-ORG\n",
            "B-ORGderiv\n",
            "B-ORGpart\n",
            "B-OTH\n",
            "B-OTHderiv\n",
            "B-OTHpart\n",
            "B-PER\n",
            "B-PERderiv\n",
            "B-PERpart\n",
            "I-LOC\n",
            "I-LOCderiv\n",
            "I-LOCpart\n",
            "I-ORG\n",
            "I-ORGderiv\n",
            "I-ORGpart\n",
            "I-OTH\n",
            "I-OTHderiv\n",
            "I-OTHpart\n",
            "I-PER\n",
            "I-PERderiv\n",
            "I-PERpart\n",
            "O\n"
          ]
        }
      ]
    },
    {
      "cell_type": "code",
      "source": [
        "!wc -l /tmp/germeval2014/labels.txt"
      ],
      "metadata": {
        "colab": {
          "base_uri": "https://localhost:8080/"
        },
        "id": "-AOlkjWfccWP",
        "outputId": "c1e800ed-fcdf-439b-cc5f-cb440bf2751c"
      },
      "execution_count": 13,
      "outputs": [
        {
          "output_type": "stream",
          "name": "stdout",
          "text": [
            "25 /tmp/germeval2014/labels.txt\n"
          ]
        }
      ]
    },
    {
      "cell_type": "markdown",
      "source": [
        "## Train"
      ],
      "metadata": {
        "id": "MM28a-gAcKRZ"
      }
    },
    {
      "cell_type": "code",
      "source": [
        "!cd transformers/examples/legacy/token-classification && python run_ner.py \\\n",
        "--data_dir /tmp/germeval2014 \\\n",
        "--labels /tmp/germeval2014/labels.txt \\\n",
        "--model_name_or_path bert-base-multilingual-cased \\\n",
        "--output_dir /tmp/ner-germeval2014 \\\n",
        "--max_seq_length 128 \\\n",
        "--num_train_epochs 3 \\\n",
        "--per_device_train_batch_size 32 \\\n",
        "--save_steps 750 \\\n",
        "--seed 1 \\\n",
        "--do_train \\\n",
        "--do_eval \\\n",
        "--do_predict"
      ],
      "metadata": {
        "colab": {
          "base_uri": "https://localhost:8080/"
        },
        "id": "8toqZWGjckyt",
        "outputId": "092dfb6e-7958-456a-a225-3d2cc7cd97ae"
      },
      "execution_count": 14,
      "outputs": [
        {
          "output_type": "stream",
          "name": "stdout",
          "text": [
            "05/17/2022 12:49:20 - WARNING - __main__ - Process rank: -1, device: cuda:0, n_gpu: 1, distributed training: False, 16-bits training: False\n",
            "05/17/2022 12:49:20 - INFO - __main__ - Training/evaluation parameters TrainingArguments(\n",
            "_n_gpu=1,\n",
            "adafactor=False,\n",
            "adam_beta1=0.9,\n",
            "adam_beta2=0.999,\n",
            "adam_epsilon=1e-08,\n",
            "auto_find_batch_size=False,\n",
            "bf16=False,\n",
            "bf16_full_eval=False,\n",
            "data_seed=None,\n",
            "dataloader_drop_last=False,\n",
            "dataloader_num_workers=0,\n",
            "dataloader_pin_memory=True,\n",
            "ddp_bucket_cap_mb=None,\n",
            "ddp_find_unused_parameters=None,\n",
            "debug=[],\n",
            "deepspeed=None,\n",
            "disable_tqdm=False,\n",
            "do_eval=True,\n",
            "do_predict=True,\n",
            "do_train=True,\n",
            "eval_accumulation_steps=None,\n",
            "eval_delay=0,\n",
            "eval_steps=None,\n",
            "evaluation_strategy=IntervalStrategy.NO,\n",
            "fp16=False,\n",
            "fp16_backend=auto,\n",
            "fp16_full_eval=False,\n",
            "fp16_opt_level=O1,\n",
            "fsdp=[],\n",
            "fsdp_min_num_params=0,\n",
            "full_determinism=False,\n",
            "gradient_accumulation_steps=1,\n",
            "gradient_checkpointing=False,\n",
            "greater_is_better=None,\n",
            "group_by_length=False,\n",
            "half_precision_backend=auto,\n",
            "hub_model_id=None,\n",
            "hub_private_repo=False,\n",
            "hub_strategy=HubStrategy.EVERY_SAVE,\n",
            "hub_token=<HUB_TOKEN>,\n",
            "ignore_data_skip=False,\n",
            "include_inputs_for_metrics=False,\n",
            "label_names=None,\n",
            "label_smoothing_factor=0.0,\n",
            "learning_rate=5e-05,\n",
            "length_column_name=length,\n",
            "load_best_model_at_end=False,\n",
            "local_rank=-1,\n",
            "log_level=-1,\n",
            "log_level_replica=-1,\n",
            "log_on_each_node=True,\n",
            "logging_dir=/tmp/ner-germeval2014/runs/May17_12-49-20_5b0614351c1b,\n",
            "logging_first_step=False,\n",
            "logging_nan_inf_filter=True,\n",
            "logging_steps=500,\n",
            "logging_strategy=IntervalStrategy.STEPS,\n",
            "lr_scheduler_type=SchedulerType.LINEAR,\n",
            "max_grad_norm=1.0,\n",
            "max_steps=-1,\n",
            "metric_for_best_model=None,\n",
            "mp_parameters=,\n",
            "no_cuda=False,\n",
            "num_train_epochs=3.0,\n",
            "optim=OptimizerNames.ADAMW_HF,\n",
            "output_dir=/tmp/ner-germeval2014,\n",
            "overwrite_output_dir=False,\n",
            "past_index=-1,\n",
            "per_device_eval_batch_size=8,\n",
            "per_device_train_batch_size=32,\n",
            "prediction_loss_only=False,\n",
            "push_to_hub=False,\n",
            "push_to_hub_model_id=None,\n",
            "push_to_hub_organization=None,\n",
            "push_to_hub_token=<PUSH_TO_HUB_TOKEN>,\n",
            "remove_unused_columns=True,\n",
            "report_to=['tensorboard'],\n",
            "resume_from_checkpoint=None,\n",
            "run_name=/tmp/ner-germeval2014,\n",
            "save_on_each_node=False,\n",
            "save_steps=750,\n",
            "save_strategy=IntervalStrategy.STEPS,\n",
            "save_total_limit=None,\n",
            "seed=1,\n",
            "sharded_ddp=[],\n",
            "skip_memory_metrics=True,\n",
            "tf32=None,\n",
            "tpu_metrics_debug=False,\n",
            "tpu_num_cores=None,\n",
            "use_legacy_prediction_loop=False,\n",
            "warmup_ratio=0.0,\n",
            "warmup_steps=0,\n",
            "weight_decay=0.0,\n",
            "xpu_backend=None,\n",
            ")\n",
            "[INFO|configuration_utils.py:659] 2022-05-17 12:49:20,764 >> loading configuration file https://huggingface.co/bert-base-multilingual-cased/resolve/main/config.json from cache at /root/.cache/huggingface/transformers/6c4a5d81a58c9791cdf76a09bce1b5abfb9cf958aebada51200f4515403e5d08.0fe59f3f4f1335dadeb4bce8b8146199d9083512b50d07323c1c319f96df450c\n",
            "[INFO|configuration_utils.py:708] 2022-05-17 12:49:20,765 >> Model config BertConfig {\n",
            "  \"_name_or_path\": \"bert-base-multilingual-cased\",\n",
            "  \"architectures\": [\n",
            "    \"BertForMaskedLM\"\n",
            "  ],\n",
            "  \"attention_probs_dropout_prob\": 0.1,\n",
            "  \"classifier_dropout\": null,\n",
            "  \"directionality\": \"bidi\",\n",
            "  \"hidden_act\": \"gelu\",\n",
            "  \"hidden_dropout_prob\": 0.1,\n",
            "  \"hidden_size\": 768,\n",
            "  \"id2label\": {\n",
            "    \"0\": \"B-LOC\",\n",
            "    \"1\": \"B-LOCderiv\",\n",
            "    \"2\": \"B-LOCpart\",\n",
            "    \"3\": \"B-ORG\",\n",
            "    \"4\": \"B-ORGderiv\",\n",
            "    \"5\": \"B-ORGpart\",\n",
            "    \"6\": \"B-OTH\",\n",
            "    \"7\": \"B-OTHderiv\",\n",
            "    \"8\": \"B-OTHpart\",\n",
            "    \"9\": \"B-PER\",\n",
            "    \"10\": \"B-PERderiv\",\n",
            "    \"11\": \"B-PERpart\",\n",
            "    \"12\": \"I-LOC\",\n",
            "    \"13\": \"I-LOCderiv\",\n",
            "    \"14\": \"I-LOCpart\",\n",
            "    \"15\": \"I-ORG\",\n",
            "    \"16\": \"I-ORGderiv\",\n",
            "    \"17\": \"I-ORGpart\",\n",
            "    \"18\": \"I-OTH\",\n",
            "    \"19\": \"I-OTHderiv\",\n",
            "    \"20\": \"I-OTHpart\",\n",
            "    \"21\": \"I-PER\",\n",
            "    \"22\": \"I-PERderiv\",\n",
            "    \"23\": \"I-PERpart\",\n",
            "    \"24\": \"O\"\n",
            "  },\n",
            "  \"initializer_range\": 0.02,\n",
            "  \"intermediate_size\": 3072,\n",
            "  \"label2id\": {\n",
            "    \"B-LOC\": 0,\n",
            "    \"B-LOCderiv\": 1,\n",
            "    \"B-LOCpart\": 2,\n",
            "    \"B-ORG\": 3,\n",
            "    \"B-ORGderiv\": 4,\n",
            "    \"B-ORGpart\": 5,\n",
            "    \"B-OTH\": 6,\n",
            "    \"B-OTHderiv\": 7,\n",
            "    \"B-OTHpart\": 8,\n",
            "    \"B-PER\": 9,\n",
            "    \"B-PERderiv\": 10,\n",
            "    \"B-PERpart\": 11,\n",
            "    \"I-LOC\": 12,\n",
            "    \"I-LOCderiv\": 13,\n",
            "    \"I-LOCpart\": 14,\n",
            "    \"I-ORG\": 15,\n",
            "    \"I-ORGderiv\": 16,\n",
            "    \"I-ORGpart\": 17,\n",
            "    \"I-OTH\": 18,\n",
            "    \"I-OTHderiv\": 19,\n",
            "    \"I-OTHpart\": 20,\n",
            "    \"I-PER\": 21,\n",
            "    \"I-PERderiv\": 22,\n",
            "    \"I-PERpart\": 23,\n",
            "    \"O\": 24\n",
            "  },\n",
            "  \"layer_norm_eps\": 1e-12,\n",
            "  \"max_position_embeddings\": 512,\n",
            "  \"model_type\": \"bert\",\n",
            "  \"num_attention_heads\": 12,\n",
            "  \"num_hidden_layers\": 12,\n",
            "  \"pad_token_id\": 0,\n",
            "  \"pooler_fc_size\": 768,\n",
            "  \"pooler_num_attention_heads\": 12,\n",
            "  \"pooler_num_fc_layers\": 3,\n",
            "  \"pooler_size_per_head\": 128,\n",
            "  \"pooler_type\": \"first_token_transform\",\n",
            "  \"position_embedding_type\": \"absolute\",\n",
            "  \"transformers_version\": \"4.19.1\",\n",
            "  \"type_vocab_size\": 2,\n",
            "  \"use_cache\": true,\n",
            "  \"vocab_size\": 119547\n",
            "}\n",
            "\n",
            "[INFO|configuration_utils.py:659] 2022-05-17 12:49:21,045 >> loading configuration file https://huggingface.co/bert-base-multilingual-cased/resolve/main/config.json from cache at /root/.cache/huggingface/transformers/6c4a5d81a58c9791cdf76a09bce1b5abfb9cf958aebada51200f4515403e5d08.0fe59f3f4f1335dadeb4bce8b8146199d9083512b50d07323c1c319f96df450c\n",
            "[INFO|configuration_utils.py:708] 2022-05-17 12:49:21,046 >> Model config BertConfig {\n",
            "  \"_name_or_path\": \"bert-base-multilingual-cased\",\n",
            "  \"architectures\": [\n",
            "    \"BertForMaskedLM\"\n",
            "  ],\n",
            "  \"attention_probs_dropout_prob\": 0.1,\n",
            "  \"classifier_dropout\": null,\n",
            "  \"directionality\": \"bidi\",\n",
            "  \"hidden_act\": \"gelu\",\n",
            "  \"hidden_dropout_prob\": 0.1,\n",
            "  \"hidden_size\": 768,\n",
            "  \"initializer_range\": 0.02,\n",
            "  \"intermediate_size\": 3072,\n",
            "  \"layer_norm_eps\": 1e-12,\n",
            "  \"max_position_embeddings\": 512,\n",
            "  \"model_type\": \"bert\",\n",
            "  \"num_attention_heads\": 12,\n",
            "  \"num_hidden_layers\": 12,\n",
            "  \"pad_token_id\": 0,\n",
            "  \"pooler_fc_size\": 768,\n",
            "  \"pooler_num_attention_heads\": 12,\n",
            "  \"pooler_num_fc_layers\": 3,\n",
            "  \"pooler_size_per_head\": 128,\n",
            "  \"pooler_type\": \"first_token_transform\",\n",
            "  \"position_embedding_type\": \"absolute\",\n",
            "  \"transformers_version\": \"4.19.1\",\n",
            "  \"type_vocab_size\": 2,\n",
            "  \"use_cache\": true,\n",
            "  \"vocab_size\": 119547\n",
            "}\n",
            "\n",
            "[INFO|tokenization_utils_base.py:1782] 2022-05-17 12:49:21,610 >> loading file https://huggingface.co/bert-base-multilingual-cased/resolve/main/vocab.txt from cache at /root/.cache/huggingface/transformers/eff018e45de5364a8368df1f2df3461d506e2a111e9dd50af1fae061cd460ead.6c5b6600e968f4b5e08c86d8891ea99e51537fc2bf251435fb46922e8f7a7b29\n",
            "[INFO|tokenization_utils_base.py:1782] 2022-05-17 12:49:21,610 >> loading file https://huggingface.co/bert-base-multilingual-cased/resolve/main/added_tokens.json from cache at None\n",
            "[INFO|tokenization_utils_base.py:1782] 2022-05-17 12:49:21,610 >> loading file https://huggingface.co/bert-base-multilingual-cased/resolve/main/special_tokens_map.json from cache at None\n",
            "[INFO|tokenization_utils_base.py:1782] 2022-05-17 12:49:21,610 >> loading file https://huggingface.co/bert-base-multilingual-cased/resolve/main/tokenizer_config.json from cache at /root/.cache/huggingface/transformers/f55e7a2ad4f8d0fff2733b3f79777e1e99247f2e4583703e92ce74453af8c235.ec5c189f89475aac7d8cbd243960a0655cfadc3d0474da8ff2ed0bf1699c2a5f\n",
            "[INFO|configuration_utils.py:659] 2022-05-17 12:49:21,740 >> loading configuration file https://huggingface.co/bert-base-multilingual-cased/resolve/main/config.json from cache at /root/.cache/huggingface/transformers/6c4a5d81a58c9791cdf76a09bce1b5abfb9cf958aebada51200f4515403e5d08.0fe59f3f4f1335dadeb4bce8b8146199d9083512b50d07323c1c319f96df450c\n",
            "[INFO|configuration_utils.py:708] 2022-05-17 12:49:21,741 >> Model config BertConfig {\n",
            "  \"_name_or_path\": \"bert-base-multilingual-cased\",\n",
            "  \"architectures\": [\n",
            "    \"BertForMaskedLM\"\n",
            "  ],\n",
            "  \"attention_probs_dropout_prob\": 0.1,\n",
            "  \"classifier_dropout\": null,\n",
            "  \"directionality\": \"bidi\",\n",
            "  \"hidden_act\": \"gelu\",\n",
            "  \"hidden_dropout_prob\": 0.1,\n",
            "  \"hidden_size\": 768,\n",
            "  \"initializer_range\": 0.02,\n",
            "  \"intermediate_size\": 3072,\n",
            "  \"layer_norm_eps\": 1e-12,\n",
            "  \"max_position_embeddings\": 512,\n",
            "  \"model_type\": \"bert\",\n",
            "  \"num_attention_heads\": 12,\n",
            "  \"num_hidden_layers\": 12,\n",
            "  \"pad_token_id\": 0,\n",
            "  \"pooler_fc_size\": 768,\n",
            "  \"pooler_num_attention_heads\": 12,\n",
            "  \"pooler_num_fc_layers\": 3,\n",
            "  \"pooler_size_per_head\": 128,\n",
            "  \"pooler_type\": \"first_token_transform\",\n",
            "  \"position_embedding_type\": \"absolute\",\n",
            "  \"transformers_version\": \"4.19.1\",\n",
            "  \"type_vocab_size\": 2,\n",
            "  \"use_cache\": true,\n",
            "  \"vocab_size\": 119547\n",
            "}\n",
            "\n",
            "[INFO|hub.py:583] 2022-05-17 12:49:22,034 >> https://huggingface.co/bert-base-multilingual-cased/resolve/main/pytorch_model.bin not found in cache or force_download set to True, downloading to /root/.cache/huggingface/transformers/tmpyn7yaszb\n",
            "Downloading: 100% 681M/681M [00:09<00:00, 74.4MB/s]\n",
            "[INFO|hub.py:587] 2022-05-17 12:49:31,773 >> storing https://huggingface.co/bert-base-multilingual-cased/resolve/main/pytorch_model.bin in cache at /root/.cache/huggingface/transformers/0a3fd51713dcbb4def175c7f85bddc995d5976ce1dde327f99104e4d33069f17.aa7be4c79d76f4066d9b354496ea477c9ee39c5d889156dd1efb680643c2b052\n",
            "[INFO|hub.py:595] 2022-05-17 12:49:31,773 >> creating metadata file for /root/.cache/huggingface/transformers/0a3fd51713dcbb4def175c7f85bddc995d5976ce1dde327f99104e4d33069f17.aa7be4c79d76f4066d9b354496ea477c9ee39c5d889156dd1efb680643c2b052\n",
            "[INFO|modeling_utils.py:1953] 2022-05-17 12:49:31,773 >> loading weights file https://huggingface.co/bert-base-multilingual-cased/resolve/main/pytorch_model.bin from cache at /root/.cache/huggingface/transformers/0a3fd51713dcbb4def175c7f85bddc995d5976ce1dde327f99104e4d33069f17.aa7be4c79d76f4066d9b354496ea477c9ee39c5d889156dd1efb680643c2b052\n",
            "[WARNING|modeling_utils.py:2255] 2022-05-17 12:49:33,929 >> Some weights of the model checkpoint at bert-base-multilingual-cased were not used when initializing BertForTokenClassification: ['cls.seq_relationship.bias', 'cls.seq_relationship.weight', 'cls.predictions.transform.LayerNorm.bias', 'cls.predictions.transform.dense.bias', 'cls.predictions.transform.LayerNorm.weight', 'cls.predictions.transform.dense.weight', 'cls.predictions.bias', 'cls.predictions.decoder.weight']\n",
            "- This IS expected if you are initializing BertForTokenClassification from the checkpoint of a model trained on another task or with another architecture (e.g. initializing a BertForSequenceClassification model from a BertForPreTraining model).\n",
            "- This IS NOT expected if you are initializing BertForTokenClassification from the checkpoint of a model that you expect to be exactly identical (initializing a BertForSequenceClassification model from a BertForSequenceClassification model).\n",
            "[WARNING|modeling_utils.py:2266] 2022-05-17 12:49:33,929 >> Some weights of BertForTokenClassification were not initialized from the model checkpoint at bert-base-multilingual-cased and are newly initialized: ['classifier.weight', 'classifier.bias']\n",
            "You should probably TRAIN this model on a down-stream task to be able to use it for predictions and inference.\n",
            "05/17/2022 12:49:33 - INFO - utils_ner - Creating features from dataset file at /tmp/germeval2014\n",
            "05/17/2022 12:49:34 - INFO - utils_ner - Writing example 0 of 24000\n",
            "05/17/2022 12:49:34 - INFO - utils_ner - *** Example ***\n",
            "05/17/2022 12:49:34 - INFO - utils_ner - guid: train-1\n",
            "05/17/2022 12:49:34 - INFO - utils_ner - tokens: [CLS] Sc ##hart ##au sagte dem \" Tages ##sp ##iegel \" vom Frei ##tag , Fischer sei \" in einer Weise auf ##getreten , die alles andere als über ##zeugen ##d war \" . [SEP]\n",
            "05/17/2022 12:49:34 - INFO - utils_ner - input_ids: 101 55260 34567 11705 72721 10268 107 98824 54609 87875 107 11036 90928 24603 117 19121 13868 107 10106 10599 34375 10329 104667 117 10128 25569 12045 10223 10848 60695 10162 10338 107 119 102 0 0 0 0 0 0 0 0 0 0 0 0 0 0 0 0 0 0 0 0 0 0 0 0 0 0 0 0 0 0 0 0 0 0 0 0 0 0 0 0 0 0 0 0 0 0 0 0 0 0 0 0 0 0 0 0 0 0 0 0 0 0 0 0 0 0 0 0 0 0 0 0 0 0 0 0 0 0 0 0 0 0 0 0 0 0 0 0 0 0 0 0 0\n",
            "05/17/2022 12:49:34 - INFO - utils_ner - input_mask: 1 1 1 1 1 1 1 1 1 1 1 1 1 1 1 1 1 1 1 1 1 1 1 1 1 1 1 1 1 1 1 1 1 1 1 0 0 0 0 0 0 0 0 0 0 0 0 0 0 0 0 0 0 0 0 0 0 0 0 0 0 0 0 0 0 0 0 0 0 0 0 0 0 0 0 0 0 0 0 0 0 0 0 0 0 0 0 0 0 0 0 0 0 0 0 0 0 0 0 0 0 0 0 0 0 0 0 0 0 0 0 0 0 0 0 0 0 0 0 0 0 0 0 0 0 0 0 0\n",
            "05/17/2022 12:49:34 - INFO - utils_ner - segment_ids: 0 0 0 0 0 0 0 0 0 0 0 0 0 0 0 0 0 0 0 0 0 0 0 0 0 0 0 0 0 0 0 0 0 0 0 0 0 0 0 0 0 0 0 0 0 0 0 0 0 0 0 0 0 0 0 0 0 0 0 0 0 0 0 0 0 0 0 0 0 0 0 0 0 0 0 0 0 0 0 0 0 0 0 0 0 0 0 0 0 0 0 0 0 0 0 0 0 0 0 0 0 0 0 0 0 0 0 0 0 0 0 0 0 0 0 0 0 0 0 0 0 0 0 0 0 0 0 0\n",
            "05/17/2022 12:49:34 - INFO - utils_ner - label_ids: -100 9 -100 -100 24 24 24 3 -100 -100 24 24 24 -100 24 9 24 24 24 24 24 24 -100 24 24 24 24 24 24 -100 -100 24 24 24 -100 -100 -100 -100 -100 -100 -100 -100 -100 -100 -100 -100 -100 -100 -100 -100 -100 -100 -100 -100 -100 -100 -100 -100 -100 -100 -100 -100 -100 -100 -100 -100 -100 -100 -100 -100 -100 -100 -100 -100 -100 -100 -100 -100 -100 -100 -100 -100 -100 -100 -100 -100 -100 -100 -100 -100 -100 -100 -100 -100 -100 -100 -100 -100 -100 -100 -100 -100 -100 -100 -100 -100 -100 -100 -100 -100 -100 -100 -100 -100 -100 -100 -100 -100 -100 -100 -100 -100 -100 -100 -100 -100 -100 -100\n",
            "05/17/2022 12:49:34 - INFO - utils_ner - *** Example ***\n",
            "05/17/2022 12:49:34 - INFO - utils_ner - guid: train-2\n",
            "05/17/2022 12:49:34 - INFO - utils_ner - tokens: [CLS] Fi ##rmen ##gründer Wolf Peter Br ##ee arbeitete Anfang der sie ##b ##ziger Jahre als M ##ö ##bel ##vertreter , als er einen fl ##iegen ##den Hän ##dler aus dem Libanon traf . [SEP]\n",
            "05/17/2022 12:49:34 - INFO - utils_ner - input_ids: 101 36448 66231 58080 17970 10979 38508 13321 17633 17561 10118 10632 10457 102192 11494 10223 150 14902 13770 90409 117 10223 10163 10897 58768 69507 10633 12569 29660 10441 10268 49531 54623 119 102 0 0 0 0 0 0 0 0 0 0 0 0 0 0 0 0 0 0 0 0 0 0 0 0 0 0 0 0 0 0 0 0 0 0 0 0 0 0 0 0 0 0 0 0 0 0 0 0 0 0 0 0 0 0 0 0 0 0 0 0 0 0 0 0 0 0 0 0 0 0 0 0 0 0 0 0 0 0 0 0 0 0 0 0 0 0 0 0 0 0 0 0 0\n",
            "05/17/2022 12:49:34 - INFO - utils_ner - input_mask: 1 1 1 1 1 1 1 1 1 1 1 1 1 1 1 1 1 1 1 1 1 1 1 1 1 1 1 1 1 1 1 1 1 1 1 0 0 0 0 0 0 0 0 0 0 0 0 0 0 0 0 0 0 0 0 0 0 0 0 0 0 0 0 0 0 0 0 0 0 0 0 0 0 0 0 0 0 0 0 0 0 0 0 0 0 0 0 0 0 0 0 0 0 0 0 0 0 0 0 0 0 0 0 0 0 0 0 0 0 0 0 0 0 0 0 0 0 0 0 0 0 0 0 0 0 0 0 0\n",
            "05/17/2022 12:49:34 - INFO - utils_ner - segment_ids: 0 0 0 0 0 0 0 0 0 0 0 0 0 0 0 0 0 0 0 0 0 0 0 0 0 0 0 0 0 0 0 0 0 0 0 0 0 0 0 0 0 0 0 0 0 0 0 0 0 0 0 0 0 0 0 0 0 0 0 0 0 0 0 0 0 0 0 0 0 0 0 0 0 0 0 0 0 0 0 0 0 0 0 0 0 0 0 0 0 0 0 0 0 0 0 0 0 0 0 0 0 0 0 0 0 0 0 0 0 0 0 0 0 0 0 0 0 0 0 0 0 0 0 0 0 0 0 0\n",
            "05/17/2022 12:49:34 - INFO - utils_ner - label_ids: -100 24 -100 -100 9 21 21 -100 24 24 24 24 -100 -100 24 24 24 -100 -100 -100 24 24 24 24 24 -100 -100 24 -100 24 24 0 24 24 -100 -100 -100 -100 -100 -100 -100 -100 -100 -100 -100 -100 -100 -100 -100 -100 -100 -100 -100 -100 -100 -100 -100 -100 -100 -100 -100 -100 -100 -100 -100 -100 -100 -100 -100 -100 -100 -100 -100 -100 -100 -100 -100 -100 -100 -100 -100 -100 -100 -100 -100 -100 -100 -100 -100 -100 -100 -100 -100 -100 -100 -100 -100 -100 -100 -100 -100 -100 -100 -100 -100 -100 -100 -100 -100 -100 -100 -100 -100 -100 -100 -100 -100 -100 -100 -100 -100 -100 -100 -100 -100 -100 -100 -100\n",
            "05/17/2022 12:49:34 - INFO - utils_ner - *** Example ***\n",
            "05/17/2022 12:49:34 - INFO - utils_ner - guid: train-3\n",
            "05/17/2022 12:49:34 - INFO - utils_ner - tokens: [CLS] Ob sie dabei nach dem Runden Ti ##sch am 23 . April in Berlin durch ein p ##ä ##dag ##ogische ##s Konzept unterstützt wird , ist allerdings zu bez ##wei ##feln . [SEP]\n",
            "05/17/2022 12:49:34 - INFO - utils_ner - input_ids: 101 43019 10632 15800 10496 10268 110575 29033 12044 10392 10328 119 10780 10106 11193 10714 10290 184 11013 19115 51699 10107 57716 44837 10790 117 10298 17845 10304 13863 61512 79650 119 102 0 0 0 0 0 0 0 0 0 0 0 0 0 0 0 0 0 0 0 0 0 0 0 0 0 0 0 0 0 0 0 0 0 0 0 0 0 0 0 0 0 0 0 0 0 0 0 0 0 0 0 0 0 0 0 0 0 0 0 0 0 0 0 0 0 0 0 0 0 0 0 0 0 0 0 0 0 0 0 0 0 0 0 0 0 0 0 0 0 0 0 0 0 0\n",
            "05/17/2022 12:49:34 - INFO - utils_ner - input_mask: 1 1 1 1 1 1 1 1 1 1 1 1 1 1 1 1 1 1 1 1 1 1 1 1 1 1 1 1 1 1 1 1 1 1 0 0 0 0 0 0 0 0 0 0 0 0 0 0 0 0 0 0 0 0 0 0 0 0 0 0 0 0 0 0 0 0 0 0 0 0 0 0 0 0 0 0 0 0 0 0 0 0 0 0 0 0 0 0 0 0 0 0 0 0 0 0 0 0 0 0 0 0 0 0 0 0 0 0 0 0 0 0 0 0 0 0 0 0 0 0 0 0 0 0 0 0 0 0\n",
            "05/17/2022 12:49:34 - INFO - utils_ner - segment_ids: 0 0 0 0 0 0 0 0 0 0 0 0 0 0 0 0 0 0 0 0 0 0 0 0 0 0 0 0 0 0 0 0 0 0 0 0 0 0 0 0 0 0 0 0 0 0 0 0 0 0 0 0 0 0 0 0 0 0 0 0 0 0 0 0 0 0 0 0 0 0 0 0 0 0 0 0 0 0 0 0 0 0 0 0 0 0 0 0 0 0 0 0 0 0 0 0 0 0 0 0 0 0 0 0 0 0 0 0 0 0 0 0 0 0 0 0 0 0 0 0 0 0 0 0 0 0 0 0\n",
            "05/17/2022 12:49:34 - INFO - utils_ner - label_ids: -100 24 24 24 24 24 24 24 -100 24 24 -100 24 24 0 24 24 24 -100 -100 -100 -100 24 24 24 24 24 24 24 24 -100 -100 24 -100 -100 -100 -100 -100 -100 -100 -100 -100 -100 -100 -100 -100 -100 -100 -100 -100 -100 -100 -100 -100 -100 -100 -100 -100 -100 -100 -100 -100 -100 -100 -100 -100 -100 -100 -100 -100 -100 -100 -100 -100 -100 -100 -100 -100 -100 -100 -100 -100 -100 -100 -100 -100 -100 -100 -100 -100 -100 -100 -100 -100 -100 -100 -100 -100 -100 -100 -100 -100 -100 -100 -100 -100 -100 -100 -100 -100 -100 -100 -100 -100 -100 -100 -100 -100 -100 -100 -100 -100 -100 -100 -100 -100 -100 -100\n",
            "05/17/2022 12:49:34 - INFO - utils_ner - *** Example ***\n",
            "05/17/2022 12:49:34 - INFO - utils_ner - guid: train-4\n",
            "05/17/2022 12:49:34 - INFO - utils_ner - tokens: [CLS] Bayern München ist wieder allein ##iger Top - Fa ##vori ##t auf den Gewinn der deutschen Fußball - Meisterschaft . [SEP]\n",
            "05/17/2022 12:49:34 - INFO - utils_ner - input_ids: 101 17200 13300 10298 12426 44775 20817 12685 118 44271 73804 10123 10329 10140 67489 10118 14299 34716 118 32045 119 102 0 0 0 0 0 0 0 0 0 0 0 0 0 0 0 0 0 0 0 0 0 0 0 0 0 0 0 0 0 0 0 0 0 0 0 0 0 0 0 0 0 0 0 0 0 0 0 0 0 0 0 0 0 0 0 0 0 0 0 0 0 0 0 0 0 0 0 0 0 0 0 0 0 0 0 0 0 0 0 0 0 0 0 0 0 0 0 0 0 0 0 0 0 0 0 0 0 0 0 0 0 0 0 0 0 0\n",
            "05/17/2022 12:49:34 - INFO - utils_ner - input_mask: 1 1 1 1 1 1 1 1 1 1 1 1 1 1 1 1 1 1 1 1 1 1 0 0 0 0 0 0 0 0 0 0 0 0 0 0 0 0 0 0 0 0 0 0 0 0 0 0 0 0 0 0 0 0 0 0 0 0 0 0 0 0 0 0 0 0 0 0 0 0 0 0 0 0 0 0 0 0 0 0 0 0 0 0 0 0 0 0 0 0 0 0 0 0 0 0 0 0 0 0 0 0 0 0 0 0 0 0 0 0 0 0 0 0 0 0 0 0 0 0 0 0 0 0 0 0 0 0\n",
            "05/17/2022 12:49:34 - INFO - utils_ner - segment_ids: 0 0 0 0 0 0 0 0 0 0 0 0 0 0 0 0 0 0 0 0 0 0 0 0 0 0 0 0 0 0 0 0 0 0 0 0 0 0 0 0 0 0 0 0 0 0 0 0 0 0 0 0 0 0 0 0 0 0 0 0 0 0 0 0 0 0 0 0 0 0 0 0 0 0 0 0 0 0 0 0 0 0 0 0 0 0 0 0 0 0 0 0 0 0 0 0 0 0 0 0 0 0 0 0 0 0 0 0 0 0 0 0 0 0 0 0 0 0 0 0 0 0 0 0 0 0 0 0\n",
            "05/17/2022 12:49:34 - INFO - utils_ner - label_ids: -100 3 15 24 24 24 -100 24 -100 24 -100 -100 24 24 24 24 1 24 -100 -100 24 -100 -100 -100 -100 -100 -100 -100 -100 -100 -100 -100 -100 -100 -100 -100 -100 -100 -100 -100 -100 -100 -100 -100 -100 -100 -100 -100 -100 -100 -100 -100 -100 -100 -100 -100 -100 -100 -100 -100 -100 -100 -100 -100 -100 -100 -100 -100 -100 -100 -100 -100 -100 -100 -100 -100 -100 -100 -100 -100 -100 -100 -100 -100 -100 -100 -100 -100 -100 -100 -100 -100 -100 -100 -100 -100 -100 -100 -100 -100 -100 -100 -100 -100 -100 -100 -100 -100 -100 -100 -100 -100 -100 -100 -100 -100 -100 -100 -100 -100 -100 -100 -100 -100 -100 -100 -100 -100\n",
            "05/17/2022 12:49:34 - INFO - utils_ner - *** Example ***\n",
            "05/17/2022 12:49:34 - INFO - utils_ner - guid: train-5\n",
            "05/17/2022 12:49:34 - INFO - utils_ner - tokens: [CLS] Dabei hätte der tap ##fere Schluss ##mann allen Grund ge ##hab ##t , sich viel früher auf ##zur ##egen . [SEP]\n",
            "05/17/2022 12:49:34 - INFO - utils_ner - input_ids: 101 19734 43667 10118 66956 50544 91998 12350 20048 23191 46503 100025 10123 117 10372 23596 32430 10329 63934 27424 119 102 0 0 0 0 0 0 0 0 0 0 0 0 0 0 0 0 0 0 0 0 0 0 0 0 0 0 0 0 0 0 0 0 0 0 0 0 0 0 0 0 0 0 0 0 0 0 0 0 0 0 0 0 0 0 0 0 0 0 0 0 0 0 0 0 0 0 0 0 0 0 0 0 0 0 0 0 0 0 0 0 0 0 0 0 0 0 0 0 0 0 0 0 0 0 0 0 0 0 0 0 0 0 0 0 0 0\n",
            "05/17/2022 12:49:34 - INFO - utils_ner - input_mask: 1 1 1 1 1 1 1 1 1 1 1 1 1 1 1 1 1 1 1 1 1 1 0 0 0 0 0 0 0 0 0 0 0 0 0 0 0 0 0 0 0 0 0 0 0 0 0 0 0 0 0 0 0 0 0 0 0 0 0 0 0 0 0 0 0 0 0 0 0 0 0 0 0 0 0 0 0 0 0 0 0 0 0 0 0 0 0 0 0 0 0 0 0 0 0 0 0 0 0 0 0 0 0 0 0 0 0 0 0 0 0 0 0 0 0 0 0 0 0 0 0 0 0 0 0 0 0 0\n",
            "05/17/2022 12:49:34 - INFO - utils_ner - segment_ids: 0 0 0 0 0 0 0 0 0 0 0 0 0 0 0 0 0 0 0 0 0 0 0 0 0 0 0 0 0 0 0 0 0 0 0 0 0 0 0 0 0 0 0 0 0 0 0 0 0 0 0 0 0 0 0 0 0 0 0 0 0 0 0 0 0 0 0 0 0 0 0 0 0 0 0 0 0 0 0 0 0 0 0 0 0 0 0 0 0 0 0 0 0 0 0 0 0 0 0 0 0 0 0 0 0 0 0 0 0 0 0 0 0 0 0 0 0 0 0 0 0 0 0 0 0 0 0 0\n",
            "05/17/2022 12:49:34 - INFO - utils_ner - label_ids: -100 24 24 24 24 -100 24 -100 24 24 24 -100 -100 24 24 24 24 24 -100 -100 24 -100 -100 -100 -100 -100 -100 -100 -100 -100 -100 -100 -100 -100 -100 -100 -100 -100 -100 -100 -100 -100 -100 -100 -100 -100 -100 -100 -100 -100 -100 -100 -100 -100 -100 -100 -100 -100 -100 -100 -100 -100 -100 -100 -100 -100 -100 -100 -100 -100 -100 -100 -100 -100 -100 -100 -100 -100 -100 -100 -100 -100 -100 -100 -100 -100 -100 -100 -100 -100 -100 -100 -100 -100 -100 -100 -100 -100 -100 -100 -100 -100 -100 -100 -100 -100 -100 -100 -100 -100 -100 -100 -100 -100 -100 -100 -100 -100 -100 -100 -100 -100 -100 -100 -100 -100 -100 -100\n",
            "05/17/2022 12:49:42 - INFO - utils_ner - Writing example 10000 of 24000\n",
            "05/17/2022 12:49:50 - INFO - utils_ner - Writing example 20000 of 24000\n",
            "05/17/2022 12:49:53 - INFO - utils_ner - Saving features into cached file /tmp/germeval2014/cached_train_BertTokenizer_128\n",
            "05/17/2022 12:49:58 - INFO - utils_ner - Creating features from dataset file at /tmp/germeval2014\n",
            "05/17/2022 12:49:58 - INFO - utils_ner - Writing example 0 of 2200\n",
            "05/17/2022 12:49:58 - INFO - utils_ner - *** Example ***\n",
            "05/17/2022 12:49:58 - INFO - utils_ner - guid: dev-1\n",
            "05/17/2022 12:49:58 - INFO - utils_ner - tokens: [CLS] G ##leich darauf ent ##wir ##ft er seine Se ##lb ##st ##dar ##stellung \" E ##cce homo \" in enger Auseinandersetzung mit diesem Bild Jesu . [SEP]\n",
            "05/17/2022 12:49:58 - INFO - utils_ner - input_ids: 101 144 64335 20345 61047 86764 12961 10163 11493 11045 70832 10562 15460 29526 107 142 48798 96177 107 10106 31059 103918 10221 14001 30001 46957 119 102 0 0 0 0 0 0 0 0 0 0 0 0 0 0 0 0 0 0 0 0 0 0 0 0 0 0 0 0 0 0 0 0 0 0 0 0 0 0 0 0 0 0 0 0 0 0 0 0 0 0 0 0 0 0 0 0 0 0 0 0 0 0 0 0 0 0 0 0 0 0 0 0 0 0 0 0 0 0 0 0 0 0 0 0 0 0 0 0 0 0 0 0 0 0 0 0 0 0 0 0\n",
            "05/17/2022 12:49:58 - INFO - utils_ner - input_mask: 1 1 1 1 1 1 1 1 1 1 1 1 1 1 1 1 1 1 1 1 1 1 1 1 1 1 1 1 0 0 0 0 0 0 0 0 0 0 0 0 0 0 0 0 0 0 0 0 0 0 0 0 0 0 0 0 0 0 0 0 0 0 0 0 0 0 0 0 0 0 0 0 0 0 0 0 0 0 0 0 0 0 0 0 0 0 0 0 0 0 0 0 0 0 0 0 0 0 0 0 0 0 0 0 0 0 0 0 0 0 0 0 0 0 0 0 0 0 0 0 0 0 0 0 0 0 0 0\n",
            "05/17/2022 12:49:58 - INFO - utils_ner - segment_ids: 0 0 0 0 0 0 0 0 0 0 0 0 0 0 0 0 0 0 0 0 0 0 0 0 0 0 0 0 0 0 0 0 0 0 0 0 0 0 0 0 0 0 0 0 0 0 0 0 0 0 0 0 0 0 0 0 0 0 0 0 0 0 0 0 0 0 0 0 0 0 0 0 0 0 0 0 0 0 0 0 0 0 0 0 0 0 0 0 0 0 0 0 0 0 0 0 0 0 0 0 0 0 0 0 0 0 0 0 0 0 0 0 0 0 0 0 0 0 0 0 0 0 0 0 0 0 0 0\n",
            "05/17/2022 12:49:58 - INFO - utils_ner - label_ids: -100 24 -100 24 24 -100 -100 24 24 24 -100 -100 -100 -100 24 6 -100 18 24 24 24 24 24 24 24 9 24 -100 -100 -100 -100 -100 -100 -100 -100 -100 -100 -100 -100 -100 -100 -100 -100 -100 -100 -100 -100 -100 -100 -100 -100 -100 -100 -100 -100 -100 -100 -100 -100 -100 -100 -100 -100 -100 -100 -100 -100 -100 -100 -100 -100 -100 -100 -100 -100 -100 -100 -100 -100 -100 -100 -100 -100 -100 -100 -100 -100 -100 -100 -100 -100 -100 -100 -100 -100 -100 -100 -100 -100 -100 -100 -100 -100 -100 -100 -100 -100 -100 -100 -100 -100 -100 -100 -100 -100 -100 -100 -100 -100 -100 -100 -100 -100 -100 -100 -100 -100 -100\n",
            "05/17/2022 12:49:58 - INFO - utils_ner - *** Example ***\n",
            "05/17/2022 12:49:58 - INFO - utils_ner - guid: dev-2\n",
            "05/17/2022 12:49:58 - INFO - utils_ner - tokens: [CLS] 1980 kam der Crown als Versuch von Toyota , sich in der Ober ##en Mittel ##klasse zu eta ##bli ##eren , auch nach Deutschland . [SEP]\n",
            "05/17/2022 12:49:58 - INFO - utils_ner - input_ids: 101 10538 12438 10118 25614 10223 51865 10166 28995 117 10372 10106 10118 76351 10136 48736 43638 10304 10408 48850 13653 117 10515 10496 13011 119 102 0 0 0 0 0 0 0 0 0 0 0 0 0 0 0 0 0 0 0 0 0 0 0 0 0 0 0 0 0 0 0 0 0 0 0 0 0 0 0 0 0 0 0 0 0 0 0 0 0 0 0 0 0 0 0 0 0 0 0 0 0 0 0 0 0 0 0 0 0 0 0 0 0 0 0 0 0 0 0 0 0 0 0 0 0 0 0 0 0 0 0 0 0 0 0 0 0 0 0 0 0\n",
            "05/17/2022 12:49:58 - INFO - utils_ner - input_mask: 1 1 1 1 1 1 1 1 1 1 1 1 1 1 1 1 1 1 1 1 1 1 1 1 1 1 1 0 0 0 0 0 0 0 0 0 0 0 0 0 0 0 0 0 0 0 0 0 0 0 0 0 0 0 0 0 0 0 0 0 0 0 0 0 0 0 0 0 0 0 0 0 0 0 0 0 0 0 0 0 0 0 0 0 0 0 0 0 0 0 0 0 0 0 0 0 0 0 0 0 0 0 0 0 0 0 0 0 0 0 0 0 0 0 0 0 0 0 0 0 0 0 0 0 0 0 0 0\n",
            "05/17/2022 12:49:58 - INFO - utils_ner - segment_ids: 0 0 0 0 0 0 0 0 0 0 0 0 0 0 0 0 0 0 0 0 0 0 0 0 0 0 0 0 0 0 0 0 0 0 0 0 0 0 0 0 0 0 0 0 0 0 0 0 0 0 0 0 0 0 0 0 0 0 0 0 0 0 0 0 0 0 0 0 0 0 0 0 0 0 0 0 0 0 0 0 0 0 0 0 0 0 0 0 0 0 0 0 0 0 0 0 0 0 0 0 0 0 0 0 0 0 0 0 0 0 0 0 0 0 0 0 0 0 0 0 0 0 0 0 0 0 0 0\n",
            "05/17/2022 12:49:58 - INFO - utils_ner - label_ids: -100 24 24 24 6 24 24 24 3 24 24 24 24 24 -100 24 -100 24 24 -100 -100 24 24 24 0 24 -100 -100 -100 -100 -100 -100 -100 -100 -100 -100 -100 -100 -100 -100 -100 -100 -100 -100 -100 -100 -100 -100 -100 -100 -100 -100 -100 -100 -100 -100 -100 -100 -100 -100 -100 -100 -100 -100 -100 -100 -100 -100 -100 -100 -100 -100 -100 -100 -100 -100 -100 -100 -100 -100 -100 -100 -100 -100 -100 -100 -100 -100 -100 -100 -100 -100 -100 -100 -100 -100 -100 -100 -100 -100 -100 -100 -100 -100 -100 -100 -100 -100 -100 -100 -100 -100 -100 -100 -100 -100 -100 -100 -100 -100 -100 -100 -100 -100 -100 -100 -100 -100\n",
            "05/17/2022 12:49:58 - INFO - utils_ner - *** Example ***\n",
            "05/17/2022 12:49:58 - INFO - utils_ner - guid: dev-3\n",
            "05/17/2022 12:49:58 - INFO - utils_ner - tokens: [CLS] [UNK] 4 : 26 # Some ##time A ##go / La Fiesta [UNK] 23 : 18 Alle Stücke wurden von Corea kom ##pon ##iert mit Ausnahme der ein ##lei ##tende ##n Im ##pro ##visa ##tion zu Some ##time A ##go . [SEP]\n",
            "05/17/2022 12:49:58 - INFO - utils_ner - input_ids: 101 100 125 131 10314 108 13885 18086 138 10797 120 10159 60688 100 10328 131 10218 17996 67418 10995 10166 29849 12240 27119 12607 10221 62687 10118 10290 36777 58503 10115 10796 73099 48367 10822 10304 13885 18086 138 10797 119 102 0 0 0 0 0 0 0 0 0 0 0 0 0 0 0 0 0 0 0 0 0 0 0 0 0 0 0 0 0 0 0 0 0 0 0 0 0 0 0 0 0 0 0 0 0 0 0 0 0 0 0 0 0 0 0 0 0 0 0 0 0 0 0 0 0 0 0 0 0 0 0 0 0 0 0 0 0 0 0 0 0 0 0 0 0\n",
            "05/17/2022 12:49:58 - INFO - utils_ner - input_mask: 1 1 1 1 1 1 1 1 1 1 1 1 1 1 1 1 1 1 1 1 1 1 1 1 1 1 1 1 1 1 1 1 1 1 1 1 1 1 1 1 1 1 1 0 0 0 0 0 0 0 0 0 0 0 0 0 0 0 0 0 0 0 0 0 0 0 0 0 0 0 0 0 0 0 0 0 0 0 0 0 0 0 0 0 0 0 0 0 0 0 0 0 0 0 0 0 0 0 0 0 0 0 0 0 0 0 0 0 0 0 0 0 0 0 0 0 0 0 0 0 0 0 0 0 0 0 0 0\n",
            "05/17/2022 12:49:58 - INFO - utils_ner - segment_ids: 0 0 0 0 0 0 0 0 0 0 0 0 0 0 0 0 0 0 0 0 0 0 0 0 0 0 0 0 0 0 0 0 0 0 0 0 0 0 0 0 0 0 0 0 0 0 0 0 0 0 0 0 0 0 0 0 0 0 0 0 0 0 0 0 0 0 0 0 0 0 0 0 0 0 0 0 0 0 0 0 0 0 0 0 0 0 0 0 0 0 0 0 0 0 0 0 0 0 0 0 0 0 0 0 0 0 0 0 0 0 0 0 0 0 0 0 0 0 0 0 0 0 0 0 0 0 0 0\n",
            "05/17/2022 12:49:58 - INFO - utils_ner - label_ids: -100 24 24 -100 -100 24 6 -100 18 -100 -100 -100 18 24 24 -100 -100 24 24 24 24 9 24 -100 -100 24 24 24 24 -100 -100 -100 24 -100 -100 -100 24 6 -100 18 -100 24 -100 -100 -100 -100 -100 -100 -100 -100 -100 -100 -100 -100 -100 -100 -100 -100 -100 -100 -100 -100 -100 -100 -100 -100 -100 -100 -100 -100 -100 -100 -100 -100 -100 -100 -100 -100 -100 -100 -100 -100 -100 -100 -100 -100 -100 -100 -100 -100 -100 -100 -100 -100 -100 -100 -100 -100 -100 -100 -100 -100 -100 -100 -100 -100 -100 -100 -100 -100 -100 -100 -100 -100 -100 -100 -100 -100 -100 -100 -100 -100 -100 -100 -100 -100 -100 -100\n",
            "05/17/2022 12:49:58 - INFO - utils_ner - *** Example ***\n",
            "05/17/2022 12:49:58 - INFO - utils_ner - guid: dev-4\n",
            "05/17/2022 12:49:58 - INFO - utils_ner - tokens: [CLS] Bis 2013 st ##eig ##en die Mittel aus dem EU - Budget auf rund 120 Millionen Euro . [SEP]\n",
            "05/17/2022 12:49:58 - INFO - utils_ner - input_ids: 101 18516 10207 28780 68627 10136 10128 48736 10441 10268 17751 118 62967 10329 17075 12048 20219 17526 119 102 0 0 0 0 0 0 0 0 0 0 0 0 0 0 0 0 0 0 0 0 0 0 0 0 0 0 0 0 0 0 0 0 0 0 0 0 0 0 0 0 0 0 0 0 0 0 0 0 0 0 0 0 0 0 0 0 0 0 0 0 0 0 0 0 0 0 0 0 0 0 0 0 0 0 0 0 0 0 0 0 0 0 0 0 0 0 0 0 0 0 0 0 0 0 0 0 0 0 0 0 0 0 0 0 0 0 0 0\n",
            "05/17/2022 12:49:58 - INFO - utils_ner - input_mask: 1 1 1 1 1 1 1 1 1 1 1 1 1 1 1 1 1 1 1 1 0 0 0 0 0 0 0 0 0 0 0 0 0 0 0 0 0 0 0 0 0 0 0 0 0 0 0 0 0 0 0 0 0 0 0 0 0 0 0 0 0 0 0 0 0 0 0 0 0 0 0 0 0 0 0 0 0 0 0 0 0 0 0 0 0 0 0 0 0 0 0 0 0 0 0 0 0 0 0 0 0 0 0 0 0 0 0 0 0 0 0 0 0 0 0 0 0 0 0 0 0 0 0 0 0 0 0 0\n",
            "05/17/2022 12:49:58 - INFO - utils_ner - segment_ids: 0 0 0 0 0 0 0 0 0 0 0 0 0 0 0 0 0 0 0 0 0 0 0 0 0 0 0 0 0 0 0 0 0 0 0 0 0 0 0 0 0 0 0 0 0 0 0 0 0 0 0 0 0 0 0 0 0 0 0 0 0 0 0 0 0 0 0 0 0 0 0 0 0 0 0 0 0 0 0 0 0 0 0 0 0 0 0 0 0 0 0 0 0 0 0 0 0 0 0 0 0 0 0 0 0 0 0 0 0 0 0 0 0 0 0 0 0 0 0 0 0 0 0 0 0 0 0 0\n",
            "05/17/2022 12:49:58 - INFO - utils_ner - label_ids: -100 24 24 24 -100 -100 24 24 24 24 5 -100 -100 24 24 24 24 6 24 -100 -100 -100 -100 -100 -100 -100 -100 -100 -100 -100 -100 -100 -100 -100 -100 -100 -100 -100 -100 -100 -100 -100 -100 -100 -100 -100 -100 -100 -100 -100 -100 -100 -100 -100 -100 -100 -100 -100 -100 -100 -100 -100 -100 -100 -100 -100 -100 -100 -100 -100 -100 -100 -100 -100 -100 -100 -100 -100 -100 -100 -100 -100 -100 -100 -100 -100 -100 -100 -100 -100 -100 -100 -100 -100 -100 -100 -100 -100 -100 -100 -100 -100 -100 -100 -100 -100 -100 -100 -100 -100 -100 -100 -100 -100 -100 -100 -100 -100 -100 -100 -100 -100 -100 -100 -100 -100 -100 -100\n",
            "05/17/2022 12:49:58 - INFO - utils_ner - *** Example ***\n",
            "05/17/2022 12:49:58 - INFO - utils_ner - guid: dev-5\n",
            "05/17/2022 12:49:58 - INFO - utils_ner - tokens: [CLS] Dara ##us entwickelte sich im Rok ##oko die Sitt ##e des gemeinsamen Wein ##ens im Theater , das die Stand ##es ##grenze ##n innerhalb des Publikum ##s über ##brücken sollte . [SEP]\n",
            "05/17/2022 12:49:58 - INFO - utils_ner - input_ids: 101 95621 10251 28069 10372 10211 51588 20954 10128 105987 10112 10139 58090 90462 12457 10211 16223 117 10242 10128 15883 10171 58433 10115 21103 10139 63332 10107 10848 99765 17799 119 102 0 0 0 0 0 0 0 0 0 0 0 0 0 0 0 0 0 0 0 0 0 0 0 0 0 0 0 0 0 0 0 0 0 0 0 0 0 0 0 0 0 0 0 0 0 0 0 0 0 0 0 0 0 0 0 0 0 0 0 0 0 0 0 0 0 0 0 0 0 0 0 0 0 0 0 0 0 0 0 0 0 0 0 0 0 0 0 0 0 0 0 0 0 0 0\n",
            "05/17/2022 12:49:58 - INFO - utils_ner - input_mask: 1 1 1 1 1 1 1 1 1 1 1 1 1 1 1 1 1 1 1 1 1 1 1 1 1 1 1 1 1 1 1 1 1 0 0 0 0 0 0 0 0 0 0 0 0 0 0 0 0 0 0 0 0 0 0 0 0 0 0 0 0 0 0 0 0 0 0 0 0 0 0 0 0 0 0 0 0 0 0 0 0 0 0 0 0 0 0 0 0 0 0 0 0 0 0 0 0 0 0 0 0 0 0 0 0 0 0 0 0 0 0 0 0 0 0 0 0 0 0 0 0 0 0 0 0 0 0 0\n",
            "05/17/2022 12:49:58 - INFO - utils_ner - segment_ids: 0 0 0 0 0 0 0 0 0 0 0 0 0 0 0 0 0 0 0 0 0 0 0 0 0 0 0 0 0 0 0 0 0 0 0 0 0 0 0 0 0 0 0 0 0 0 0 0 0 0 0 0 0 0 0 0 0 0 0 0 0 0 0 0 0 0 0 0 0 0 0 0 0 0 0 0 0 0 0 0 0 0 0 0 0 0 0 0 0 0 0 0 0 0 0 0 0 0 0 0 0 0 0 0 0 0 0 0 0 0 0 0 0 0 0 0 0 0 0 0 0 0 0 0 0 0 0 0\n",
            "05/17/2022 12:49:58 - INFO - utils_ner - label_ids: -100 24 -100 24 24 24 6 -100 24 24 -100 24 24 24 -100 24 24 24 24 24 24 -100 -100 -100 24 24 24 -100 24 -100 24 24 -100 -100 -100 -100 -100 -100 -100 -100 -100 -100 -100 -100 -100 -100 -100 -100 -100 -100 -100 -100 -100 -100 -100 -100 -100 -100 -100 -100 -100 -100 -100 -100 -100 -100 -100 -100 -100 -100 -100 -100 -100 -100 -100 -100 -100 -100 -100 -100 -100 -100 -100 -100 -100 -100 -100 -100 -100 -100 -100 -100 -100 -100 -100 -100 -100 -100 -100 -100 -100 -100 -100 -100 -100 -100 -100 -100 -100 -100 -100 -100 -100 -100 -100 -100 -100 -100 -100 -100 -100 -100 -100 -100 -100 -100 -100 -100\n",
            "05/17/2022 12:50:00 - INFO - utils_ner - Saving features into cached file /tmp/germeval2014/cached_dev_BertTokenizer_128\n",
            "/usr/local/lib/python3.7/dist-packages/transformers/trainer.py:1282: FutureWarning: `model_path` is deprecated and will be removed in a future version. Use `resume_from_checkpoint` instead.\n",
            "  FutureWarning,\n",
            "/usr/local/lib/python3.7/dist-packages/transformers/optimization.py:309: FutureWarning: This implementation of AdamW is deprecated and will be removed in a future version. Use the PyTorch implementation torch.optim.AdamW instead, or set `no_deprecation_warning=True` to disable this warning\n",
            "  FutureWarning,\n",
            "[INFO|trainer.py:1419] 2022-05-17 12:50:14,530 >> ***** Running training *****\n",
            "[INFO|trainer.py:1420] 2022-05-17 12:50:14,530 >>   Num examples = 24000\n",
            "[INFO|trainer.py:1421] 2022-05-17 12:50:14,530 >>   Num Epochs = 3\n",
            "[INFO|trainer.py:1422] 2022-05-17 12:50:14,530 >>   Instantaneous batch size per device = 32\n",
            "[INFO|trainer.py:1423] 2022-05-17 12:50:14,530 >>   Total train batch size (w. parallel, distributed & accumulation) = 32\n",
            "[INFO|trainer.py:1424] 2022-05-17 12:50:14,530 >>   Gradient Accumulation steps = 1\n",
            "[INFO|trainer.py:1425] 2022-05-17 12:50:14,530 >>   Total optimization steps = 2250\n",
            "{'loss': 0.1272, 'learning_rate': 3.888888888888889e-05, 'epoch': 0.67}\n",
            " 33% 750/2250 [08:25<16:58,  1.47it/s][INFO|trainer.py:2340] 2022-05-17 12:58:39,711 >> Saving model checkpoint to /tmp/ner-germeval2014/checkpoint-750\n",
            "[INFO|configuration_utils.py:446] 2022-05-17 12:58:39,712 >> Configuration saved in /tmp/ner-germeval2014/checkpoint-750/config.json\n",
            "[INFO|modeling_utils.py:1542] 2022-05-17 12:58:42,272 >> Model weights saved in /tmp/ner-germeval2014/checkpoint-750/pytorch_model.bin\n",
            "{'loss': 0.0636, 'learning_rate': 2.777777777777778e-05, 'epoch': 1.33}\n",
            "{'loss': 0.0448, 'learning_rate': 1.6666666666666667e-05, 'epoch': 2.0}\n",
            " 67% 1500/2250 [17:03<08:32,  1.46it/s][INFO|trainer.py:2340] 2022-05-17 13:07:18,003 >> Saving model checkpoint to /tmp/ner-germeval2014/checkpoint-1500\n",
            "[INFO|configuration_utils.py:446] 2022-05-17 13:07:18,004 >> Configuration saved in /tmp/ner-germeval2014/checkpoint-1500/config.json\n",
            "[INFO|modeling_utils.py:1542] 2022-05-17 13:07:20,446 >> Model weights saved in /tmp/ner-germeval2014/checkpoint-1500/pytorch_model.bin\n",
            "{'loss': 0.0256, 'learning_rate': 5.555555555555556e-06, 'epoch': 2.67}\n",
            "100% 2250/2250 [25:41<00:00,  1.48it/s][INFO|trainer.py:2340] 2022-05-17 13:15:55,990 >> Saving model checkpoint to /tmp/ner-germeval2014/checkpoint-2250\n",
            "[INFO|configuration_utils.py:446] 2022-05-17 13:15:55,991 >> Configuration saved in /tmp/ner-germeval2014/checkpoint-2250/config.json\n",
            "[INFO|modeling_utils.py:1542] 2022-05-17 13:15:58,551 >> Model weights saved in /tmp/ner-germeval2014/checkpoint-2250/pytorch_model.bin\n",
            "[INFO|trainer.py:1662] 2022-05-17 13:16:04,203 >> \n",
            "\n",
            "Training completed. Do not forget to share your model on huggingface.co/models =)\n",
            "\n",
            "\n",
            "{'train_runtime': 1549.6726, 'train_samples_per_second': 46.461, 'train_steps_per_second': 1.452, 'train_loss': 0.06061734241909451, 'epoch': 3.0}\n",
            "100% 2250/2250 [25:49<00:00,  1.45it/s]\n",
            "[INFO|trainer.py:2340] 2022-05-17 13:16:04,204 >> Saving model checkpoint to /tmp/ner-germeval2014\n",
            "[INFO|configuration_utils.py:446] 2022-05-17 13:16:04,206 >> Configuration saved in /tmp/ner-germeval2014/config.json\n",
            "[INFO|modeling_utils.py:1542] 2022-05-17 13:16:07,040 >> Model weights saved in /tmp/ner-germeval2014/pytorch_model.bin\n",
            "[INFO|tokenization_utils_base.py:2108] 2022-05-17 13:16:07,041 >> tokenizer config file saved in /tmp/ner-germeval2014/tokenizer_config.json\n",
            "[INFO|tokenization_utils_base.py:2114] 2022-05-17 13:16:07,042 >> Special tokens file saved in /tmp/ner-germeval2014/special_tokens_map.json\n",
            "05/17/2022 13:16:07 - INFO - __main__ - *** Evaluate ***\n",
            "[INFO|trainer.py:2590] 2022-05-17 13:16:07,125 >> ***** Running Evaluation *****\n",
            "[INFO|trainer.py:2592] 2022-05-17 13:16:07,125 >>   Num examples = 2200\n",
            "[INFO|trainer.py:2595] 2022-05-17 13:16:07,125 >>   Batch size = 8\n",
            "100% 275/275 [00:22<00:00, 12.31it/s]\n",
            "05/17/2022 13:16:29 - INFO - __main__ - ***** Eval results *****\n",
            "05/17/2022 13:16:29 - INFO - __main__ -   eval_loss = 0.07414335757493973\n",
            "05/17/2022 13:16:29 - INFO - __main__ -   eval_accuracy_score = 0.981393450494574\n",
            "05/17/2022 13:16:29 - INFO - __main__ -   eval_precision = 0.8445318084345962\n",
            "05/17/2022 13:16:29 - INFO - __main__ -   eval_recall = 0.8836948391922214\n",
            "05/17/2022 13:16:29 - INFO - __main__ -   eval_f1 = 0.8636695906432749\n",
            "05/17/2022 13:16:29 - INFO - __main__ -   eval_runtime = 22.4736\n",
            "05/17/2022 13:16:29 - INFO - __main__ -   eval_samples_per_second = 97.893\n",
            "05/17/2022 13:16:29 - INFO - __main__ -   eval_steps_per_second = 12.237\n",
            "05/17/2022 13:16:29 - INFO - __main__ -   epoch = 3.0\n",
            "05/17/2022 13:16:29 - INFO - utils_ner - Creating features from dataset file at /tmp/germeval2014\n",
            "05/17/2022 13:16:29 - INFO - utils_ner - Writing example 0 of 5100\n",
            "05/17/2022 13:16:29 - INFO - utils_ner - *** Example ***\n",
            "05/17/2022 13:16:29 - INFO - utils_ner - guid: test-1\n",
            "05/17/2022 13:16:29 - INFO - utils_ner - tokens: [CLS] 1951 bis 1953 wurde der nördlich ##e Teil als Jugend ##burg des Ko ##lp ##ing ##werke ##s gebaut . [SEP]\n",
            "05/17/2022 13:16:29 - INFO - utils_ner - input_ids: 101 11200 10467 11087 10283 10118 28253 10112 13043 10223 32790 12248 10139 30186 35451 10230 32827 10107 25760 119 102 0 0 0 0 0 0 0 0 0 0 0 0 0 0 0 0 0 0 0 0 0 0 0 0 0 0 0 0 0 0 0 0 0 0 0 0 0 0 0 0 0 0 0 0 0 0 0 0 0 0 0 0 0 0 0 0 0 0 0 0 0 0 0 0 0 0 0 0 0 0 0 0 0 0 0 0 0 0 0 0 0 0 0 0 0 0 0 0 0 0 0 0 0 0 0 0 0 0 0 0 0 0 0 0 0 0 0\n",
            "05/17/2022 13:16:29 - INFO - utils_ner - input_mask: 1 1 1 1 1 1 1 1 1 1 1 1 1 1 1 1 1 1 1 1 1 0 0 0 0 0 0 0 0 0 0 0 0 0 0 0 0 0 0 0 0 0 0 0 0 0 0 0 0 0 0 0 0 0 0 0 0 0 0 0 0 0 0 0 0 0 0 0 0 0 0 0 0 0 0 0 0 0 0 0 0 0 0 0 0 0 0 0 0 0 0 0 0 0 0 0 0 0 0 0 0 0 0 0 0 0 0 0 0 0 0 0 0 0 0 0 0 0 0 0 0 0 0 0 0 0 0 0\n",
            "05/17/2022 13:16:29 - INFO - utils_ner - segment_ids: 0 0 0 0 0 0 0 0 0 0 0 0 0 0 0 0 0 0 0 0 0 0 0 0 0 0 0 0 0 0 0 0 0 0 0 0 0 0 0 0 0 0 0 0 0 0 0 0 0 0 0 0 0 0 0 0 0 0 0 0 0 0 0 0 0 0 0 0 0 0 0 0 0 0 0 0 0 0 0 0 0 0 0 0 0 0 0 0 0 0 0 0 0 0 0 0 0 0 0 0 0 0 0 0 0 0 0 0 0 0 0 0 0 0 0 0 0 0 0 0 0 0 0 0 0 0 0 0\n",
            "05/17/2022 13:16:29 - INFO - utils_ner - label_ids: -100 24 24 24 24 24 24 -100 24 24 24 -100 24 6 -100 -100 -100 -100 24 24 -100 -100 -100 -100 -100 -100 -100 -100 -100 -100 -100 -100 -100 -100 -100 -100 -100 -100 -100 -100 -100 -100 -100 -100 -100 -100 -100 -100 -100 -100 -100 -100 -100 -100 -100 -100 -100 -100 -100 -100 -100 -100 -100 -100 -100 -100 -100 -100 -100 -100 -100 -100 -100 -100 -100 -100 -100 -100 -100 -100 -100 -100 -100 -100 -100 -100 -100 -100 -100 -100 -100 -100 -100 -100 -100 -100 -100 -100 -100 -100 -100 -100 -100 -100 -100 -100 -100 -100 -100 -100 -100 -100 -100 -100 -100 -100 -100 -100 -100 -100 -100 -100 -100 -100 -100 -100 -100 -100\n",
            "05/17/2022 13:16:29 - INFO - utils_ner - *** Example ***\n",
            "05/17/2022 13:16:29 - INFO - utils_ner - guid: test-2\n",
            "05/17/2022 13:16:29 - INFO - utils_ner - tokens: [CLS] Da Mu ##ck das Krieg ##ss ##chreiben nicht über ##bra ##cht hat , wird er als Re ##tter des Landes ausgezeichnet und soll zum Sc ##hat ##zm ##eister ernannt werden . [SEP]\n",
            "05/17/2022 13:16:29 - INFO - utils_ner - input_ids: 101 11818 49056 11263 10242 20587 13420 82089 10726 10848 13581 11640 11250 117 10790 10163 10223 20304 18413 10139 23244 32149 10130 17375 10580 55260 19180 37661 45940 27093 10615 119 102 0 0 0 0 0 0 0 0 0 0 0 0 0 0 0 0 0 0 0 0 0 0 0 0 0 0 0 0 0 0 0 0 0 0 0 0 0 0 0 0 0 0 0 0 0 0 0 0 0 0 0 0 0 0 0 0 0 0 0 0 0 0 0 0 0 0 0 0 0 0 0 0 0 0 0 0 0 0 0 0 0 0 0 0 0 0 0 0 0 0 0 0 0 0 0\n",
            "05/17/2022 13:16:29 - INFO - utils_ner - input_mask: 1 1 1 1 1 1 1 1 1 1 1 1 1 1 1 1 1 1 1 1 1 1 1 1 1 1 1 1 1 1 1 1 1 0 0 0 0 0 0 0 0 0 0 0 0 0 0 0 0 0 0 0 0 0 0 0 0 0 0 0 0 0 0 0 0 0 0 0 0 0 0 0 0 0 0 0 0 0 0 0 0 0 0 0 0 0 0 0 0 0 0 0 0 0 0 0 0 0 0 0 0 0 0 0 0 0 0 0 0 0 0 0 0 0 0 0 0 0 0 0 0 0 0 0 0 0 0 0\n",
            "05/17/2022 13:16:29 - INFO - utils_ner - segment_ids: 0 0 0 0 0 0 0 0 0 0 0 0 0 0 0 0 0 0 0 0 0 0 0 0 0 0 0 0 0 0 0 0 0 0 0 0 0 0 0 0 0 0 0 0 0 0 0 0 0 0 0 0 0 0 0 0 0 0 0 0 0 0 0 0 0 0 0 0 0 0 0 0 0 0 0 0 0 0 0 0 0 0 0 0 0 0 0 0 0 0 0 0 0 0 0 0 0 0 0 0 0 0 0 0 0 0 0 0 0 0 0 0 0 0 0 0 0 0 0 0 0 0 0 0 0 0 0 0\n",
            "05/17/2022 13:16:29 - INFO - utils_ner - label_ids: -100 24 9 -100 24 24 -100 -100 24 24 -100 -100 24 24 24 24 24 24 -100 24 24 24 24 24 24 24 -100 -100 -100 24 24 24 -100 -100 -100 -100 -100 -100 -100 -100 -100 -100 -100 -100 -100 -100 -100 -100 -100 -100 -100 -100 -100 -100 -100 -100 -100 -100 -100 -100 -100 -100 -100 -100 -100 -100 -100 -100 -100 -100 -100 -100 -100 -100 -100 -100 -100 -100 -100 -100 -100 -100 -100 -100 -100 -100 -100 -100 -100 -100 -100 -100 -100 -100 -100 -100 -100 -100 -100 -100 -100 -100 -100 -100 -100 -100 -100 -100 -100 -100 -100 -100 -100 -100 -100 -100 -100 -100 -100 -100 -100 -100 -100 -100 -100 -100 -100 -100\n",
            "05/17/2022 13:16:29 - INFO - utils_ner - *** Example ***\n",
            "05/17/2022 13:16:29 - INFO - utils_ner - guid: test-3\n",
            "05/17/2022 13:16:29 - INFO - utils_ner - tokens: [CLS] Mit 1 . Jänner 2007 wurde Robert Sc ##h ##ör ##gen ##hof ##er , als Nachfolger des aus ##ges ##chie ##dene ##n Dietmar Dr ##abe ##k , in die Kader ##liste der FIFA - Sc ##hie ##ds ##richter aufgenommen . [SEP]\n",
            "05/17/2022 13:16:29 - INFO - utils_ner - input_ids: 101 12699 122 119 105531 10202 10283 10820 55260 10237 15020 11280 20202 10165 117 10223 27968 10139 10441 13156 50784 49906 10115 102411 11612 40929 10174 117 10106 10128 53361 26719 10118 13707 118 55260 72287 13268 59410 25919 119 102 0 0 0 0 0 0 0 0 0 0 0 0 0 0 0 0 0 0 0 0 0 0 0 0 0 0 0 0 0 0 0 0 0 0 0 0 0 0 0 0 0 0 0 0 0 0 0 0 0 0 0 0 0 0 0 0 0 0 0 0 0 0 0 0 0 0 0 0 0 0 0 0 0 0 0 0 0 0 0 0 0 0 0 0 0 0\n",
            "05/17/2022 13:16:29 - INFO - utils_ner - input_mask: 1 1 1 1 1 1 1 1 1 1 1 1 1 1 1 1 1 1 1 1 1 1 1 1 1 1 1 1 1 1 1 1 1 1 1 1 1 1 1 1 1 1 0 0 0 0 0 0 0 0 0 0 0 0 0 0 0 0 0 0 0 0 0 0 0 0 0 0 0 0 0 0 0 0 0 0 0 0 0 0 0 0 0 0 0 0 0 0 0 0 0 0 0 0 0 0 0 0 0 0 0 0 0 0 0 0 0 0 0 0 0 0 0 0 0 0 0 0 0 0 0 0 0 0 0 0 0 0\n",
            "05/17/2022 13:16:29 - INFO - utils_ner - segment_ids: 0 0 0 0 0 0 0 0 0 0 0 0 0 0 0 0 0 0 0 0 0 0 0 0 0 0 0 0 0 0 0 0 0 0 0 0 0 0 0 0 0 0 0 0 0 0 0 0 0 0 0 0 0 0 0 0 0 0 0 0 0 0 0 0 0 0 0 0 0 0 0 0 0 0 0 0 0 0 0 0 0 0 0 0 0 0 0 0 0 0 0 0 0 0 0 0 0 0 0 0 0 0 0 0 0 0 0 0 0 0 0 0 0 0 0 0 0 0 0 0 0 0 0 0 0 0 0 0\n",
            "05/17/2022 13:16:29 - INFO - utils_ner - label_ids: -100 24 24 -100 24 24 24 9 21 -100 -100 -100 -100 -100 24 24 24 24 24 -100 -100 -100 -100 9 21 -100 -100 24 24 24 24 -100 24 5 -100 -100 -100 -100 -100 24 24 -100 -100 -100 -100 -100 -100 -100 -100 -100 -100 -100 -100 -100 -100 -100 -100 -100 -100 -100 -100 -100 -100 -100 -100 -100 -100 -100 -100 -100 -100 -100 -100 -100 -100 -100 -100 -100 -100 -100 -100 -100 -100 -100 -100 -100 -100 -100 -100 -100 -100 -100 -100 -100 -100 -100 -100 -100 -100 -100 -100 -100 -100 -100 -100 -100 -100 -100 -100 -100 -100 -100 -100 -100 -100 -100 -100 -100 -100 -100 -100 -100 -100 -100 -100 -100 -100 -100\n",
            "05/17/2022 13:16:29 - INFO - utils_ner - *** Example ***\n",
            "05/17/2022 13:16:29 - INFO - utils_ner - guid: test-4\n",
            "05/17/2022 13:16:29 - INFO - utils_ner - tokens: [CLS] Die These , Sc ##hla ##tter sei Anti ##sem ##it gewesen , wurde seither in der theo ##logischen Fach ##lite ##ratu ##r nicht mehr vertreten . [SEP]\n",
            "05/17/2022 13:16:29 - INFO - utils_ner - input_ids: 101 10236 13252 117 55260 74935 18413 13868 26267 38443 10486 27044 117 10283 85983 10106 10118 13951 57325 100705 66289 50088 10129 10726 12471 41852 119 102 0 0 0 0 0 0 0 0 0 0 0 0 0 0 0 0 0 0 0 0 0 0 0 0 0 0 0 0 0 0 0 0 0 0 0 0 0 0 0 0 0 0 0 0 0 0 0 0 0 0 0 0 0 0 0 0 0 0 0 0 0 0 0 0 0 0 0 0 0 0 0 0 0 0 0 0 0 0 0 0 0 0 0 0 0 0 0 0 0 0 0 0 0 0 0 0 0 0 0 0\n",
            "05/17/2022 13:16:29 - INFO - utils_ner - input_mask: 1 1 1 1 1 1 1 1 1 1 1 1 1 1 1 1 1 1 1 1 1 1 1 1 1 1 1 1 0 0 0 0 0 0 0 0 0 0 0 0 0 0 0 0 0 0 0 0 0 0 0 0 0 0 0 0 0 0 0 0 0 0 0 0 0 0 0 0 0 0 0 0 0 0 0 0 0 0 0 0 0 0 0 0 0 0 0 0 0 0 0 0 0 0 0 0 0 0 0 0 0 0 0 0 0 0 0 0 0 0 0 0 0 0 0 0 0 0 0 0 0 0 0 0 0 0 0 0\n",
            "05/17/2022 13:16:29 - INFO - utils_ner - segment_ids: 0 0 0 0 0 0 0 0 0 0 0 0 0 0 0 0 0 0 0 0 0 0 0 0 0 0 0 0 0 0 0 0 0 0 0 0 0 0 0 0 0 0 0 0 0 0 0 0 0 0 0 0 0 0 0 0 0 0 0 0 0 0 0 0 0 0 0 0 0 0 0 0 0 0 0 0 0 0 0 0 0 0 0 0 0 0 0 0 0 0 0 0 0 0 0 0 0 0 0 0 0 0 0 0 0 0 0 0 0 0 0 0 0 0 0 0 0 0 0 0 0 0 0 0 0 0 0 0\n",
            "05/17/2022 13:16:29 - INFO - utils_ner - label_ids: -100 24 24 24 9 -100 -100 24 24 -100 -100 24 24 24 24 24 24 24 -100 24 -100 -100 -100 24 24 24 24 -100 -100 -100 -100 -100 -100 -100 -100 -100 -100 -100 -100 -100 -100 -100 -100 -100 -100 -100 -100 -100 -100 -100 -100 -100 -100 -100 -100 -100 -100 -100 -100 -100 -100 -100 -100 -100 -100 -100 -100 -100 -100 -100 -100 -100 -100 -100 -100 -100 -100 -100 -100 -100 -100 -100 -100 -100 -100 -100 -100 -100 -100 -100 -100 -100 -100 -100 -100 -100 -100 -100 -100 -100 -100 -100 -100 -100 -100 -100 -100 -100 -100 -100 -100 -100 -100 -100 -100 -100 -100 -100 -100 -100 -100 -100 -100 -100 -100 -100 -100 -100\n",
            "05/17/2022 13:16:29 - INFO - utils_ner - *** Example ***\n",
            "05/17/2022 13:16:29 - INFO - utils_ner - guid: test-5\n",
            "05/17/2022 13:16:29 - INFO - utils_ner - tokens: [CLS] \" Le ##hm ##bru ##ck - Be ##uy ##s . Zeichnungen \" lautet der Titel der gerade eröffnete ##n Ausstellung , die Kur ##atori ##n Dr . Marion Born ##sche ##uer bis zum 11 . Januar im Le ##hm ##bru ##ck - Museum präsentiert . [SEP]\n",
            "05/17/2022 13:16:29 - INFO - utils_ner - input_ids: 101 107 10281 29389 40309 11263 118 14321 53452 10107 119 96784 107 77566 10118 16076 10118 43234 61469 10115 41972 117 10128 61912 45804 10115 11612 119 27276 18021 12279 19047 10467 10580 10193 119 12468 10211 10281 29389 40309 11263 118 11325 91619 119 102 0 0 0 0 0 0 0 0 0 0 0 0 0 0 0 0 0 0 0 0 0 0 0 0 0 0 0 0 0 0 0 0 0 0 0 0 0 0 0 0 0 0 0 0 0 0 0 0 0 0 0 0 0 0 0 0 0 0 0 0 0 0 0 0 0 0 0 0 0 0 0 0 0 0 0 0 0 0 0 0 0\n",
            "05/17/2022 13:16:29 - INFO - utils_ner - input_mask: 1 1 1 1 1 1 1 1 1 1 1 1 1 1 1 1 1 1 1 1 1 1 1 1 1 1 1 1 1 1 1 1 1 1 1 1 1 1 1 1 1 1 1 1 1 1 1 0 0 0 0 0 0 0 0 0 0 0 0 0 0 0 0 0 0 0 0 0 0 0 0 0 0 0 0 0 0 0 0 0 0 0 0 0 0 0 0 0 0 0 0 0 0 0 0 0 0 0 0 0 0 0 0 0 0 0 0 0 0 0 0 0 0 0 0 0 0 0 0 0 0 0 0 0 0 0 0 0\n",
            "05/17/2022 13:16:29 - INFO - utils_ner - segment_ids: 0 0 0 0 0 0 0 0 0 0 0 0 0 0 0 0 0 0 0 0 0 0 0 0 0 0 0 0 0 0 0 0 0 0 0 0 0 0 0 0 0 0 0 0 0 0 0 0 0 0 0 0 0 0 0 0 0 0 0 0 0 0 0 0 0 0 0 0 0 0 0 0 0 0 0 0 0 0 0 0 0 0 0 0 0 0 0 0 0 0 0 0 0 0 0 0 0 0 0 0 0 0 0 0 0 0 0 0 0 0 0 0 0 0 0 0 0 0 0 0 0 0 0 0 0 0 0 0\n",
            "05/17/2022 13:16:29 - INFO - utils_ner - label_ids: -100 24 6 -100 -100 -100 18 18 -100 -100 18 -100 24 24 24 24 24 24 24 -100 24 24 24 24 -100 -100 24 24 9 21 -100 -100 24 24 24 -100 24 24 3 -100 -100 -100 -100 -100 24 24 -100 -100 -100 -100 -100 -100 -100 -100 -100 -100 -100 -100 -100 -100 -100 -100 -100 -100 -100 -100 -100 -100 -100 -100 -100 -100 -100 -100 -100 -100 -100 -100 -100 -100 -100 -100 -100 -100 -100 -100 -100 -100 -100 -100 -100 -100 -100 -100 -100 -100 -100 -100 -100 -100 -100 -100 -100 -100 -100 -100 -100 -100 -100 -100 -100 -100 -100 -100 -100 -100 -100 -100 -100 -100 -100 -100 -100 -100 -100 -100 -100 -100\n",
            "05/17/2022 13:16:33 - INFO - utils_ner - Saving features into cached file /tmp/germeval2014/cached_test_BertTokenizer_128\n",
            "[INFO|trainer.py:2590] 2022-05-17 13:16:34,695 >> ***** Running Prediction *****\n",
            "[INFO|trainer.py:2592] 2022-05-17 13:16:34,695 >>   Num examples = 5100\n",
            "[INFO|trainer.py:2595] 2022-05-17 13:16:34,695 >>   Batch size = 8\n",
            "100% 638/638 [00:57<00:00, 15.60it/s]05/17/2022 13:17:40 - INFO - __main__ -   test_loss = 0.0697232037782669\n",
            "05/17/2022 13:17:40 - INFO - __main__ -   test_accuracy_score = 0.9832328131152978\n",
            "05/17/2022 13:17:40 - INFO - __main__ -   test_precision = 0.8598070739549839\n",
            "05/17/2022 13:17:40 - INFO - __main__ -   test_recall = 0.8656523146649401\n",
            "05/17/2022 13:17:40 - INFO - __main__ -   test_f1 = 0.862719793515083\n",
            "05/17/2022 13:17:40 - INFO - __main__ -   test_runtime = 54.1932\n",
            "05/17/2022 13:17:40 - INFO - __main__ -   test_samples_per_second = 94.108\n",
            "05/17/2022 13:17:40 - INFO - __main__ -   test_steps_per_second = 11.773\n",
            "100% 638/638 [01:06<00:00,  9.65it/s]\n"
          ]
        }
      ]
    },
    {
      "cell_type": "code",
      "source": [
        "!ls -l /tmp/ner-germeval2014/"
      ],
      "metadata": {
        "colab": {
          "base_uri": "https://localhost:8080/"
        },
        "id": "rRzMqhEICN3M",
        "outputId": "384ce359-1c5e-498f-f510-93930349393f"
      },
      "execution_count": 15,
      "outputs": [
        {
          "output_type": "stream",
          "name": "stdout",
          "text": [
            "total 694440\n",
            "drwxr-xr-x 2 root root      4096 May 17 13:07 checkpoint-1500\n",
            "drwxr-xr-x 2 root root      4096 May 17 13:16 checkpoint-2250\n",
            "drwxr-xr-x 2 root root      4096 May 17 12:58 checkpoint-750\n",
            "-rw-r--r-- 1 root root      1899 May 17 13:16 config.json\n",
            "-rw-r--r-- 1 root root       269 May 17 13:16 eval_results.txt\n",
            "-rw-r--r-- 1 root root 709198705 May 17 13:16 pytorch_model.bin\n",
            "drwxr-xr-x 3 root root      4096 May 17 12:50 runs\n",
            "-rw-r--r-- 1 root root       112 May 17 13:16 special_tokens_map.json\n",
            "-rw-r--r-- 1 root root    859809 May 17 13:17 test_predictions.txt\n",
            "-rw-r--r-- 1 root root       256 May 17 13:17 test_results.txt\n",
            "-rw-r--r-- 1 root root       381 May 17 13:16 tokenizer_config.json\n",
            "-rw-r--r-- 1 root root      3183 May 17 13:16 training_args.bin\n",
            "-rw-r--r-- 1 root root    995526 May 17 13:16 vocab.txt\n"
          ]
        }
      ]
    },
    {
      "cell_type": "code",
      "source": [
        "!cat /tmp/ner-germeval2014/eval_results.txt"
      ],
      "metadata": {
        "colab": {
          "base_uri": "https://localhost:8080/"
        },
        "id": "n7jeU6NGE1Qf",
        "outputId": "ef70f16c-6e11-450b-f9e9-4a402f693cf1"
      },
      "execution_count": 16,
      "outputs": [
        {
          "output_type": "stream",
          "name": "stdout",
          "text": [
            "eval_loss = 0.07414335757493973\n",
            "eval_accuracy_score = 0.981393450494574\n",
            "eval_precision = 0.8445318084345962\n",
            "eval_recall = 0.8836948391922214\n",
            "eval_f1 = 0.8636695906432749\n",
            "eval_runtime = 22.4736\n",
            "eval_samples_per_second = 97.893\n",
            "eval_steps_per_second = 12.237\n",
            "epoch = 3.0\n"
          ]
        }
      ]
    },
    {
      "cell_type": "code",
      "source": [
        "!cat /tmp/ner-germeval2014/test_results.txt"
      ],
      "metadata": {
        "colab": {
          "base_uri": "https://localhost:8080/"
        },
        "id": "Hop81qKwkloa",
        "outputId": "310ea7e3-dbcd-4623-a1dc-a6b4073c4ecb"
      },
      "execution_count": 17,
      "outputs": [
        {
          "output_type": "stream",
          "name": "stdout",
          "text": [
            "test_loss = 0.0697232037782669\n",
            "test_accuracy_score = 0.9832328131152978\n",
            "test_precision = 0.8598070739549839\n",
            "test_recall = 0.8656523146649401\n",
            "test_f1 = 0.862719793515083\n",
            "test_runtime = 54.1932\n",
            "test_samples_per_second = 94.108\n",
            "test_steps_per_second = 11.773\n"
          ]
        }
      ]
    }
  ]
}