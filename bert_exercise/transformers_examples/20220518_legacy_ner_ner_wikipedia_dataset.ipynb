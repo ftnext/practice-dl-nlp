{
  "nbformat": 4,
  "nbformat_minor": 0,
  "metadata": {
    "colab": {
      "name": "20220518_transformers_example_legacy_ner_ner-wikipedia-dataset.ipynb",
      "provenance": [],
      "collapsed_sections": [],
      "mount_file_id": "1ItlUL2K5aYGio0nZTbsQ1lKIdZ_hnvav",
      "authorship_tag": "ABX9TyMYzvKlil72NSuBfOFg8UEB",
      "include_colab_link": true
    },
    "kernelspec": {
      "name": "python3",
      "display_name": "Python 3"
    },
    "language_info": {
      "name": "python"
    },
    "accelerator": "GPU",
    "widgets": {
      "application/vnd.jupyter.widget-state+json": {
        "2079aaf83f764e49a82224c845b75c94": {
          "model_module": "@jupyter-widgets/controls",
          "model_name": "HBoxModel",
          "model_module_version": "1.5.0",
          "state": {
            "_dom_classes": [],
            "_model_module": "@jupyter-widgets/controls",
            "_model_module_version": "1.5.0",
            "_model_name": "HBoxModel",
            "_view_count": null,
            "_view_module": "@jupyter-widgets/controls",
            "_view_module_version": "1.5.0",
            "_view_name": "HBoxView",
            "box_style": "",
            "children": [
              "IPY_MODEL_3c8bdf33c5984c54a363050ef721beff",
              "IPY_MODEL_4edbd91313bf4aed984dc3bbc7bc3b47",
              "IPY_MODEL_1376997e3e0545ce88687adccb12dbfa"
            ],
            "layout": "IPY_MODEL_59a67a8db0eb41a8b361befb1672875c"
          }
        },
        "3c8bdf33c5984c54a363050ef721beff": {
          "model_module": "@jupyter-widgets/controls",
          "model_name": "HTMLModel",
          "model_module_version": "1.5.0",
          "state": {
            "_dom_classes": [],
            "_model_module": "@jupyter-widgets/controls",
            "_model_module_version": "1.5.0",
            "_model_name": "HTMLModel",
            "_view_count": null,
            "_view_module": "@jupyter-widgets/controls",
            "_view_module_version": "1.5.0",
            "_view_name": "HTMLView",
            "description": "",
            "description_tooltip": null,
            "layout": "IPY_MODEL_212e7a43688e462bb3668b72e5a73bc5",
            "placeholder": "​",
            "style": "IPY_MODEL_e0f777469a4c4b6e9b61f82a227376a9",
            "value": "Downloading: 100%"
          }
        },
        "4edbd91313bf4aed984dc3bbc7bc3b47": {
          "model_module": "@jupyter-widgets/controls",
          "model_name": "FloatProgressModel",
          "model_module_version": "1.5.0",
          "state": {
            "_dom_classes": [],
            "_model_module": "@jupyter-widgets/controls",
            "_model_module_version": "1.5.0",
            "_model_name": "FloatProgressModel",
            "_view_count": null,
            "_view_module": "@jupyter-widgets/controls",
            "_view_module_version": "1.5.0",
            "_view_name": "ProgressView",
            "bar_style": "success",
            "description": "",
            "description_tooltip": null,
            "layout": "IPY_MODEL_1f468cc87dc84126a7f1847a821fa840",
            "max": 257706,
            "min": 0,
            "orientation": "horizontal",
            "style": "IPY_MODEL_f3eb2dfd171d43ff9060112aead8a298",
            "value": 257706
          }
        },
        "1376997e3e0545ce88687adccb12dbfa": {
          "model_module": "@jupyter-widgets/controls",
          "model_name": "HTMLModel",
          "model_module_version": "1.5.0",
          "state": {
            "_dom_classes": [],
            "_model_module": "@jupyter-widgets/controls",
            "_model_module_version": "1.5.0",
            "_model_name": "HTMLModel",
            "_view_count": null,
            "_view_module": "@jupyter-widgets/controls",
            "_view_module_version": "1.5.0",
            "_view_name": "HTMLView",
            "description": "",
            "description_tooltip": null,
            "layout": "IPY_MODEL_5fa5321fdd93419f8876734834cfbaaa",
            "placeholder": "​",
            "style": "IPY_MODEL_ff1ec743666040929a6cf344d0d09004",
            "value": " 252k/252k [00:00&lt;00:00, 1.43MB/s]"
          }
        },
        "59a67a8db0eb41a8b361befb1672875c": {
          "model_module": "@jupyter-widgets/base",
          "model_name": "LayoutModel",
          "model_module_version": "1.2.0",
          "state": {
            "_model_module": "@jupyter-widgets/base",
            "_model_module_version": "1.2.0",
            "_model_name": "LayoutModel",
            "_view_count": null,
            "_view_module": "@jupyter-widgets/base",
            "_view_module_version": "1.2.0",
            "_view_name": "LayoutView",
            "align_content": null,
            "align_items": null,
            "align_self": null,
            "border": null,
            "bottom": null,
            "display": null,
            "flex": null,
            "flex_flow": null,
            "grid_area": null,
            "grid_auto_columns": null,
            "grid_auto_flow": null,
            "grid_auto_rows": null,
            "grid_column": null,
            "grid_gap": null,
            "grid_row": null,
            "grid_template_areas": null,
            "grid_template_columns": null,
            "grid_template_rows": null,
            "height": null,
            "justify_content": null,
            "justify_items": null,
            "left": null,
            "margin": null,
            "max_height": null,
            "max_width": null,
            "min_height": null,
            "min_width": null,
            "object_fit": null,
            "object_position": null,
            "order": null,
            "overflow": null,
            "overflow_x": null,
            "overflow_y": null,
            "padding": null,
            "right": null,
            "top": null,
            "visibility": null,
            "width": null
          }
        },
        "212e7a43688e462bb3668b72e5a73bc5": {
          "model_module": "@jupyter-widgets/base",
          "model_name": "LayoutModel",
          "model_module_version": "1.2.0",
          "state": {
            "_model_module": "@jupyter-widgets/base",
            "_model_module_version": "1.2.0",
            "_model_name": "LayoutModel",
            "_view_count": null,
            "_view_module": "@jupyter-widgets/base",
            "_view_module_version": "1.2.0",
            "_view_name": "LayoutView",
            "align_content": null,
            "align_items": null,
            "align_self": null,
            "border": null,
            "bottom": null,
            "display": null,
            "flex": null,
            "flex_flow": null,
            "grid_area": null,
            "grid_auto_columns": null,
            "grid_auto_flow": null,
            "grid_auto_rows": null,
            "grid_column": null,
            "grid_gap": null,
            "grid_row": null,
            "grid_template_areas": null,
            "grid_template_columns": null,
            "grid_template_rows": null,
            "height": null,
            "justify_content": null,
            "justify_items": null,
            "left": null,
            "margin": null,
            "max_height": null,
            "max_width": null,
            "min_height": null,
            "min_width": null,
            "object_fit": null,
            "object_position": null,
            "order": null,
            "overflow": null,
            "overflow_x": null,
            "overflow_y": null,
            "padding": null,
            "right": null,
            "top": null,
            "visibility": null,
            "width": null
          }
        },
        "e0f777469a4c4b6e9b61f82a227376a9": {
          "model_module": "@jupyter-widgets/controls",
          "model_name": "DescriptionStyleModel",
          "model_module_version": "1.5.0",
          "state": {
            "_model_module": "@jupyter-widgets/controls",
            "_model_module_version": "1.5.0",
            "_model_name": "DescriptionStyleModel",
            "_view_count": null,
            "_view_module": "@jupyter-widgets/base",
            "_view_module_version": "1.2.0",
            "_view_name": "StyleView",
            "description_width": ""
          }
        },
        "1f468cc87dc84126a7f1847a821fa840": {
          "model_module": "@jupyter-widgets/base",
          "model_name": "LayoutModel",
          "model_module_version": "1.2.0",
          "state": {
            "_model_module": "@jupyter-widgets/base",
            "_model_module_version": "1.2.0",
            "_model_name": "LayoutModel",
            "_view_count": null,
            "_view_module": "@jupyter-widgets/base",
            "_view_module_version": "1.2.0",
            "_view_name": "LayoutView",
            "align_content": null,
            "align_items": null,
            "align_self": null,
            "border": null,
            "bottom": null,
            "display": null,
            "flex": null,
            "flex_flow": null,
            "grid_area": null,
            "grid_auto_columns": null,
            "grid_auto_flow": null,
            "grid_auto_rows": null,
            "grid_column": null,
            "grid_gap": null,
            "grid_row": null,
            "grid_template_areas": null,
            "grid_template_columns": null,
            "grid_template_rows": null,
            "height": null,
            "justify_content": null,
            "justify_items": null,
            "left": null,
            "margin": null,
            "max_height": null,
            "max_width": null,
            "min_height": null,
            "min_width": null,
            "object_fit": null,
            "object_position": null,
            "order": null,
            "overflow": null,
            "overflow_x": null,
            "overflow_y": null,
            "padding": null,
            "right": null,
            "top": null,
            "visibility": null,
            "width": null
          }
        },
        "f3eb2dfd171d43ff9060112aead8a298": {
          "model_module": "@jupyter-widgets/controls",
          "model_name": "ProgressStyleModel",
          "model_module_version": "1.5.0",
          "state": {
            "_model_module": "@jupyter-widgets/controls",
            "_model_module_version": "1.5.0",
            "_model_name": "ProgressStyleModel",
            "_view_count": null,
            "_view_module": "@jupyter-widgets/base",
            "_view_module_version": "1.2.0",
            "_view_name": "StyleView",
            "bar_color": null,
            "description_width": ""
          }
        },
        "5fa5321fdd93419f8876734834cfbaaa": {
          "model_module": "@jupyter-widgets/base",
          "model_name": "LayoutModel",
          "model_module_version": "1.2.0",
          "state": {
            "_model_module": "@jupyter-widgets/base",
            "_model_module_version": "1.2.0",
            "_model_name": "LayoutModel",
            "_view_count": null,
            "_view_module": "@jupyter-widgets/base",
            "_view_module_version": "1.2.0",
            "_view_name": "LayoutView",
            "align_content": null,
            "align_items": null,
            "align_self": null,
            "border": null,
            "bottom": null,
            "display": null,
            "flex": null,
            "flex_flow": null,
            "grid_area": null,
            "grid_auto_columns": null,
            "grid_auto_flow": null,
            "grid_auto_rows": null,
            "grid_column": null,
            "grid_gap": null,
            "grid_row": null,
            "grid_template_areas": null,
            "grid_template_columns": null,
            "grid_template_rows": null,
            "height": null,
            "justify_content": null,
            "justify_items": null,
            "left": null,
            "margin": null,
            "max_height": null,
            "max_width": null,
            "min_height": null,
            "min_width": null,
            "object_fit": null,
            "object_position": null,
            "order": null,
            "overflow": null,
            "overflow_x": null,
            "overflow_y": null,
            "padding": null,
            "right": null,
            "top": null,
            "visibility": null,
            "width": null
          }
        },
        "ff1ec743666040929a6cf344d0d09004": {
          "model_module": "@jupyter-widgets/controls",
          "model_name": "DescriptionStyleModel",
          "model_module_version": "1.5.0",
          "state": {
            "_model_module": "@jupyter-widgets/controls",
            "_model_module_version": "1.5.0",
            "_model_name": "DescriptionStyleModel",
            "_view_count": null,
            "_view_module": "@jupyter-widgets/base",
            "_view_module_version": "1.2.0",
            "_view_name": "StyleView",
            "description_width": ""
          }
        },
        "2075e3d6cb6f4e2284ab2d38b629f5e5": {
          "model_module": "@jupyter-widgets/controls",
          "model_name": "HBoxModel",
          "model_module_version": "1.5.0",
          "state": {
            "_dom_classes": [],
            "_model_module": "@jupyter-widgets/controls",
            "_model_module_version": "1.5.0",
            "_model_name": "HBoxModel",
            "_view_count": null,
            "_view_module": "@jupyter-widgets/controls",
            "_view_module_version": "1.5.0",
            "_view_name": "HBoxView",
            "box_style": "",
            "children": [
              "IPY_MODEL_30400b32ce644f15a3c4785425926d4c",
              "IPY_MODEL_3635c4d7d56d4117a9da52dabdb6317a",
              "IPY_MODEL_5857b141d456432eb79cbb1a8545c4f6"
            ],
            "layout": "IPY_MODEL_6b0d421bb80c4566955a0d9b5ff10fc5"
          }
        },
        "30400b32ce644f15a3c4785425926d4c": {
          "model_module": "@jupyter-widgets/controls",
          "model_name": "HTMLModel",
          "model_module_version": "1.5.0",
          "state": {
            "_dom_classes": [],
            "_model_module": "@jupyter-widgets/controls",
            "_model_module_version": "1.5.0",
            "_model_name": "HTMLModel",
            "_view_count": null,
            "_view_module": "@jupyter-widgets/controls",
            "_view_module_version": "1.5.0",
            "_view_name": "HTMLView",
            "description": "",
            "description_tooltip": null,
            "layout": "IPY_MODEL_dfe756bf86e5493d881f6ca93c4d85c4",
            "placeholder": "​",
            "style": "IPY_MODEL_b7d08a0ec3dd4846a4bfed1d187c7fa3",
            "value": "Downloading: 100%"
          }
        },
        "3635c4d7d56d4117a9da52dabdb6317a": {
          "model_module": "@jupyter-widgets/controls",
          "model_name": "FloatProgressModel",
          "model_module_version": "1.5.0",
          "state": {
            "_dom_classes": [],
            "_model_module": "@jupyter-widgets/controls",
            "_model_module_version": "1.5.0",
            "_model_name": "FloatProgressModel",
            "_view_count": null,
            "_view_module": "@jupyter-widgets/controls",
            "_view_module_version": "1.5.0",
            "_view_name": "ProgressView",
            "bar_style": "success",
            "description": "",
            "description_tooltip": null,
            "layout": "IPY_MODEL_3e201651bed74c62b50d6085e29f4cb0",
            "max": 110,
            "min": 0,
            "orientation": "horizontal",
            "style": "IPY_MODEL_b813ad87bb884b4ea1620aac3557bdce",
            "value": 110
          }
        },
        "5857b141d456432eb79cbb1a8545c4f6": {
          "model_module": "@jupyter-widgets/controls",
          "model_name": "HTMLModel",
          "model_module_version": "1.5.0",
          "state": {
            "_dom_classes": [],
            "_model_module": "@jupyter-widgets/controls",
            "_model_module_version": "1.5.0",
            "_model_name": "HTMLModel",
            "_view_count": null,
            "_view_module": "@jupyter-widgets/controls",
            "_view_module_version": "1.5.0",
            "_view_name": "HTMLView",
            "description": "",
            "description_tooltip": null,
            "layout": "IPY_MODEL_be05b6eff48f45c7b9d7b149e76a3a05",
            "placeholder": "​",
            "style": "IPY_MODEL_15f28c7f4df741eab0795a3ed53176b3",
            "value": " 110/110 [00:00&lt;00:00, 3.37kB/s]"
          }
        },
        "6b0d421bb80c4566955a0d9b5ff10fc5": {
          "model_module": "@jupyter-widgets/base",
          "model_name": "LayoutModel",
          "model_module_version": "1.2.0",
          "state": {
            "_model_module": "@jupyter-widgets/base",
            "_model_module_version": "1.2.0",
            "_model_name": "LayoutModel",
            "_view_count": null,
            "_view_module": "@jupyter-widgets/base",
            "_view_module_version": "1.2.0",
            "_view_name": "LayoutView",
            "align_content": null,
            "align_items": null,
            "align_self": null,
            "border": null,
            "bottom": null,
            "display": null,
            "flex": null,
            "flex_flow": null,
            "grid_area": null,
            "grid_auto_columns": null,
            "grid_auto_flow": null,
            "grid_auto_rows": null,
            "grid_column": null,
            "grid_gap": null,
            "grid_row": null,
            "grid_template_areas": null,
            "grid_template_columns": null,
            "grid_template_rows": null,
            "height": null,
            "justify_content": null,
            "justify_items": null,
            "left": null,
            "margin": null,
            "max_height": null,
            "max_width": null,
            "min_height": null,
            "min_width": null,
            "object_fit": null,
            "object_position": null,
            "order": null,
            "overflow": null,
            "overflow_x": null,
            "overflow_y": null,
            "padding": null,
            "right": null,
            "top": null,
            "visibility": null,
            "width": null
          }
        },
        "dfe756bf86e5493d881f6ca93c4d85c4": {
          "model_module": "@jupyter-widgets/base",
          "model_name": "LayoutModel",
          "model_module_version": "1.2.0",
          "state": {
            "_model_module": "@jupyter-widgets/base",
            "_model_module_version": "1.2.0",
            "_model_name": "LayoutModel",
            "_view_count": null,
            "_view_module": "@jupyter-widgets/base",
            "_view_module_version": "1.2.0",
            "_view_name": "LayoutView",
            "align_content": null,
            "align_items": null,
            "align_self": null,
            "border": null,
            "bottom": null,
            "display": null,
            "flex": null,
            "flex_flow": null,
            "grid_area": null,
            "grid_auto_columns": null,
            "grid_auto_flow": null,
            "grid_auto_rows": null,
            "grid_column": null,
            "grid_gap": null,
            "grid_row": null,
            "grid_template_areas": null,
            "grid_template_columns": null,
            "grid_template_rows": null,
            "height": null,
            "justify_content": null,
            "justify_items": null,
            "left": null,
            "margin": null,
            "max_height": null,
            "max_width": null,
            "min_height": null,
            "min_width": null,
            "object_fit": null,
            "object_position": null,
            "order": null,
            "overflow": null,
            "overflow_x": null,
            "overflow_y": null,
            "padding": null,
            "right": null,
            "top": null,
            "visibility": null,
            "width": null
          }
        },
        "b7d08a0ec3dd4846a4bfed1d187c7fa3": {
          "model_module": "@jupyter-widgets/controls",
          "model_name": "DescriptionStyleModel",
          "model_module_version": "1.5.0",
          "state": {
            "_model_module": "@jupyter-widgets/controls",
            "_model_module_version": "1.5.0",
            "_model_name": "DescriptionStyleModel",
            "_view_count": null,
            "_view_module": "@jupyter-widgets/base",
            "_view_module_version": "1.2.0",
            "_view_name": "StyleView",
            "description_width": ""
          }
        },
        "3e201651bed74c62b50d6085e29f4cb0": {
          "model_module": "@jupyter-widgets/base",
          "model_name": "LayoutModel",
          "model_module_version": "1.2.0",
          "state": {
            "_model_module": "@jupyter-widgets/base",
            "_model_module_version": "1.2.0",
            "_model_name": "LayoutModel",
            "_view_count": null,
            "_view_module": "@jupyter-widgets/base",
            "_view_module_version": "1.2.0",
            "_view_name": "LayoutView",
            "align_content": null,
            "align_items": null,
            "align_self": null,
            "border": null,
            "bottom": null,
            "display": null,
            "flex": null,
            "flex_flow": null,
            "grid_area": null,
            "grid_auto_columns": null,
            "grid_auto_flow": null,
            "grid_auto_rows": null,
            "grid_column": null,
            "grid_gap": null,
            "grid_row": null,
            "grid_template_areas": null,
            "grid_template_columns": null,
            "grid_template_rows": null,
            "height": null,
            "justify_content": null,
            "justify_items": null,
            "left": null,
            "margin": null,
            "max_height": null,
            "max_width": null,
            "min_height": null,
            "min_width": null,
            "object_fit": null,
            "object_position": null,
            "order": null,
            "overflow": null,
            "overflow_x": null,
            "overflow_y": null,
            "padding": null,
            "right": null,
            "top": null,
            "visibility": null,
            "width": null
          }
        },
        "b813ad87bb884b4ea1620aac3557bdce": {
          "model_module": "@jupyter-widgets/controls",
          "model_name": "ProgressStyleModel",
          "model_module_version": "1.5.0",
          "state": {
            "_model_module": "@jupyter-widgets/controls",
            "_model_module_version": "1.5.0",
            "_model_name": "ProgressStyleModel",
            "_view_count": null,
            "_view_module": "@jupyter-widgets/base",
            "_view_module_version": "1.2.0",
            "_view_name": "StyleView",
            "bar_color": null,
            "description_width": ""
          }
        },
        "be05b6eff48f45c7b9d7b149e76a3a05": {
          "model_module": "@jupyter-widgets/base",
          "model_name": "LayoutModel",
          "model_module_version": "1.2.0",
          "state": {
            "_model_module": "@jupyter-widgets/base",
            "_model_module_version": "1.2.0",
            "_model_name": "LayoutModel",
            "_view_count": null,
            "_view_module": "@jupyter-widgets/base",
            "_view_module_version": "1.2.0",
            "_view_name": "LayoutView",
            "align_content": null,
            "align_items": null,
            "align_self": null,
            "border": null,
            "bottom": null,
            "display": null,
            "flex": null,
            "flex_flow": null,
            "grid_area": null,
            "grid_auto_columns": null,
            "grid_auto_flow": null,
            "grid_auto_rows": null,
            "grid_column": null,
            "grid_gap": null,
            "grid_row": null,
            "grid_template_areas": null,
            "grid_template_columns": null,
            "grid_template_rows": null,
            "height": null,
            "justify_content": null,
            "justify_items": null,
            "left": null,
            "margin": null,
            "max_height": null,
            "max_width": null,
            "min_height": null,
            "min_width": null,
            "object_fit": null,
            "object_position": null,
            "order": null,
            "overflow": null,
            "overflow_x": null,
            "overflow_y": null,
            "padding": null,
            "right": null,
            "top": null,
            "visibility": null,
            "width": null
          }
        },
        "15f28c7f4df741eab0795a3ed53176b3": {
          "model_module": "@jupyter-widgets/controls",
          "model_name": "DescriptionStyleModel",
          "model_module_version": "1.5.0",
          "state": {
            "_model_module": "@jupyter-widgets/controls",
            "_model_module_version": "1.5.0",
            "_model_name": "DescriptionStyleModel",
            "_view_count": null,
            "_view_module": "@jupyter-widgets/base",
            "_view_module_version": "1.2.0",
            "_view_name": "StyleView",
            "description_width": ""
          }
        },
        "f210c9ccc5ef4ec1bd974ae1c11a1979": {
          "model_module": "@jupyter-widgets/controls",
          "model_name": "HBoxModel",
          "model_module_version": "1.5.0",
          "state": {
            "_dom_classes": [],
            "_model_module": "@jupyter-widgets/controls",
            "_model_module_version": "1.5.0",
            "_model_name": "HBoxModel",
            "_view_count": null,
            "_view_module": "@jupyter-widgets/controls",
            "_view_module_version": "1.5.0",
            "_view_name": "HBoxView",
            "box_style": "",
            "children": [
              "IPY_MODEL_2ca1e695580e44429c17b4a8c32fb6a8",
              "IPY_MODEL_d446a33f16524c0ab410078255163fa3",
              "IPY_MODEL_88152ea735ce4116aff571695938fd73"
            ],
            "layout": "IPY_MODEL_7d8e5c46066d4c54be833f84f14911a4"
          }
        },
        "2ca1e695580e44429c17b4a8c32fb6a8": {
          "model_module": "@jupyter-widgets/controls",
          "model_name": "HTMLModel",
          "model_module_version": "1.5.0",
          "state": {
            "_dom_classes": [],
            "_model_module": "@jupyter-widgets/controls",
            "_model_module_version": "1.5.0",
            "_model_name": "HTMLModel",
            "_view_count": null,
            "_view_module": "@jupyter-widgets/controls",
            "_view_module_version": "1.5.0",
            "_view_name": "HTMLView",
            "description": "",
            "description_tooltip": null,
            "layout": "IPY_MODEL_93d1d5de1de14133a8212a416765719f",
            "placeholder": "​",
            "style": "IPY_MODEL_247d32611de0451f83507f335d1d0951",
            "value": "Downloading: 100%"
          }
        },
        "d446a33f16524c0ab410078255163fa3": {
          "model_module": "@jupyter-widgets/controls",
          "model_name": "FloatProgressModel",
          "model_module_version": "1.5.0",
          "state": {
            "_dom_classes": [],
            "_model_module": "@jupyter-widgets/controls",
            "_model_module_version": "1.5.0",
            "_model_name": "FloatProgressModel",
            "_view_count": null,
            "_view_module": "@jupyter-widgets/controls",
            "_view_module_version": "1.5.0",
            "_view_name": "ProgressView",
            "bar_style": "success",
            "description": "",
            "description_tooltip": null,
            "layout": "IPY_MODEL_950b89512d8440778602dac3a74406ea",
            "max": 479,
            "min": 0,
            "orientation": "horizontal",
            "style": "IPY_MODEL_0544f12b6f10461e890fbdcfea3f5c36",
            "value": 479
          }
        },
        "88152ea735ce4116aff571695938fd73": {
          "model_module": "@jupyter-widgets/controls",
          "model_name": "HTMLModel",
          "model_module_version": "1.5.0",
          "state": {
            "_dom_classes": [],
            "_model_module": "@jupyter-widgets/controls",
            "_model_module_version": "1.5.0",
            "_model_name": "HTMLModel",
            "_view_count": null,
            "_view_module": "@jupyter-widgets/controls",
            "_view_module_version": "1.5.0",
            "_view_name": "HTMLView",
            "description": "",
            "description_tooltip": null,
            "layout": "IPY_MODEL_f362dbfa14274dd0bab0fcd7abf371b1",
            "placeholder": "​",
            "style": "IPY_MODEL_60bbbe0e1a0d402fb5780703e271562f",
            "value": " 479/479 [00:00&lt;00:00, 12.5kB/s]"
          }
        },
        "7d8e5c46066d4c54be833f84f14911a4": {
          "model_module": "@jupyter-widgets/base",
          "model_name": "LayoutModel",
          "model_module_version": "1.2.0",
          "state": {
            "_model_module": "@jupyter-widgets/base",
            "_model_module_version": "1.2.0",
            "_model_name": "LayoutModel",
            "_view_count": null,
            "_view_module": "@jupyter-widgets/base",
            "_view_module_version": "1.2.0",
            "_view_name": "LayoutView",
            "align_content": null,
            "align_items": null,
            "align_self": null,
            "border": null,
            "bottom": null,
            "display": null,
            "flex": null,
            "flex_flow": null,
            "grid_area": null,
            "grid_auto_columns": null,
            "grid_auto_flow": null,
            "grid_auto_rows": null,
            "grid_column": null,
            "grid_gap": null,
            "grid_row": null,
            "grid_template_areas": null,
            "grid_template_columns": null,
            "grid_template_rows": null,
            "height": null,
            "justify_content": null,
            "justify_items": null,
            "left": null,
            "margin": null,
            "max_height": null,
            "max_width": null,
            "min_height": null,
            "min_width": null,
            "object_fit": null,
            "object_position": null,
            "order": null,
            "overflow": null,
            "overflow_x": null,
            "overflow_y": null,
            "padding": null,
            "right": null,
            "top": null,
            "visibility": null,
            "width": null
          }
        },
        "93d1d5de1de14133a8212a416765719f": {
          "model_module": "@jupyter-widgets/base",
          "model_name": "LayoutModel",
          "model_module_version": "1.2.0",
          "state": {
            "_model_module": "@jupyter-widgets/base",
            "_model_module_version": "1.2.0",
            "_model_name": "LayoutModel",
            "_view_count": null,
            "_view_module": "@jupyter-widgets/base",
            "_view_module_version": "1.2.0",
            "_view_name": "LayoutView",
            "align_content": null,
            "align_items": null,
            "align_self": null,
            "border": null,
            "bottom": null,
            "display": null,
            "flex": null,
            "flex_flow": null,
            "grid_area": null,
            "grid_auto_columns": null,
            "grid_auto_flow": null,
            "grid_auto_rows": null,
            "grid_column": null,
            "grid_gap": null,
            "grid_row": null,
            "grid_template_areas": null,
            "grid_template_columns": null,
            "grid_template_rows": null,
            "height": null,
            "justify_content": null,
            "justify_items": null,
            "left": null,
            "margin": null,
            "max_height": null,
            "max_width": null,
            "min_height": null,
            "min_width": null,
            "object_fit": null,
            "object_position": null,
            "order": null,
            "overflow": null,
            "overflow_x": null,
            "overflow_y": null,
            "padding": null,
            "right": null,
            "top": null,
            "visibility": null,
            "width": null
          }
        },
        "247d32611de0451f83507f335d1d0951": {
          "model_module": "@jupyter-widgets/controls",
          "model_name": "DescriptionStyleModel",
          "model_module_version": "1.5.0",
          "state": {
            "_model_module": "@jupyter-widgets/controls",
            "_model_module_version": "1.5.0",
            "_model_name": "DescriptionStyleModel",
            "_view_count": null,
            "_view_module": "@jupyter-widgets/base",
            "_view_module_version": "1.2.0",
            "_view_name": "StyleView",
            "description_width": ""
          }
        },
        "950b89512d8440778602dac3a74406ea": {
          "model_module": "@jupyter-widgets/base",
          "model_name": "LayoutModel",
          "model_module_version": "1.2.0",
          "state": {
            "_model_module": "@jupyter-widgets/base",
            "_model_module_version": "1.2.0",
            "_model_name": "LayoutModel",
            "_view_count": null,
            "_view_module": "@jupyter-widgets/base",
            "_view_module_version": "1.2.0",
            "_view_name": "LayoutView",
            "align_content": null,
            "align_items": null,
            "align_self": null,
            "border": null,
            "bottom": null,
            "display": null,
            "flex": null,
            "flex_flow": null,
            "grid_area": null,
            "grid_auto_columns": null,
            "grid_auto_flow": null,
            "grid_auto_rows": null,
            "grid_column": null,
            "grid_gap": null,
            "grid_row": null,
            "grid_template_areas": null,
            "grid_template_columns": null,
            "grid_template_rows": null,
            "height": null,
            "justify_content": null,
            "justify_items": null,
            "left": null,
            "margin": null,
            "max_height": null,
            "max_width": null,
            "min_height": null,
            "min_width": null,
            "object_fit": null,
            "object_position": null,
            "order": null,
            "overflow": null,
            "overflow_x": null,
            "overflow_y": null,
            "padding": null,
            "right": null,
            "top": null,
            "visibility": null,
            "width": null
          }
        },
        "0544f12b6f10461e890fbdcfea3f5c36": {
          "model_module": "@jupyter-widgets/controls",
          "model_name": "ProgressStyleModel",
          "model_module_version": "1.5.0",
          "state": {
            "_model_module": "@jupyter-widgets/controls",
            "_model_module_version": "1.5.0",
            "_model_name": "ProgressStyleModel",
            "_view_count": null,
            "_view_module": "@jupyter-widgets/base",
            "_view_module_version": "1.2.0",
            "_view_name": "StyleView",
            "bar_color": null,
            "description_width": ""
          }
        },
        "f362dbfa14274dd0bab0fcd7abf371b1": {
          "model_module": "@jupyter-widgets/base",
          "model_name": "LayoutModel",
          "model_module_version": "1.2.0",
          "state": {
            "_model_module": "@jupyter-widgets/base",
            "_model_module_version": "1.2.0",
            "_model_name": "LayoutModel",
            "_view_count": null,
            "_view_module": "@jupyter-widgets/base",
            "_view_module_version": "1.2.0",
            "_view_name": "LayoutView",
            "align_content": null,
            "align_items": null,
            "align_self": null,
            "border": null,
            "bottom": null,
            "display": null,
            "flex": null,
            "flex_flow": null,
            "grid_area": null,
            "grid_auto_columns": null,
            "grid_auto_flow": null,
            "grid_auto_rows": null,
            "grid_column": null,
            "grid_gap": null,
            "grid_row": null,
            "grid_template_areas": null,
            "grid_template_columns": null,
            "grid_template_rows": null,
            "height": null,
            "justify_content": null,
            "justify_items": null,
            "left": null,
            "margin": null,
            "max_height": null,
            "max_width": null,
            "min_height": null,
            "min_width": null,
            "object_fit": null,
            "object_position": null,
            "order": null,
            "overflow": null,
            "overflow_x": null,
            "overflow_y": null,
            "padding": null,
            "right": null,
            "top": null,
            "visibility": null,
            "width": null
          }
        },
        "60bbbe0e1a0d402fb5780703e271562f": {
          "model_module": "@jupyter-widgets/controls",
          "model_name": "DescriptionStyleModel",
          "model_module_version": "1.5.0",
          "state": {
            "_model_module": "@jupyter-widgets/controls",
            "_model_module_version": "1.5.0",
            "_model_name": "DescriptionStyleModel",
            "_view_count": null,
            "_view_module": "@jupyter-widgets/base",
            "_view_module_version": "1.2.0",
            "_view_name": "StyleView",
            "description_width": ""
          }
        }
      }
    }
  },
  "cells": [
    {
      "cell_type": "markdown",
      "metadata": {
        "id": "view-in-github",
        "colab_type": "text"
      },
      "source": [
        "<a href=\"https://colab.research.google.com/github/ftnext/practice-dl-nlp/blob/master/bert_exercise/transformers_examples/20220518_legacy_ner_ner_wikipedia_dataset.ipynb\" target=\"_parent\"><img src=\"https://colab.research.google.com/assets/colab-badge.svg\" alt=\"Open In Colab\"/></a>"
      ]
    },
    {
      "cell_type": "markdown",
      "source": [
        "ref: https://github.com/stockmarkteam/bert-book/blob/master/Chapter8.ipynb"
      ],
      "metadata": {
        "id": "0PW7LgEL8xyh"
      }
    },
    {
      "cell_type": "code",
      "execution_count": 1,
      "metadata": {
        "colab": {
          "base_uri": "https://localhost:8080/"
        },
        "id": "FjBB7bduAvzq",
        "outputId": "c8a00fff-ee29-4c1e-b989-ce694e8735bf"
      },
      "outputs": [
        {
          "output_type": "stream",
          "name": "stdout",
          "text": [
            "Cloning into 'transformers'...\n",
            "remote: Enumerating objects: 95610, done.\u001b[K\n",
            "remote: Counting objects: 100% (48/48), done.\u001b[K\n",
            "remote: Compressing objects: 100% (42/42), done.\u001b[K\n",
            "remote: Total 95610 (delta 17), reused 4 (delta 2), pack-reused 95562\u001b[K\n",
            "Receiving objects: 100% (95610/95610), 88.71 MiB | 24.39 MiB/s, done.\n",
            "Resolving deltas: 100% (70293/70293), done.\n",
            "Note: checking out 'v4.19.2'.\n",
            "\n",
            "You are in 'detached HEAD' state. You can look around, make experimental\n",
            "changes and commit them, and you can discard any commits you make in this\n",
            "state without impacting any branches by performing another checkout.\n",
            "\n",
            "If you want to create a new branch to retain commits you create, you may\n",
            "do so (now or later) by using -b with the checkout command again. Example:\n",
            "\n",
            "  git checkout -b <new-branch-name>\n",
            "\n",
            "HEAD is now at 6e535425f Release: v4.19.2\n",
            "Processing /content/transformers\n",
            "\u001b[33m  DEPRECATION: A future pip version will change local packages to be built in-place without first copying to a temporary directory. We recommend you use --use-feature=in-tree-build to test your packages with this new behavior before it becomes the default.\n",
            "   pip 21.3 will remove support for this functionality. You can find discussion regarding this at https://github.com/pypa/pip/issues/7555.\u001b[0m\n",
            "  Installing build dependencies ... \u001b[?25l\u001b[?25hdone\n",
            "  Getting requirements to build wheel ... \u001b[?25l\u001b[?25hdone\n",
            "    Preparing wheel metadata ... \u001b[?25l\u001b[?25hdone\n",
            "Collecting huggingface-hub<1.0,>=0.1.0\n",
            "  Downloading huggingface_hub-0.6.0-py3-none-any.whl (84 kB)\n",
            "\u001b[K     |████████████████████████████████| 84 kB 2.5 MB/s \n",
            "\u001b[?25hRequirement already satisfied: importlib-metadata in /usr/local/lib/python3.7/dist-packages (from transformers==4.19.2) (4.11.3)\n",
            "Collecting tokenizers!=0.11.3,<0.13,>=0.11.1\n",
            "  Downloading tokenizers-0.12.1-cp37-cp37m-manylinux_2_12_x86_64.manylinux2010_x86_64.whl (6.6 MB)\n",
            "\u001b[K     |████████████████████████████████| 6.6 MB 25.8 MB/s \n",
            "\u001b[?25hRequirement already satisfied: numpy>=1.17 in /usr/local/lib/python3.7/dist-packages (from transformers==4.19.2) (1.21.6)\n",
            "Requirement already satisfied: requests in /usr/local/lib/python3.7/dist-packages (from transformers==4.19.2) (2.23.0)\n",
            "Collecting pyyaml>=5.1\n",
            "  Downloading PyYAML-6.0-cp37-cp37m-manylinux_2_5_x86_64.manylinux1_x86_64.manylinux_2_12_x86_64.manylinux2010_x86_64.whl (596 kB)\n",
            "\u001b[K     |████████████████████████████████| 596 kB 66.2 MB/s \n",
            "\u001b[?25hRequirement already satisfied: regex!=2019.12.17 in /usr/local/lib/python3.7/dist-packages (from transformers==4.19.2) (2019.12.20)\n",
            "Requirement already satisfied: filelock in /usr/local/lib/python3.7/dist-packages (from transformers==4.19.2) (3.7.0)\n",
            "Requirement already satisfied: tqdm>=4.27 in /usr/local/lib/python3.7/dist-packages (from transformers==4.19.2) (4.64.0)\n",
            "Requirement already satisfied: packaging>=20.0 in /usr/local/lib/python3.7/dist-packages (from transformers==4.19.2) (21.3)\n",
            "Collecting fugashi>=1.0\n",
            "  Downloading fugashi-1.1.2-cp37-cp37m-manylinux_2_17_x86_64.manylinux2014_x86_64.whl (568 kB)\n",
            "\u001b[K     |████████████████████████████████| 568 kB 11.8 MB/s \n",
            "\u001b[?25hCollecting unidic>=1.0.2\n",
            "  Downloading unidic-1.1.0.tar.gz (7.7 kB)\n",
            "Collecting unidic-lite>=1.0.7\n",
            "  Downloading unidic-lite-1.0.8.tar.gz (47.4 MB)\n",
            "\u001b[K     |████████████████████████████████| 47.4 MB 1.5 MB/s \n",
            "\u001b[?25hCollecting ipadic<2.0,>=1.0.0\n",
            "  Downloading ipadic-1.0.0.tar.gz (13.4 MB)\n",
            "\u001b[K     |████████████████████████████████| 13.4 MB 31.7 MB/s \n",
            "\u001b[?25hRequirement already satisfied: typing-extensions>=3.7.4.3 in /usr/local/lib/python3.7/dist-packages (from huggingface-hub<1.0,>=0.1.0->transformers==4.19.2) (4.2.0)\n",
            "Requirement already satisfied: pyparsing!=3.0.5,>=2.0.2 in /usr/local/lib/python3.7/dist-packages (from packaging>=20.0->transformers==4.19.2) (3.0.9)\n",
            "Requirement already satisfied: wasabi<1.0.0,>=0.6.0 in /usr/local/lib/python3.7/dist-packages (from unidic>=1.0.2->transformers==4.19.2) (0.9.1)\n",
            "Requirement already satisfied: plac<2.0.0,>=1.1.3 in /usr/local/lib/python3.7/dist-packages (from unidic>=1.0.2->transformers==4.19.2) (1.1.3)\n",
            "Requirement already satisfied: idna<3,>=2.5 in /usr/local/lib/python3.7/dist-packages (from requests->transformers==4.19.2) (2.10)\n",
            "Requirement already satisfied: certifi>=2017.4.17 in /usr/local/lib/python3.7/dist-packages (from requests->transformers==4.19.2) (2021.10.8)\n",
            "Requirement already satisfied: urllib3!=1.25.0,!=1.25.1,<1.26,>=1.21.1 in /usr/local/lib/python3.7/dist-packages (from requests->transformers==4.19.2) (1.24.3)\n",
            "Requirement already satisfied: chardet<4,>=3.0.2 in /usr/local/lib/python3.7/dist-packages (from requests->transformers==4.19.2) (3.0.4)\n",
            "Requirement already satisfied: zipp>=0.5 in /usr/local/lib/python3.7/dist-packages (from importlib-metadata->transformers==4.19.2) (3.8.0)\n",
            "Building wheels for collected packages: transformers, ipadic, unidic, unidic-lite\n",
            "  Building wheel for transformers (PEP 517) ... \u001b[?25l\u001b[?25hdone\n",
            "  Created wheel for transformers: filename=transformers-4.19.2-py3-none-any.whl size=4166305 sha256=455e6bbed382e28d9662c9ce87a869f4b61c955f82c5e540aac937f50d3659e7\n",
            "  Stored in directory: /tmp/pip-ephem-wheel-cache-906an_6e/wheels/49/62/f4/6730819eed4e6468662b1519bf3bf46419b2335990c77f8767\n",
            "  Building wheel for ipadic (setup.py) ... \u001b[?25l\u001b[?25hdone\n",
            "  Created wheel for ipadic: filename=ipadic-1.0.0-py3-none-any.whl size=13556723 sha256=b92b9b675e4124a09cc64a52fa22585be58c340ff40c32085165818bd2d8713d\n",
            "  Stored in directory: /root/.cache/pip/wheels/33/8b/99/cf0d27191876637cd3639a560f93aa982d7855ce826c94348b\n",
            "  Building wheel for unidic (setup.py) ... \u001b[?25l\u001b[?25hdone\n",
            "  Created wheel for unidic: filename=unidic-1.1.0-py3-none-any.whl size=7426 sha256=a532bc584b431d1562ffc3a592b8c341e43342f8a30a1bf9ba09ba6e2fe336dc\n",
            "  Stored in directory: /root/.cache/pip/wheels/ce/4d/f1/170bb74b559ca338113c0315c9805e16dfd0a12411ec6b1122\n",
            "  Building wheel for unidic-lite (setup.py) ... \u001b[?25l\u001b[?25hdone\n",
            "  Created wheel for unidic-lite: filename=unidic_lite-1.0.8-py3-none-any.whl size=47658836 sha256=5cd307313ae5557e8ff01897df00b28510b72023bc28651633d1ea455e5c8ef2\n",
            "  Stored in directory: /root/.cache/pip/wheels/de/69/b1/112140b599f2b13f609d485a99e357ba68df194d2079c5b1a2\n",
            "Successfully built transformers ipadic unidic unidic-lite\n",
            "Installing collected packages: pyyaml, tokenizers, huggingface-hub, unidic-lite, unidic, transformers, ipadic, fugashi\n",
            "  Attempting uninstall: pyyaml\n",
            "    Found existing installation: PyYAML 3.13\n",
            "    Uninstalling PyYAML-3.13:\n",
            "      Successfully uninstalled PyYAML-3.13\n",
            "Successfully installed fugashi-1.1.2 huggingface-hub-0.6.0 ipadic-1.0.0 pyyaml-6.0 tokenizers-0.12.1 transformers-4.19.2 unidic-1.1.0 unidic-lite-1.0.8\n"
          ]
        }
      ],
      "source": [
        "!git clone https://github.com/huggingface/transformers.git\n",
        "!cd transformers && git checkout v4.19.2&& pip install .[ja]"
      ]
    },
    {
      "cell_type": "code",
      "source": [
        "!pip install seqeval filelock conllu"
      ],
      "metadata": {
        "colab": {
          "base_uri": "https://localhost:8080/"
        },
        "id": "-uvd5LtAA8aG",
        "outputId": "4de90b62-e17b-4f8e-9f54-d059eb678829"
      },
      "execution_count": 2,
      "outputs": [
        {
          "output_type": "stream",
          "name": "stdout",
          "text": [
            "Collecting seqeval\n",
            "  Downloading seqeval-1.2.2.tar.gz (43 kB)\n",
            "\u001b[?25l\r\u001b[K     |███████▌                        | 10 kB 24.5 MB/s eta 0:00:01\r\u001b[K     |███████████████                 | 20 kB 8.0 MB/s eta 0:00:01\r\u001b[K     |██████████████████████▌         | 30 kB 3.9 MB/s eta 0:00:01\r\u001b[K     |██████████████████████████████  | 40 kB 5.0 MB/s eta 0:00:01\r\u001b[K     |████████████████████████████████| 43 kB 934 kB/s \n",
            "\u001b[?25hRequirement already satisfied: filelock in /usr/local/lib/python3.7/dist-packages (3.7.0)\n",
            "Collecting conllu\n",
            "  Downloading conllu-4.4.2-py2.py3-none-any.whl (15 kB)\n",
            "Requirement already satisfied: numpy>=1.14.0 in /usr/local/lib/python3.7/dist-packages (from seqeval) (1.21.6)\n",
            "Requirement already satisfied: scikit-learn>=0.21.3 in /usr/local/lib/python3.7/dist-packages (from seqeval) (1.0.2)\n",
            "Requirement already satisfied: scipy>=1.1.0 in /usr/local/lib/python3.7/dist-packages (from scikit-learn>=0.21.3->seqeval) (1.4.1)\n",
            "Requirement already satisfied: joblib>=0.11 in /usr/local/lib/python3.7/dist-packages (from scikit-learn>=0.21.3->seqeval) (1.1.0)\n",
            "Requirement already satisfied: threadpoolctl>=2.0.0 in /usr/local/lib/python3.7/dist-packages (from scikit-learn>=0.21.3->seqeval) (3.1.0)\n",
            "Building wheels for collected packages: seqeval\n",
            "  Building wheel for seqeval (setup.py) ... \u001b[?25l\u001b[?25hdone\n",
            "  Created wheel for seqeval: filename=seqeval-1.2.2-py3-none-any.whl size=16180 sha256=53f94305dcfbd872ae9249d374fb9e9e25497cf404244e1ccf19b85173460232\n",
            "  Stored in directory: /root/.cache/pip/wheels/05/96/ee/7cac4e74f3b19e3158dce26a20a1c86b3533c43ec72a549fd7\n",
            "Successfully built seqeval\n",
            "Installing collected packages: seqeval, conllu\n",
            "Successfully installed conllu-4.4.2 seqeval-1.2.2\n"
          ]
        }
      ]
    },
    {
      "cell_type": "code",
      "source": [
        "import json\n",
        "import random\n",
        "\n",
        "from transformers import BertJapaneseTokenizer"
      ],
      "metadata": {
        "id": "nx0a6bCO8bft"
      },
      "execution_count": 3,
      "outputs": []
    },
    {
      "cell_type": "code",
      "source": [
        "TOKENIZER = BertJapaneseTokenizer.from_pretrained(\n",
        "    \"cl-tohoku/bert-base-japanese-whole-word-masking\"\n",
        ")"
      ],
      "metadata": {
        "colab": {
          "base_uri": "https://localhost:8080/",
          "height": 113,
          "referenced_widgets": [
            "2079aaf83f764e49a82224c845b75c94",
            "3c8bdf33c5984c54a363050ef721beff",
            "4edbd91313bf4aed984dc3bbc7bc3b47",
            "1376997e3e0545ce88687adccb12dbfa",
            "59a67a8db0eb41a8b361befb1672875c",
            "212e7a43688e462bb3668b72e5a73bc5",
            "e0f777469a4c4b6e9b61f82a227376a9",
            "1f468cc87dc84126a7f1847a821fa840",
            "f3eb2dfd171d43ff9060112aead8a298",
            "5fa5321fdd93419f8876734834cfbaaa",
            "ff1ec743666040929a6cf344d0d09004",
            "2075e3d6cb6f4e2284ab2d38b629f5e5",
            "30400b32ce644f15a3c4785425926d4c",
            "3635c4d7d56d4117a9da52dabdb6317a",
            "5857b141d456432eb79cbb1a8545c4f6",
            "6b0d421bb80c4566955a0d9b5ff10fc5",
            "dfe756bf86e5493d881f6ca93c4d85c4",
            "b7d08a0ec3dd4846a4bfed1d187c7fa3",
            "3e201651bed74c62b50d6085e29f4cb0",
            "b813ad87bb884b4ea1620aac3557bdce",
            "be05b6eff48f45c7b9d7b149e76a3a05",
            "15f28c7f4df741eab0795a3ed53176b3",
            "f210c9ccc5ef4ec1bd974ae1c11a1979",
            "2ca1e695580e44429c17b4a8c32fb6a8",
            "d446a33f16524c0ab410078255163fa3",
            "88152ea735ce4116aff571695938fd73",
            "7d8e5c46066d4c54be833f84f14911a4",
            "93d1d5de1de14133a8212a416765719f",
            "247d32611de0451f83507f335d1d0951",
            "950b89512d8440778602dac3a74406ea",
            "0544f12b6f10461e890fbdcfea3f5c36",
            "f362dbfa14274dd0bab0fcd7abf371b1",
            "60bbbe0e1a0d402fb5780703e271562f"
          ]
        },
        "id": "bRRVobeF8g5j",
        "outputId": "73c2670f-6337-417c-a938-8e777fe9102f"
      },
      "execution_count": 4,
      "outputs": [
        {
          "output_type": "display_data",
          "data": {
            "text/plain": [
              "Downloading:   0%|          | 0.00/252k [00:00<?, ?B/s]"
            ],
            "application/vnd.jupyter.widget-view+json": {
              "version_major": 2,
              "version_minor": 0,
              "model_id": "2079aaf83f764e49a82224c845b75c94"
            }
          },
          "metadata": {}
        },
        {
          "output_type": "display_data",
          "data": {
            "text/plain": [
              "Downloading:   0%|          | 0.00/110 [00:00<?, ?B/s]"
            ],
            "application/vnd.jupyter.widget-view+json": {
              "version_major": 2,
              "version_minor": 0,
              "model_id": "2075e3d6cb6f4e2284ab2d38b629f5e5"
            }
          },
          "metadata": {}
        },
        {
          "output_type": "display_data",
          "data": {
            "text/plain": [
              "Downloading:   0%|          | 0.00/479 [00:00<?, ?B/s]"
            ],
            "application/vnd.jupyter.widget-view+json": {
              "version_major": 2,
              "version_minor": 0,
              "model_id": "f210c9ccc5ef4ec1bd974ae1c11a1979"
            }
          },
          "metadata": {}
        }
      ]
    },
    {
      "cell_type": "code",
      "source": [
        "def distinguish_entities(text, entities):\n",
        "    \"\"\"固有表現の前後でテキストを分割する（形態素解析はしない）\n",
        "\n",
        "    >>> distinguish_entities(\"ロレム・イプサム\", [])\n",
        "    [{'text': 'ロレム・イプサム', 'label': 'O'}]\n",
        "    >>> entities1 = [{\"name\": \"B大学\", \"span\": [0, 3], \"type\": \"法人名\"}]\n",
        "    >>> distinguish_entities(\"B大学に入学した。\", entities1)\n",
        "    [{'text': 'B大学', 'label': '法人名'}, {'text': 'に入学した。', 'label': 'O'}]\n",
        "    >>> entities2 = [{\"name\": \"A\", \"span\": [0, 1], \"type\": \"人名\"}, {\"name\": \"B大学\", \"span\": [4, 7], \"type\": \"法人名\"}]\n",
        "    >>> distinguish_entities(\"AさんはB大学を卒業した。\", entities2)\n",
        "    [{'text': 'A', 'label': '人名'}, {'text': 'さんは', 'label': 'O'}, {'text': 'B大学', 'label': '法人名'}, {'text': 'を卒業した。', 'label': 'O'}]\n",
        "    \"\"\"\n",
        "    splitted = []\n",
        "    position = 0\n",
        "    for entity in entities:\n",
        "        start = entity[\"span\"][0]\n",
        "        end = entity[\"span\"][1]\n",
        "        label = entity[\"type\"]\n",
        "        splitted.append({\"text\": text[position:start], \"label\": \"O\"})\n",
        "        splitted.append({\"text\": text[start:end], \"label\": label})\n",
        "        position = end\n",
        "    splitted.append({\"text\": text[position:], \"label\": \"O\"})\n",
        "    return [s for s in splitted if s[\"text\"]]"
      ],
      "metadata": {
        "id": "g2ndGHQ38jLv"
      },
      "execution_count": 5,
      "outputs": []
    },
    {
      "cell_type": "code",
      "source": [
        "def tokenize_splitted(splitted, tokenizer):\n",
        "    \"\"\"形態素解析したトークンと対応する固有表現のBIOタグを返す\n",
        "\n",
        "    >>> splitted = [{'text': 'A', 'label': '人名'}, {'text': 'さんは', 'label': 'O'}, {'text': 'B大学', 'label': '法人名'}, {'text': 'を卒業した。', 'label': 'O'}]\n",
        "    >>> tokenize_splitted(splitted, TOKENIZER)\n",
        "    (['A', 'さん', 'は', 'B', '大学', 'を', '卒業', 'し', 'た', '。'], ['B-人名', 'O', 'O', 'B-法人名', 'I-法人名', 'O', 'O', 'O', 'O', 'O'])\n",
        "    \"\"\"\n",
        "    tokens, labels = [], []\n",
        "    for s in splitted:\n",
        "        part_tokens = tokenizer.tokenize(s[\"text\"])\n",
        "        label = s[\"label\"]\n",
        "        if label == \"O\":\n",
        "            part_labels = [label] * len(part_tokens)\n",
        "        else:  # 固有表現\n",
        "            part_labels = [f\"I-{label}\"] * len(part_tokens)\n",
        "            part_labels[0] = f\"B-{label}\"\n",
        "        tokens.extend(part_tokens)\n",
        "        labels.extend(part_labels)\n",
        "    return tokens, labels"
      ],
      "metadata": {
        "id": "eoU4Ptho8oYR"
      },
      "execution_count": 6,
      "outputs": []
    },
    {
      "cell_type": "code",
      "source": [
        "def convert_germeval_format(obj):\n",
        "    \"\"\"ner-wikipedia-datasetをGermEval2014の形式に変換する\n",
        "\n",
        "    >>> list(convert_germeval_format({\"curid\": \"345\", \"text\": \"AさんはB大学を卒業した。\", \"entities\": [{\"name\": \"A\", \"span\": [0, 1], \"type\": \"人名\"}, {\"name\": \"B大学\", \"span\": [4, 7], \"type\": \"法人名\"}]}))\n",
        "    ['A B-人名', 'さん O', 'は O', 'B B-法人名', '大学 I-法人名', 'を O', '卒業 O', 'し O', 'た O', '。 O', '']\n",
        "    \"\"\"\n",
        "    splitted = distinguish_entities(obj[\"text\"], obj[\"entities\"])\n",
        "    tokens, labels = tokenize_splitted(splitted, TOKENIZER)\n",
        "    for token, label in zip(tokens, labels):\n",
        "        yield f\"{token} {label}\"\n",
        "    yield \"\""
      ],
      "metadata": {
        "id": "U1XglN5z8rP1"
      },
      "execution_count": 7,
      "outputs": []
    },
    {
      "cell_type": "code",
      "source": [
        "def convert_dataset(dataset):\n",
        "    for d in dataset:\n",
        "        yield from convert_germeval_format(d)"
      ],
      "metadata": {
        "id": "IEF0ZzNB8vCC"
      },
      "execution_count": 8,
      "outputs": []
    },
    {
      "cell_type": "code",
      "source": [
        "def save_dataset(dataset, path):\n",
        "    with open(path, \"w\") as f:\n",
        "        for row in dataset:\n",
        "            f.write(f\"{row}\\n\")"
      ],
      "metadata": {
        "id": "FbMe1X4685ib"
      },
      "execution_count": 9,
      "outputs": []
    },
    {
      "cell_type": "code",
      "source": [
        "!mkdir -p /tmp/ner-wikipedia-dataset/{source,preprocessed}"
      ],
      "metadata": {
        "id": "hqN2WsLsmgdA"
      },
      "execution_count": 10,
      "outputs": []
    },
    {
      "cell_type": "code",
      "source": [
        "!curl --output /tmp/ner-wikipedia-dataset/ner.json \\\n",
        "  https://raw.githubusercontent.com/stockmarkteam/ner-wikipedia-dataset/v2.0/ner.json"
      ],
      "metadata": {
        "colab": {
          "base_uri": "https://localhost:8080/"
        },
        "id": "-5MoqBuB87oD",
        "outputId": "475b6786-a918-4334-8854-886eb2d3c858"
      },
      "execution_count": 11,
      "outputs": [
        {
          "output_type": "stream",
          "name": "stdout",
          "text": [
            "  % Total    % Received % Xferd  Average Speed   Time    Time     Time  Current\n",
            "                                 Dload  Upload   Total   Spent    Left  Speed\n",
            "100 3947k  100 3947k    0     0  11.6M      0 --:--:-- --:--:-- --:--:-- 11.6M\n"
          ]
        }
      ]
    },
    {
      "cell_type": "code",
      "source": [
        "with open(\"/tmp/ner-wikipedia-dataset/ner.json\", encoding=\"utf8\") as f:\n",
        "    dataset = json.load(f)"
      ],
      "metadata": {
        "id": "n-4bl2OX9fWt"
      },
      "execution_count": 12,
      "outputs": []
    },
    {
      "cell_type": "code",
      "source": [
        "len(dataset)"
      ],
      "metadata": {
        "colab": {
          "base_uri": "https://localhost:8080/"
        },
        "id": "_LVoV4zH9xva",
        "outputId": "d6a07b8b-c322-4299-91da-c42df726f64e"
      },
      "execution_count": 13,
      "outputs": [
        {
          "output_type": "execute_result",
          "data": {
            "text/plain": [
              "5343"
            ]
          },
          "metadata": {},
          "execution_count": 13
        }
      ]
    },
    {
      "cell_type": "code",
      "source": [
        "random.seed(42)\n",
        "random.shuffle(dataset)\n",
        "\n",
        "n = len(dataset)\n",
        "n_train = int(n * 0.6)\n",
        "n_val = int(n * 0.2)\n",
        "dataset_train = dataset[:n_train]\n",
        "dataset_val = dataset[n_train : n_train + n_val]\n",
        "dataset_test = dataset[n_train + n_val :]\n",
        "print(len(dataset_train), len(dataset_val), len(dataset_test))"
      ],
      "metadata": {
        "colab": {
          "base_uri": "https://localhost:8080/"
        },
        "id": "7UVhR61w9zav",
        "outputId": "b2882370-23ef-4ff7-c374-72b072bacfb2"
      },
      "execution_count": 14,
      "outputs": [
        {
          "output_type": "stream",
          "name": "stdout",
          "text": [
            "3205 1068 1070\n"
          ]
        }
      ]
    },
    {
      "cell_type": "code",
      "source": [
        "save_dataset(\n",
        "    convert_dataset(dataset_train), \"/tmp/ner-wikipedia-dataset/source/train.txt\",\n",
        ")\n",
        "save_dataset(\n",
        "    convert_dataset(dataset_val), \"/tmp/ner-wikipedia-dataset/source/dev.txt\",\n",
        ")\n",
        "save_dataset(\n",
        "    convert_dataset(dataset_test), \"/tmp/ner-wikipedia-dataset/source/test.txt\",\n",
        ")"
      ],
      "metadata": {
        "id": "z-RvKjb498k_"
      },
      "execution_count": 15,
      "outputs": []
    },
    {
      "cell_type": "code",
      "source": [
        "!wc -l /tmp/ner-wikipedia-dataset/source/*.txt"
      ],
      "metadata": {
        "colab": {
          "base_uri": "https://localhost:8080/"
        },
        "id": "b527iN28-Epf",
        "outputId": "23fe3af5-b9d3-4e96-a664-c6050e10f8d6"
      },
      "execution_count": 16,
      "outputs": [
        {
          "output_type": "stream",
          "name": "stdout",
          "text": [
            "  38947 /tmp/ner-wikipedia-dataset/source/dev.txt\n",
            "  38093 /tmp/ner-wikipedia-dataset/source/test.txt\n",
            " 114565 /tmp/ner-wikipedia-dataset/source/train.txt\n",
            " 191605 total\n"
          ]
        }
      ]
    },
    {
      "cell_type": "code",
      "source": [
        "!cd transformers/examples/legacy/token-classification && python scripts/preprocess.py \\\n",
        "  /tmp/ner-wikipedia-dataset/source/train.txt cl-tohoku/bert-base-japanese-whole-word-masking 128 > /tmp/ner-wikipedia-dataset/preprocessed/train.txt"
      ],
      "metadata": {
        "id": "0SvkwGPgnnou"
      },
      "execution_count": 17,
      "outputs": []
    },
    {
      "cell_type": "code",
      "source": [
        "!cd transformers/examples/legacy/token-classification && python scripts/preprocess.py \\\n",
        "  /tmp/ner-wikipedia-dataset/source/dev.txt cl-tohoku/bert-base-japanese-whole-word-masking 128 > /tmp/ner-wikipedia-dataset/preprocessed/dev.txt"
      ],
      "metadata": {
        "id": "1lICUrK7n_wp"
      },
      "execution_count": 18,
      "outputs": []
    },
    {
      "cell_type": "code",
      "source": [
        "!cd transformers/examples/legacy/token-classification && python scripts/preprocess.py \\\n",
        "  /tmp/ner-wikipedia-dataset/source/test.txt cl-tohoku/bert-base-japanese-whole-word-masking 128 > /tmp/ner-wikipedia-dataset/preprocessed/test.txt"
      ],
      "metadata": {
        "id": "zXC6P_0GoAiK"
      },
      "execution_count": 19,
      "outputs": []
    },
    {
      "cell_type": "code",
      "source": [
        "# 特定の語彙を除くのが目的と認識しているが、結果、語彙数が増えている（TODO）\n",
        "!wc -l /tmp/ner-wikipedia-dataset/preprocessed/*.txt"
      ],
      "metadata": {
        "colab": {
          "base_uri": "https://localhost:8080/"
        },
        "id": "4xPXzUnzoJR6",
        "outputId": "585c074c-d672-4015-fb15-7206f23fd704"
      },
      "execution_count": 20,
      "outputs": [
        {
          "output_type": "stream",
          "name": "stdout",
          "text": [
            "  38957 /tmp/ner-wikipedia-dataset/preprocessed/dev.txt\n",
            "  38099 /tmp/ner-wikipedia-dataset/preprocessed/test.txt\n",
            " 114591 /tmp/ner-wikipedia-dataset/preprocessed/train.txt\n",
            " 191647 total\n"
          ]
        }
      ]
    },
    {
      "cell_type": "code",
      "source": [
        "!cd /tmp/ner-wikipedia-dataset/preprocessed && cat train.txt dev.txt test.txt | cut -d \" \" -f 2 | grep -v \"^$\"| sort | uniq > labels.txt"
      ],
      "metadata": {
        "id": "Tp3j7yRPoUAc"
      },
      "execution_count": 21,
      "outputs": []
    },
    {
      "cell_type": "code",
      "source": [
        "!cat /tmp/ner-wikipedia-dataset/preprocessed/labels.txt"
      ],
      "metadata": {
        "colab": {
          "base_uri": "https://localhost:8080/"
        },
        "id": "Y3iv7vu2ocge",
        "outputId": "5d00b0b4-de1b-4c9f-d816-73b38ca2b96d"
      },
      "execution_count": 22,
      "outputs": [
        {
          "output_type": "stream",
          "name": "stdout",
          "text": [
            "B-人名\n",
            "B-その他の組織名\n",
            "B-イベント名\n",
            "B-地名\n",
            "B-政治的組織名\n",
            "B-施設名\n",
            "B-法人名\n",
            "B-製品名\n",
            "I-人名\n",
            "I-その他の組織名\n",
            "I-イベント名\n",
            "I-地名\n",
            "I-政治的組織名\n",
            "I-施設名\n",
            "I-法人名\n",
            "I-製品名\n",
            "O\n"
          ]
        }
      ]
    },
    {
      "cell_type": "code",
      "source": [
        "!wc -l /tmp/ner-wikipedia-dataset/preprocessed/labels.txt"
      ],
      "metadata": {
        "colab": {
          "base_uri": "https://localhost:8080/"
        },
        "id": "uD61ci4yokbO",
        "outputId": "896dfab1-b110-47da-9994-19eee75ba61f"
      },
      "execution_count": 23,
      "outputs": [
        {
          "output_type": "stream",
          "name": "stdout",
          "text": [
            "17 /tmp/ner-wikipedia-dataset/preprocessed/labels.txt\n"
          ]
        }
      ]
    },
    {
      "cell_type": "code",
      "source": [
        "!cd transformers/examples/legacy/token-classification && python run_ner.py \\\n",
        "--data_dir /tmp/ner-wikipedia-dataset/preprocessed \\\n",
        "--labels /tmp/ner-wikipedia-dataset/preprocessed/labels.txt \\\n",
        "--model_name_or_path cl-tohoku/bert-base-japanese-whole-word-masking \\\n",
        "--output_dir /tmp/ner-wikipedia \\\n",
        "--max_seq_length 128 \\\n",
        "--num_train_epochs 5 \\\n",
        "--per_device_train_batch_size 32 \\\n",
        "--logging_steps 50 \\\n",
        "--save_steps 100 \\\n",
        "--save_total_limit 2 \\\n",
        "--per_device_eval_batch_size 256 \\\n",
        "--seed 1 \\\n",
        "--do_train \\\n",
        "--do_eval \\\n",
        "--do_predict"
      ],
      "metadata": {
        "colab": {
          "base_uri": "https://localhost:8080/"
        },
        "id": "trOtcnMFBhF-",
        "outputId": "f29391be-7a58-4d07-95de-3b493a4a01ee"
      },
      "execution_count": 24,
      "outputs": [
        {
          "output_type": "stream",
          "name": "stdout",
          "text": [
            "05/17/2022 23:39:56 - WARNING - __main__ - Process rank: -1, device: cuda:0, n_gpu: 1, distributed training: False, 16-bits training: False\n",
            "05/17/2022 23:39:56 - INFO - __main__ - Training/evaluation parameters TrainingArguments(\n",
            "_n_gpu=1,\n",
            "adafactor=False,\n",
            "adam_beta1=0.9,\n",
            "adam_beta2=0.999,\n",
            "adam_epsilon=1e-08,\n",
            "auto_find_batch_size=False,\n",
            "bf16=False,\n",
            "bf16_full_eval=False,\n",
            "data_seed=None,\n",
            "dataloader_drop_last=False,\n",
            "dataloader_num_workers=0,\n",
            "dataloader_pin_memory=True,\n",
            "ddp_bucket_cap_mb=None,\n",
            "ddp_find_unused_parameters=None,\n",
            "debug=[],\n",
            "deepspeed=None,\n",
            "disable_tqdm=False,\n",
            "do_eval=True,\n",
            "do_predict=True,\n",
            "do_train=True,\n",
            "eval_accumulation_steps=None,\n",
            "eval_delay=0,\n",
            "eval_steps=None,\n",
            "evaluation_strategy=IntervalStrategy.NO,\n",
            "fp16=False,\n",
            "fp16_backend=auto,\n",
            "fp16_full_eval=False,\n",
            "fp16_opt_level=O1,\n",
            "fsdp=[],\n",
            "fsdp_min_num_params=0,\n",
            "full_determinism=False,\n",
            "gradient_accumulation_steps=1,\n",
            "gradient_checkpointing=False,\n",
            "greater_is_better=None,\n",
            "group_by_length=False,\n",
            "half_precision_backend=auto,\n",
            "hub_model_id=None,\n",
            "hub_private_repo=False,\n",
            "hub_strategy=HubStrategy.EVERY_SAVE,\n",
            "hub_token=<HUB_TOKEN>,\n",
            "ignore_data_skip=False,\n",
            "include_inputs_for_metrics=False,\n",
            "label_names=None,\n",
            "label_smoothing_factor=0.0,\n",
            "learning_rate=5e-05,\n",
            "length_column_name=length,\n",
            "load_best_model_at_end=False,\n",
            "local_rank=-1,\n",
            "log_level=-1,\n",
            "log_level_replica=-1,\n",
            "log_on_each_node=True,\n",
            "logging_dir=/tmp/ner-wikipedia/runs/May17_23-39-56_78246fd23eee,\n",
            "logging_first_step=False,\n",
            "logging_nan_inf_filter=True,\n",
            "logging_steps=50,\n",
            "logging_strategy=IntervalStrategy.STEPS,\n",
            "lr_scheduler_type=SchedulerType.LINEAR,\n",
            "max_grad_norm=1.0,\n",
            "max_steps=-1,\n",
            "metric_for_best_model=None,\n",
            "mp_parameters=,\n",
            "no_cuda=False,\n",
            "num_train_epochs=5.0,\n",
            "optim=OptimizerNames.ADAMW_HF,\n",
            "output_dir=/tmp/ner-wikipedia,\n",
            "overwrite_output_dir=False,\n",
            "past_index=-1,\n",
            "per_device_eval_batch_size=256,\n",
            "per_device_train_batch_size=32,\n",
            "prediction_loss_only=False,\n",
            "push_to_hub=False,\n",
            "push_to_hub_model_id=None,\n",
            "push_to_hub_organization=None,\n",
            "push_to_hub_token=<PUSH_TO_HUB_TOKEN>,\n",
            "remove_unused_columns=True,\n",
            "report_to=['tensorboard'],\n",
            "resume_from_checkpoint=None,\n",
            "run_name=/tmp/ner-wikipedia,\n",
            "save_on_each_node=False,\n",
            "save_steps=100,\n",
            "save_strategy=IntervalStrategy.STEPS,\n",
            "save_total_limit=2,\n",
            "seed=1,\n",
            "sharded_ddp=[],\n",
            "skip_memory_metrics=True,\n",
            "tf32=None,\n",
            "tpu_metrics_debug=False,\n",
            "tpu_num_cores=None,\n",
            "use_legacy_prediction_loop=False,\n",
            "warmup_ratio=0.0,\n",
            "warmup_steps=0,\n",
            "weight_decay=0.0,\n",
            "xpu_backend=None,\n",
            ")\n",
            "[INFO|configuration_utils.py:659] 2022-05-17 23:39:56,908 >> loading configuration file https://huggingface.co/cl-tohoku/bert-base-japanese-whole-word-masking/resolve/main/config.json from cache at /root/.cache/huggingface/transformers/573af37b6c39d672f2df687c06ad7d556476cbe43e5bf7771097187c45a3e7bf.abeb707b5d79387dd462e8bfb724637d856e98434b6931c769b8716c6f287258\n",
            "[INFO|configuration_utils.py:708] 2022-05-17 23:39:56,909 >> Model config BertConfig {\n",
            "  \"_name_or_path\": \"cl-tohoku/bert-base-japanese-whole-word-masking\",\n",
            "  \"architectures\": [\n",
            "    \"BertForMaskedLM\"\n",
            "  ],\n",
            "  \"attention_probs_dropout_prob\": 0.1,\n",
            "  \"classifier_dropout\": null,\n",
            "  \"hidden_act\": \"gelu\",\n",
            "  \"hidden_dropout_prob\": 0.1,\n",
            "  \"hidden_size\": 768,\n",
            "  \"id2label\": {\n",
            "    \"0\": \"B-\\u4eba\\u540d\",\n",
            "    \"1\": \"B-\\u305d\\u306e\\u4ed6\\u306e\\u7d44\\u7e54\\u540d\",\n",
            "    \"2\": \"B-\\u30a4\\u30d9\\u30f3\\u30c8\\u540d\",\n",
            "    \"3\": \"B-\\u5730\\u540d\",\n",
            "    \"4\": \"B-\\u653f\\u6cbb\\u7684\\u7d44\\u7e54\\u540d\",\n",
            "    \"5\": \"B-\\u65bd\\u8a2d\\u540d\",\n",
            "    \"6\": \"B-\\u6cd5\\u4eba\\u540d\",\n",
            "    \"7\": \"B-\\u88fd\\u54c1\\u540d\",\n",
            "    \"8\": \"I-\\u4eba\\u540d\",\n",
            "    \"9\": \"I-\\u305d\\u306e\\u4ed6\\u306e\\u7d44\\u7e54\\u540d\",\n",
            "    \"10\": \"I-\\u30a4\\u30d9\\u30f3\\u30c8\\u540d\",\n",
            "    \"11\": \"I-\\u5730\\u540d\",\n",
            "    \"12\": \"I-\\u653f\\u6cbb\\u7684\\u7d44\\u7e54\\u540d\",\n",
            "    \"13\": \"I-\\u65bd\\u8a2d\\u540d\",\n",
            "    \"14\": \"I-\\u6cd5\\u4eba\\u540d\",\n",
            "    \"15\": \"I-\\u88fd\\u54c1\\u540d\",\n",
            "    \"16\": \"O\"\n",
            "  },\n",
            "  \"initializer_range\": 0.02,\n",
            "  \"intermediate_size\": 3072,\n",
            "  \"label2id\": {\n",
            "    \"B-\\u305d\\u306e\\u4ed6\\u306e\\u7d44\\u7e54\\u540d\": 1,\n",
            "    \"B-\\u30a4\\u30d9\\u30f3\\u30c8\\u540d\": 2,\n",
            "    \"B-\\u4eba\\u540d\": 0,\n",
            "    \"B-\\u5730\\u540d\": 3,\n",
            "    \"B-\\u653f\\u6cbb\\u7684\\u7d44\\u7e54\\u540d\": 4,\n",
            "    \"B-\\u65bd\\u8a2d\\u540d\": 5,\n",
            "    \"B-\\u6cd5\\u4eba\\u540d\": 6,\n",
            "    \"B-\\u88fd\\u54c1\\u540d\": 7,\n",
            "    \"I-\\u305d\\u306e\\u4ed6\\u306e\\u7d44\\u7e54\\u540d\": 9,\n",
            "    \"I-\\u30a4\\u30d9\\u30f3\\u30c8\\u540d\": 10,\n",
            "    \"I-\\u4eba\\u540d\": 8,\n",
            "    \"I-\\u5730\\u540d\": 11,\n",
            "    \"I-\\u653f\\u6cbb\\u7684\\u7d44\\u7e54\\u540d\": 12,\n",
            "    \"I-\\u65bd\\u8a2d\\u540d\": 13,\n",
            "    \"I-\\u6cd5\\u4eba\\u540d\": 14,\n",
            "    \"I-\\u88fd\\u54c1\\u540d\": 15,\n",
            "    \"O\": 16\n",
            "  },\n",
            "  \"layer_norm_eps\": 1e-12,\n",
            "  \"max_position_embeddings\": 512,\n",
            "  \"model_type\": \"bert\",\n",
            "  \"num_attention_heads\": 12,\n",
            "  \"num_hidden_layers\": 12,\n",
            "  \"pad_token_id\": 0,\n",
            "  \"position_embedding_type\": \"absolute\",\n",
            "  \"tokenizer_class\": \"BertJapaneseTokenizer\",\n",
            "  \"transformers_version\": \"4.19.2\",\n",
            "  \"type_vocab_size\": 2,\n",
            "  \"use_cache\": true,\n",
            "  \"vocab_size\": 32000\n",
            "}\n",
            "\n",
            "[INFO|configuration_utils.py:659] 2022-05-17 23:39:57,180 >> loading configuration file https://huggingface.co/cl-tohoku/bert-base-japanese-whole-word-masking/resolve/main/config.json from cache at /root/.cache/huggingface/transformers/573af37b6c39d672f2df687c06ad7d556476cbe43e5bf7771097187c45a3e7bf.abeb707b5d79387dd462e8bfb724637d856e98434b6931c769b8716c6f287258\n",
            "[INFO|configuration_utils.py:708] 2022-05-17 23:39:57,180 >> Model config BertConfig {\n",
            "  \"_name_or_path\": \"cl-tohoku/bert-base-japanese-whole-word-masking\",\n",
            "  \"architectures\": [\n",
            "    \"BertForMaskedLM\"\n",
            "  ],\n",
            "  \"attention_probs_dropout_prob\": 0.1,\n",
            "  \"classifier_dropout\": null,\n",
            "  \"hidden_act\": \"gelu\",\n",
            "  \"hidden_dropout_prob\": 0.1,\n",
            "  \"hidden_size\": 768,\n",
            "  \"initializer_range\": 0.02,\n",
            "  \"intermediate_size\": 3072,\n",
            "  \"layer_norm_eps\": 1e-12,\n",
            "  \"max_position_embeddings\": 512,\n",
            "  \"model_type\": \"bert\",\n",
            "  \"num_attention_heads\": 12,\n",
            "  \"num_hidden_layers\": 12,\n",
            "  \"pad_token_id\": 0,\n",
            "  \"position_embedding_type\": \"absolute\",\n",
            "  \"tokenizer_class\": \"BertJapaneseTokenizer\",\n",
            "  \"transformers_version\": \"4.19.2\",\n",
            "  \"type_vocab_size\": 2,\n",
            "  \"use_cache\": true,\n",
            "  \"vocab_size\": 32000\n",
            "}\n",
            "\n",
            "[INFO|tokenization_utils_base.py:1782] 2022-05-17 23:39:57,729 >> loading file https://huggingface.co/cl-tohoku/bert-base-japanese-whole-word-masking/resolve/main/vocab.txt from cache at /root/.cache/huggingface/transformers/15164357d71cd32532e56c1d7c2757141326ae17c53e2277bc417cc7c21da6ea.a7378a0cbee5cff668832a776d72b97a25479604fe9564d5595897f75049e7f4\n",
            "[INFO|tokenization_utils_base.py:1782] 2022-05-17 23:39:57,729 >> loading file https://huggingface.co/cl-tohoku/bert-base-japanese-whole-word-masking/resolve/main/added_tokens.json from cache at None\n",
            "[INFO|tokenization_utils_base.py:1782] 2022-05-17 23:39:57,729 >> loading file https://huggingface.co/cl-tohoku/bert-base-japanese-whole-word-masking/resolve/main/special_tokens_map.json from cache at None\n",
            "[INFO|tokenization_utils_base.py:1782] 2022-05-17 23:39:57,729 >> loading file https://huggingface.co/cl-tohoku/bert-base-japanese-whole-word-masking/resolve/main/tokenizer_config.json from cache at /root/.cache/huggingface/transformers/0e46f722799f19c3f0c53172545108a4b31847d3b9a2d5b100759f6673bd667b.08ae4e4044742b9cc7172698caf1da2524f5597ff8cf848114dd0b730cc44bdc\n",
            "[INFO|configuration_utils.py:659] 2022-05-17 23:39:57,865 >> loading configuration file https://huggingface.co/cl-tohoku/bert-base-japanese-whole-word-masking/resolve/main/config.json from cache at /root/.cache/huggingface/transformers/573af37b6c39d672f2df687c06ad7d556476cbe43e5bf7771097187c45a3e7bf.abeb707b5d79387dd462e8bfb724637d856e98434b6931c769b8716c6f287258\n",
            "[INFO|configuration_utils.py:708] 2022-05-17 23:39:57,866 >> Model config BertConfig {\n",
            "  \"_name_or_path\": \"cl-tohoku/bert-base-japanese-whole-word-masking\",\n",
            "  \"architectures\": [\n",
            "    \"BertForMaskedLM\"\n",
            "  ],\n",
            "  \"attention_probs_dropout_prob\": 0.1,\n",
            "  \"classifier_dropout\": null,\n",
            "  \"hidden_act\": \"gelu\",\n",
            "  \"hidden_dropout_prob\": 0.1,\n",
            "  \"hidden_size\": 768,\n",
            "  \"initializer_range\": 0.02,\n",
            "  \"intermediate_size\": 3072,\n",
            "  \"layer_norm_eps\": 1e-12,\n",
            "  \"max_position_embeddings\": 512,\n",
            "  \"model_type\": \"bert\",\n",
            "  \"num_attention_heads\": 12,\n",
            "  \"num_hidden_layers\": 12,\n",
            "  \"pad_token_id\": 0,\n",
            "  \"position_embedding_type\": \"absolute\",\n",
            "  \"tokenizer_class\": \"BertJapaneseTokenizer\",\n",
            "  \"transformers_version\": \"4.19.2\",\n",
            "  \"type_vocab_size\": 2,\n",
            "  \"use_cache\": true,\n",
            "  \"vocab_size\": 32000\n",
            "}\n",
            "\n",
            "[INFO|hub.py:583] 2022-05-17 23:39:58,065 >> https://huggingface.co/cl-tohoku/bert-base-japanese-whole-word-masking/resolve/main/pytorch_model.bin not found in cache or force_download set to True, downloading to /root/.cache/huggingface/transformers/tmp1mgdgmri\n",
            "Downloading: 100% 424M/424M [00:17<00:00, 24.9MB/s]\n",
            "[INFO|hub.py:587] 2022-05-17 23:40:16,092 >> storing https://huggingface.co/cl-tohoku/bert-base-japanese-whole-word-masking/resolve/main/pytorch_model.bin in cache at /root/.cache/huggingface/transformers/cabd9bbd81093f4c494a02e34eb57e405b7564db216404108c8e8caf10ede4fa.464b54997e35e3cc3223ba6d7f0abdaeb7be5b7648f275f57d839ee0f95611fb\n",
            "[INFO|hub.py:595] 2022-05-17 23:40:16,092 >> creating metadata file for /root/.cache/huggingface/transformers/cabd9bbd81093f4c494a02e34eb57e405b7564db216404108c8e8caf10ede4fa.464b54997e35e3cc3223ba6d7f0abdaeb7be5b7648f275f57d839ee0f95611fb\n",
            "[INFO|modeling_utils.py:1953] 2022-05-17 23:40:16,093 >> loading weights file https://huggingface.co/cl-tohoku/bert-base-japanese-whole-word-masking/resolve/main/pytorch_model.bin from cache at /root/.cache/huggingface/transformers/cabd9bbd81093f4c494a02e34eb57e405b7564db216404108c8e8caf10ede4fa.464b54997e35e3cc3223ba6d7f0abdaeb7be5b7648f275f57d839ee0f95611fb\n",
            "[WARNING|modeling_utils.py:2255] 2022-05-17 23:40:17,605 >> Some weights of the model checkpoint at cl-tohoku/bert-base-japanese-whole-word-masking were not used when initializing BertForTokenClassification: ['cls.predictions.transform.dense.bias', 'cls.predictions.decoder.weight', 'cls.predictions.transform.LayerNorm.bias', 'cls.predictions.transform.dense.weight', 'cls.seq_relationship.weight', 'cls.seq_relationship.bias', 'cls.predictions.bias', 'cls.predictions.transform.LayerNorm.weight']\n",
            "- This IS expected if you are initializing BertForTokenClassification from the checkpoint of a model trained on another task or with another architecture (e.g. initializing a BertForSequenceClassification model from a BertForPreTraining model).\n",
            "- This IS NOT expected if you are initializing BertForTokenClassification from the checkpoint of a model that you expect to be exactly identical (initializing a BertForSequenceClassification model from a BertForSequenceClassification model).\n",
            "[WARNING|modeling_utils.py:2266] 2022-05-17 23:40:17,605 >> Some weights of BertForTokenClassification were not initialized from the model checkpoint at cl-tohoku/bert-base-japanese-whole-word-masking and are newly initialized: ['classifier.bias', 'classifier.weight']\n",
            "You should probably TRAIN this model on a down-stream task to be able to use it for predictions and inference.\n",
            "05/17/2022 23:40:17 - INFO - utils_ner - Creating features from dataset file at /tmp/ner-wikipedia-dataset/preprocessed\n",
            "05/17/2022 23:40:17 - INFO - utils_ner - Writing example 0 of 3231\n",
            "05/17/2022 23:40:17 - INFO - utils_ner - *** Example ***\n",
            "05/17/2022 23:40:17 - INFO - utils_ner - guid: train-1\n",
            "05/17/2022 23:40:17 - INFO - utils_ner - tokens: [CLS] さくら 学院 、 C # ### i ##a # ### o Sm # ### i ##le # ### s の メンバー 。 [SEP]\n",
            "05/17/2022 23:40:17 - INFO - utils_ner - input_ids: 2 9292 6261 6 184 4931 30049 3042 28521 4931 30049 15807 11919 4931 30049 3042 944 4931 30049 936 5 1213 8 3 0 0 0 0 0 0 0 0 0 0 0 0 0 0 0 0 0 0 0 0 0 0 0 0 0 0 0 0 0 0 0 0 0 0 0 0 0 0 0 0 0 0 0 0 0 0 0 0 0 0 0 0 0 0 0 0 0 0 0 0 0 0 0 0 0 0 0 0 0 0 0 0 0 0 0 0 0 0 0 0 0 0 0 0 0 0 0 0 0 0 0 0 0 0 0 0 0 0 0 0 0 0 0 0\n",
            "05/17/2022 23:40:17 - INFO - utils_ner - input_mask: 1 1 1 1 1 1 1 1 1 1 1 1 1 1 1 1 1 1 1 1 1 1 1 1 0 0 0 0 0 0 0 0 0 0 0 0 0 0 0 0 0 0 0 0 0 0 0 0 0 0 0 0 0 0 0 0 0 0 0 0 0 0 0 0 0 0 0 0 0 0 0 0 0 0 0 0 0 0 0 0 0 0 0 0 0 0 0 0 0 0 0 0 0 0 0 0 0 0 0 0 0 0 0 0 0 0 0 0 0 0 0 0 0 0 0 0 0 0 0 0 0 0 0 0 0 0 0 0\n",
            "05/17/2022 23:40:17 - INFO - utils_ner - segment_ids: 0 0 0 0 0 0 0 0 0 0 0 0 0 0 0 0 0 0 0 0 0 0 0 0 0 0 0 0 0 0 0 0 0 0 0 0 0 0 0 0 0 0 0 0 0 0 0 0 0 0 0 0 0 0 0 0 0 0 0 0 0 0 0 0 0 0 0 0 0 0 0 0 0 0 0 0 0 0 0 0 0 0 0 0 0 0 0 0 0 0 0 0 0 0 0 0 0 0 0 0 0 0 0 0 0 0 0 0 0 0 0 0 0 0 0 0 0 0 0 0 0 0 0 0 0 0 0 0\n",
            "05/17/2022 23:40:17 - INFO - utils_ner - label_ids: -100 1 9 16 1 9 -100 -100 -100 9 -100 -100 9 9 -100 -100 -100 9 -100 -100 16 16 16 -100 -100 -100 -100 -100 -100 -100 -100 -100 -100 -100 -100 -100 -100 -100 -100 -100 -100 -100 -100 -100 -100 -100 -100 -100 -100 -100 -100 -100 -100 -100 -100 -100 -100 -100 -100 -100 -100 -100 -100 -100 -100 -100 -100 -100 -100 -100 -100 -100 -100 -100 -100 -100 -100 -100 -100 -100 -100 -100 -100 -100 -100 -100 -100 -100 -100 -100 -100 -100 -100 -100 -100 -100 -100 -100 -100 -100 -100 -100 -100 -100 -100 -100 -100 -100 -100 -100 -100 -100 -100 -100 -100 -100 -100 -100 -100 -100 -100 -100 -100 -100 -100 -100 -100 -100\n",
            "05/17/2022 23:40:17 - INFO - utils_ner - *** Example ***\n",
            "05/17/2022 23:40:17 - INFO - utils_ner - guid: train-2\n",
            "05/17/2022 23:40:17 - INFO - utils_ner - tokens: [CLS] 2008 年 10 月 5 日 、 アウェー で の レク # ### レア # ### ティー ##ボ # ### ・ # ### ウェル # ### バ 戦 で プリメーラ # ### ・ # ### ディ ##ビ ##シオン で の 初 得点 を 決め た 。 [SEP]\n",
            "05/17/2022 23:40:17 - INFO - utils_ner - input_ids: 2 858 19 121 37 76 32 6 21772 12 5 11559 4931 30049 16332 4931 30049 8884 28689 4931 30049 35 4931 30049 16654 4931 30049 116 95 12 20832 4931 30049 35 4931 30049 791 28578 9689 12 5 176 2105 11 2372 10 8 3 0 0 0 0 0 0 0 0 0 0 0 0 0 0 0 0 0 0 0 0 0 0 0 0 0 0 0 0 0 0 0 0 0 0 0 0 0 0 0 0 0 0 0 0 0 0 0 0 0 0 0 0 0 0 0 0 0 0 0 0 0 0 0 0 0 0 0 0 0 0 0 0 0 0 0 0 0 0 0 0\n",
            "05/17/2022 23:40:17 - INFO - utils_ner - input_mask: 1 1 1 1 1 1 1 1 1 1 1 1 1 1 1 1 1 1 1 1 1 1 1 1 1 1 1 1 1 1 1 1 1 1 1 1 1 1 1 1 1 1 1 1 1 1 1 1 0 0 0 0 0 0 0 0 0 0 0 0 0 0 0 0 0 0 0 0 0 0 0 0 0 0 0 0 0 0 0 0 0 0 0 0 0 0 0 0 0 0 0 0 0 0 0 0 0 0 0 0 0 0 0 0 0 0 0 0 0 0 0 0 0 0 0 0 0 0 0 0 0 0 0 0 0 0 0 0\n",
            "05/17/2022 23:40:17 - INFO - utils_ner - segment_ids: 0 0 0 0 0 0 0 0 0 0 0 0 0 0 0 0 0 0 0 0 0 0 0 0 0 0 0 0 0 0 0 0 0 0 0 0 0 0 0 0 0 0 0 0 0 0 0 0 0 0 0 0 0 0 0 0 0 0 0 0 0 0 0 0 0 0 0 0 0 0 0 0 0 0 0 0 0 0 0 0 0 0 0 0 0 0 0 0 0 0 0 0 0 0 0 0 0 0 0 0 0 0 0 0 0 0 0 0 0 0 0 0 0 0 0 0 0 0 0 0 0 0 0 0 0 0 0 0\n",
            "05/17/2022 23:40:17 - INFO - utils_ner - label_ids: -100 16 16 16 16 16 16 16 16 16 16 1 9 -100 -100 9 -100 -100 -100 9 -100 -100 9 -100 -100 9 -100 -100 16 16 1 9 -100 -100 9 -100 -100 -100 -100 16 16 16 16 16 16 16 16 -100 -100 -100 -100 -100 -100 -100 -100 -100 -100 -100 -100 -100 -100 -100 -100 -100 -100 -100 -100 -100 -100 -100 -100 -100 -100 -100 -100 -100 -100 -100 -100 -100 -100 -100 -100 -100 -100 -100 -100 -100 -100 -100 -100 -100 -100 -100 -100 -100 -100 -100 -100 -100 -100 -100 -100 -100 -100 -100 -100 -100 -100 -100 -100 -100 -100 -100 -100 -100 -100 -100 -100 -100 -100 -100 -100 -100 -100 -100 -100 -100\n",
            "05/17/2022 23:40:17 - INFO - utils_ner - *** Example ***\n",
            "05/17/2022 23:40:17 - INFO - utils_ner - guid: train-3\n",
            "05/17/2022 23:40:17 - INFO - utils_ner - tokens: [CLS] ロシア 政府 に 近い と さ れ 、 ロシア による SNS を 用い た 世論 操作 を 行っ た 「 オリ # ### ギ # ### ノ の トロ # ### ー ##ル 工場 」 として も 知ら れる 。 [SEP]\n",
            "05/17/2022 23:40:17 - INFO - utils_ner - input_ids: 2 1152 886 7 2182 13 26 20 6 1152 250 18332 11 585 10 10999 3087 11 517 10 36 1465 4931 30049 708 4931 30049 534 5 3480 4931 30049 3871 28467 1851 38 50 28 742 62 8 3 0 0 0 0 0 0 0 0 0 0 0 0 0 0 0 0 0 0 0 0 0 0 0 0 0 0 0 0 0 0 0 0 0 0 0 0 0 0 0 0 0 0 0 0 0 0 0 0 0 0 0 0 0 0 0 0 0 0 0 0 0 0 0 0 0 0 0 0 0 0 0 0 0 0 0 0 0 0 0 0 0 0 0 0 0 0\n",
            "05/17/2022 23:40:17 - INFO - utils_ner - input_mask: 1 1 1 1 1 1 1 1 1 1 1 1 1 1 1 1 1 1 1 1 1 1 1 1 1 1 1 1 1 1 1 1 1 1 1 1 1 1 1 1 1 1 0 0 0 0 0 0 0 0 0 0 0 0 0 0 0 0 0 0 0 0 0 0 0 0 0 0 0 0 0 0 0 0 0 0 0 0 0 0 0 0 0 0 0 0 0 0 0 0 0 0 0 0 0 0 0 0 0 0 0 0 0 0 0 0 0 0 0 0 0 0 0 0 0 0 0 0 0 0 0 0 0 0 0 0 0 0\n",
            "05/17/2022 23:40:17 - INFO - utils_ner - segment_ids: 0 0 0 0 0 0 0 0 0 0 0 0 0 0 0 0 0 0 0 0 0 0 0 0 0 0 0 0 0 0 0 0 0 0 0 0 0 0 0 0 0 0 0 0 0 0 0 0 0 0 0 0 0 0 0 0 0 0 0 0 0 0 0 0 0 0 0 0 0 0 0 0 0 0 0 0 0 0 0 0 0 0 0 0 0 0 0 0 0 0 0 0 0 0 0 0 0 0 0 0 0 0 0 0 0 0 0 0 0 0 0 0 0 0 0 0 0 0 0 0 0 0 0 0 0 0 0 0\n",
            "05/17/2022 23:40:17 - INFO - utils_ner - label_ids: -100 6 14 16 16 16 16 16 16 3 16 16 16 16 16 16 16 16 16 16 16 16 16 -100 -100 16 -100 -100 16 16 16 -100 -100 -100 16 16 16 16 16 16 16 -100 -100 -100 -100 -100 -100 -100 -100 -100 -100 -100 -100 -100 -100 -100 -100 -100 -100 -100 -100 -100 -100 -100 -100 -100 -100 -100 -100 -100 -100 -100 -100 -100 -100 -100 -100 -100 -100 -100 -100 -100 -100 -100 -100 -100 -100 -100 -100 -100 -100 -100 -100 -100 -100 -100 -100 -100 -100 -100 -100 -100 -100 -100 -100 -100 -100 -100 -100 -100 -100 -100 -100 -100 -100 -100 -100 -100 -100 -100 -100 -100 -100 -100 -100 -100 -100 -100\n",
            "05/17/2022 23:40:17 - INFO - utils_ner - *** Example ***\n",
            "05/17/2022 23:40:17 - INFO - utils_ner - guid: train-4\n",
            "05/17/2022 23:40:17 - INFO - utils_ner - tokens: [CLS] 宮崎 市立 佐 # ### 土 # ### 原 中学校 は 、 宮崎 県 宮崎 市 佐 # ### 土 # ### 原 町 に ある 公立 中学校 。 [SEP]\n",
            "05/17/2022 23:40:17 - INFO - utils_ner - input_ids: 2 5101 1928 1160 4931 30049 662 4931 30049 385 1795 9 6 5101 149 5101 94 1160 4931 30049 662 4931 30049 385 252 7 31 3338 1795 8 3 0 0 0 0 0 0 0 0 0 0 0 0 0 0 0 0 0 0 0 0 0 0 0 0 0 0 0 0 0 0 0 0 0 0 0 0 0 0 0 0 0 0 0 0 0 0 0 0 0 0 0 0 0 0 0 0 0 0 0 0 0 0 0 0 0 0 0 0 0 0 0 0 0 0 0 0 0 0 0 0 0 0 0 0 0 0 0 0 0 0 0 0 0 0 0 0 0\n",
            "05/17/2022 23:40:17 - INFO - utils_ner - input_mask: 1 1 1 1 1 1 1 1 1 1 1 1 1 1 1 1 1 1 1 1 1 1 1 1 1 1 1 1 1 1 1 0 0 0 0 0 0 0 0 0 0 0 0 0 0 0 0 0 0 0 0 0 0 0 0 0 0 0 0 0 0 0 0 0 0 0 0 0 0 0 0 0 0 0 0 0 0 0 0 0 0 0 0 0 0 0 0 0 0 0 0 0 0 0 0 0 0 0 0 0 0 0 0 0 0 0 0 0 0 0 0 0 0 0 0 0 0 0 0 0 0 0 0 0 0 0 0 0\n",
            "05/17/2022 23:40:17 - INFO - utils_ner - segment_ids: 0 0 0 0 0 0 0 0 0 0 0 0 0 0 0 0 0 0 0 0 0 0 0 0 0 0 0 0 0 0 0 0 0 0 0 0 0 0 0 0 0 0 0 0 0 0 0 0 0 0 0 0 0 0 0 0 0 0 0 0 0 0 0 0 0 0 0 0 0 0 0 0 0 0 0 0 0 0 0 0 0 0 0 0 0 0 0 0 0 0 0 0 0 0 0 0 0 0 0 0 0 0 0 0 0 0 0 0 0 0 0 0 0 0 0 0 0 0 0 0 0 0 0 0 0 0 0 0\n",
            "05/17/2022 23:40:17 - INFO - utils_ner - label_ids: -100 5 13 13 13 -100 -100 13 -100 -100 13 16 16 3 11 11 11 11 11 -100 -100 11 -100 -100 11 16 16 16 16 16 -100 -100 -100 -100 -100 -100 -100 -100 -100 -100 -100 -100 -100 -100 -100 -100 -100 -100 -100 -100 -100 -100 -100 -100 -100 -100 -100 -100 -100 -100 -100 -100 -100 -100 -100 -100 -100 -100 -100 -100 -100 -100 -100 -100 -100 -100 -100 -100 -100 -100 -100 -100 -100 -100 -100 -100 -100 -100 -100 -100 -100 -100 -100 -100 -100 -100 -100 -100 -100 -100 -100 -100 -100 -100 -100 -100 -100 -100 -100 -100 -100 -100 -100 -100 -100 -100 -100 -100 -100 -100 -100 -100 -100 -100 -100 -100 -100 -100\n",
            "05/17/2022 23:40:17 - INFO - utils_ner - *** Example ***\n",
            "05/17/2022 23:40:17 - INFO - utils_ner - guid: train-5\n",
            "05/17/2022 23:40:17 - INFO - utils_ner - tokens: [CLS] この 時点 で 鈴 # ### 屋 は 日本 国内 に 約 200 店舗 を 有し て い た が 、 これら の 事業 は 和議 申請 後 に も 継続 さ れる と さ れ た 。 [SEP]\n",
            "05/17/2022 23:40:17 - INFO - utils_ner - input_ids: 2 70 1531 12 2803 4931 30049 1341 9 91 1216 7 482 86 2413 11 4020 16 21 10 14 6 875 5 774 9 26325 5439 83 7 28 2934 26 62 13 26 20 10 8 3 0 0 0 0 0 0 0 0 0 0 0 0 0 0 0 0 0 0 0 0 0 0 0 0 0 0 0 0 0 0 0 0 0 0 0 0 0 0 0 0 0 0 0 0 0 0 0 0 0 0 0 0 0 0 0 0 0 0 0 0 0 0 0 0 0 0 0 0 0 0 0 0 0 0 0 0 0 0 0 0 0 0 0 0 0 0 0 0\n",
            "05/17/2022 23:40:17 - INFO - utils_ner - input_mask: 1 1 1 1 1 1 1 1 1 1 1 1 1 1 1 1 1 1 1 1 1 1 1 1 1 1 1 1 1 1 1 1 1 1 1 1 1 1 1 1 0 0 0 0 0 0 0 0 0 0 0 0 0 0 0 0 0 0 0 0 0 0 0 0 0 0 0 0 0 0 0 0 0 0 0 0 0 0 0 0 0 0 0 0 0 0 0 0 0 0 0 0 0 0 0 0 0 0 0 0 0 0 0 0 0 0 0 0 0 0 0 0 0 0 0 0 0 0 0 0 0 0 0 0 0 0 0 0\n",
            "05/17/2022 23:40:17 - INFO - utils_ner - segment_ids: 0 0 0 0 0 0 0 0 0 0 0 0 0 0 0 0 0 0 0 0 0 0 0 0 0 0 0 0 0 0 0 0 0 0 0 0 0 0 0 0 0 0 0 0 0 0 0 0 0 0 0 0 0 0 0 0 0 0 0 0 0 0 0 0 0 0 0 0 0 0 0 0 0 0 0 0 0 0 0 0 0 0 0 0 0 0 0 0 0 0 0 0 0 0 0 0 0 0 0 0 0 0 0 0 0 0 0 0 0 0 0 0 0 0 0 0 0 0 0 0 0 0 0 0 0 0 0 0\n",
            "05/17/2022 23:40:17 - INFO - utils_ner - label_ids: -100 16 16 16 6 14 -100 -100 16 3 16 16 16 16 16 16 16 16 16 16 16 16 16 16 16 16 16 16 16 16 16 16 16 16 16 16 16 16 16 -100 -100 -100 -100 -100 -100 -100 -100 -100 -100 -100 -100 -100 -100 -100 -100 -100 -100 -100 -100 -100 -100 -100 -100 -100 -100 -100 -100 -100 -100 -100 -100 -100 -100 -100 -100 -100 -100 -100 -100 -100 -100 -100 -100 -100 -100 -100 -100 -100 -100 -100 -100 -100 -100 -100 -100 -100 -100 -100 -100 -100 -100 -100 -100 -100 -100 -100 -100 -100 -100 -100 -100 -100 -100 -100 -100 -100 -100 -100 -100 -100 -100 -100 -100 -100 -100 -100 -100 -100\n",
            "05/17/2022 23:40:20 - INFO - utils_ner - Saving features into cached file /tmp/ner-wikipedia-dataset/preprocessed/cached_train_BertJapaneseTokenizer_128\n",
            "05/17/2022 23:40:21 - INFO - utils_ner - Creating features from dataset file at /tmp/ner-wikipedia-dataset/preprocessed\n",
            "05/17/2022 23:40:21 - INFO - utils_ner - Writing example 0 of 1078\n",
            "05/17/2022 23:40:21 - INFO - utils_ner - *** Example ***\n",
            "05/17/2022 23:40:21 - INFO - utils_ner - guid: dev-1\n",
            "05/17/2022 23:40:21 - INFO - utils_ner - tokens: [CLS] 本 曲 の ヒット により 布施 は 1967 年 の 「 第 18 回 NHK 紅白 歌合戦 」 に 初 出場 を 果たし 、 本 曲 を 歌唱 し た 。 [SEP]\n",
            "05/17/2022 23:40:21 - INFO - utils_ner - input_ids: 2 108 543 5 2758 225 27103 9 3577 19 5 36 97 163 198 2190 11651 15274 38 7 176 620 11 1521 6 108 543 11 8098 15 10 8 3 0 0 0 0 0 0 0 0 0 0 0 0 0 0 0 0 0 0 0 0 0 0 0 0 0 0 0 0 0 0 0 0 0 0 0 0 0 0 0 0 0 0 0 0 0 0 0 0 0 0 0 0 0 0 0 0 0 0 0 0 0 0 0 0 0 0 0 0 0 0 0 0 0 0 0 0 0 0 0 0 0 0 0 0 0 0 0 0 0 0 0 0 0 0 0\n",
            "05/17/2022 23:40:21 - INFO - utils_ner - input_mask: 1 1 1 1 1 1 1 1 1 1 1 1 1 1 1 1 1 1 1 1 1 1 1 1 1 1 1 1 1 1 1 1 1 0 0 0 0 0 0 0 0 0 0 0 0 0 0 0 0 0 0 0 0 0 0 0 0 0 0 0 0 0 0 0 0 0 0 0 0 0 0 0 0 0 0 0 0 0 0 0 0 0 0 0 0 0 0 0 0 0 0 0 0 0 0 0 0 0 0 0 0 0 0 0 0 0 0 0 0 0 0 0 0 0 0 0 0 0 0 0 0 0 0 0 0 0 0 0\n",
            "05/17/2022 23:40:21 - INFO - utils_ner - segment_ids: 0 0 0 0 0 0 0 0 0 0 0 0 0 0 0 0 0 0 0 0 0 0 0 0 0 0 0 0 0 0 0 0 0 0 0 0 0 0 0 0 0 0 0 0 0 0 0 0 0 0 0 0 0 0 0 0 0 0 0 0 0 0 0 0 0 0 0 0 0 0 0 0 0 0 0 0 0 0 0 0 0 0 0 0 0 0 0 0 0 0 0 0 0 0 0 0 0 0 0 0 0 0 0 0 0 0 0 0 0 0 0 0 0 0 0 0 0 0 0 0 0 0 0 0 0 0 0 0\n",
            "05/17/2022 23:40:21 - INFO - utils_ner - label_ids: -100 16 16 16 16 16 0 16 16 16 16 16 2 10 10 10 10 10 16 16 16 16 16 16 16 16 16 16 16 16 16 16 -100 -100 -100 -100 -100 -100 -100 -100 -100 -100 -100 -100 -100 -100 -100 -100 -100 -100 -100 -100 -100 -100 -100 -100 -100 -100 -100 -100 -100 -100 -100 -100 -100 -100 -100 -100 -100 -100 -100 -100 -100 -100 -100 -100 -100 -100 -100 -100 -100 -100 -100 -100 -100 -100 -100 -100 -100 -100 -100 -100 -100 -100 -100 -100 -100 -100 -100 -100 -100 -100 -100 -100 -100 -100 -100 -100 -100 -100 -100 -100 -100 -100 -100 -100 -100 -100 -100 -100 -100 -100 -100 -100 -100 -100 -100 -100\n",
            "05/17/2022 23:40:21 - INFO - utils_ner - *** Example ***\n",
            "05/17/2022 23:40:21 - INFO - utils_ner - guid: dev-2\n",
            "05/17/2022 23:40:21 - INFO - utils_ner - tokens: [CLS] 日本 全国 で の 平均 気温 の 実際 の 値 は 、 正確 な 見積 も # ### り が 難しい こと 、 正確 な 値 が 求 # ### まっ た として も 、 気候 変動 の 監視 上 、 その 数値 そのもの に は あまり 意味 が ない こと を 理由 に 気象庁 は 算出 し て い ない 。 [SEP]\n",
            "05/17/2022 23:40:21 - INFO - utils_ner - input_ids: 2 91 1169 12 5 1982 6345 5 1379 5 1849 9 6 4645 18 14164 28 4931 30049 1582 14 6185 45 6 4645 18 1849 14 1354 4931 30049 15710 10 50 28 6 5015 7088 5 5712 109 6 59 6713 4288 7 9 2482 967 14 80 45 11 1515 7 19112 9 15776 15 16 21 80 8 3 0 0 0 0 0 0 0 0 0 0 0 0 0 0 0 0 0 0 0 0 0 0 0 0 0 0 0 0 0 0 0 0 0 0 0 0 0 0 0 0 0 0 0 0 0 0 0 0 0 0 0 0 0 0 0 0 0 0 0 0 0 0 0 0\n",
            "05/17/2022 23:40:21 - INFO - utils_ner - input_mask: 1 1 1 1 1 1 1 1 1 1 1 1 1 1 1 1 1 1 1 1 1 1 1 1 1 1 1 1 1 1 1 1 1 1 1 1 1 1 1 1 1 1 1 1 1 1 1 1 1 1 1 1 1 1 1 1 1 1 1 1 1 1 1 1 0 0 0 0 0 0 0 0 0 0 0 0 0 0 0 0 0 0 0 0 0 0 0 0 0 0 0 0 0 0 0 0 0 0 0 0 0 0 0 0 0 0 0 0 0 0 0 0 0 0 0 0 0 0 0 0 0 0 0 0 0 0 0 0\n",
            "05/17/2022 23:40:21 - INFO - utils_ner - segment_ids: 0 0 0 0 0 0 0 0 0 0 0 0 0 0 0 0 0 0 0 0 0 0 0 0 0 0 0 0 0 0 0 0 0 0 0 0 0 0 0 0 0 0 0 0 0 0 0 0 0 0 0 0 0 0 0 0 0 0 0 0 0 0 0 0 0 0 0 0 0 0 0 0 0 0 0 0 0 0 0 0 0 0 0 0 0 0 0 0 0 0 0 0 0 0 0 0 0 0 0 0 0 0 0 0 0 0 0 0 0 0 0 0 0 0 0 0 0 0 0 0 0 0 0 0 0 0 0 0\n",
            "05/17/2022 23:40:21 - INFO - utils_ner - label_ids: -100 3 16 16 16 16 16 16 16 16 16 16 16 16 16 16 -100 16 -100 -100 16 16 16 16 16 16 16 16 16 16 -100 -100 16 16 16 16 16 16 16 16 16 16 16 16 16 16 16 16 16 16 16 16 16 16 16 4 16 16 16 16 16 16 16 -100 -100 -100 -100 -100 -100 -100 -100 -100 -100 -100 -100 -100 -100 -100 -100 -100 -100 -100 -100 -100 -100 -100 -100 -100 -100 -100 -100 -100 -100 -100 -100 -100 -100 -100 -100 -100 -100 -100 -100 -100 -100 -100 -100 -100 -100 -100 -100 -100 -100 -100 -100 -100 -100 -100 -100 -100 -100 -100 -100 -100 -100 -100 -100 -100\n",
            "05/17/2022 23:40:21 - INFO - utils_ner - *** Example ***\n",
            "05/17/2022 23:40:21 - INFO - utils_ner - guid: dev-3\n",
            "05/17/2022 23:40:21 - INFO - utils_ner - tokens: [CLS] アンドリュー ・ ハンデ # ### [UNK] サイド は 、 19 世紀 に イギリス の ダービー に 存在 し た 鉄鋼 関連 の 企業 で ある 。 [SEP]\n",
            "05/17/2022 23:40:21 - INFO - utils_ner - input_ids: 2 12795 35 23141 4931 30049 1 4300 9 6 39 740 7 723 5 9829 7 451 15 10 18101 1634 5 1189 12 31 8 3 0 0 0 0 0 0 0 0 0 0 0 0 0 0 0 0 0 0 0 0 0 0 0 0 0 0 0 0 0 0 0 0 0 0 0 0 0 0 0 0 0 0 0 0 0 0 0 0 0 0 0 0 0 0 0 0 0 0 0 0 0 0 0 0 0 0 0 0 0 0 0 0 0 0 0 0 0 0 0 0 0 0 0 0 0 0 0 0 0 0 0 0 0 0 0 0 0 0 0 0\n",
            "05/17/2022 23:40:21 - INFO - utils_ner - input_mask: 1 1 1 1 1 1 1 1 1 1 1 1 1 1 1 1 1 1 1 1 1 1 1 1 1 1 1 1 0 0 0 0 0 0 0 0 0 0 0 0 0 0 0 0 0 0 0 0 0 0 0 0 0 0 0 0 0 0 0 0 0 0 0 0 0 0 0 0 0 0 0 0 0 0 0 0 0 0 0 0 0 0 0 0 0 0 0 0 0 0 0 0 0 0 0 0 0 0 0 0 0 0 0 0 0 0 0 0 0 0 0 0 0 0 0 0 0 0 0 0 0 0 0 0 0 0 0 0\n",
            "05/17/2022 23:40:21 - INFO - utils_ner - segment_ids: 0 0 0 0 0 0 0 0 0 0 0 0 0 0 0 0 0 0 0 0 0 0 0 0 0 0 0 0 0 0 0 0 0 0 0 0 0 0 0 0 0 0 0 0 0 0 0 0 0 0 0 0 0 0 0 0 0 0 0 0 0 0 0 0 0 0 0 0 0 0 0 0 0 0 0 0 0 0 0 0 0 0 0 0 0 0 0 0 0 0 0 0 0 0 0 0 0 0 0 0 0 0 0 0 0 0 0 0 0 0 0 0 0 0 0 0 0 0 0 0 0 0 0 0 0 0 0 0\n",
            "05/17/2022 23:40:21 - INFO - utils_ner - label_ids: -100 6 14 14 14 -100 -100 14 16 16 16 16 16 3 16 3 16 16 16 16 16 16 16 16 16 16 16 -100 -100 -100 -100 -100 -100 -100 -100 -100 -100 -100 -100 -100 -100 -100 -100 -100 -100 -100 -100 -100 -100 -100 -100 -100 -100 -100 -100 -100 -100 -100 -100 -100 -100 -100 -100 -100 -100 -100 -100 -100 -100 -100 -100 -100 -100 -100 -100 -100 -100 -100 -100 -100 -100 -100 -100 -100 -100 -100 -100 -100 -100 -100 -100 -100 -100 -100 -100 -100 -100 -100 -100 -100 -100 -100 -100 -100 -100 -100 -100 -100 -100 -100 -100 -100 -100 -100 -100 -100 -100 -100 -100 -100 -100 -100 -100 -100 -100 -100 -100 -100\n",
            "05/17/2022 23:40:21 - INFO - utils_ner - *** Example ***\n",
            "05/17/2022 23:40:21 - INFO - utils_ner - guid: dev-4\n",
            "05/17/2022 23:40:21 - INFO - utils_ner - tokens: [CLS] AMD は インテル の セカンド ソース メーカー として x 86 プロセッサ を 製造 し 始め た 。 [SEP]\n",
            "05/17/2022 23:40:21 - INFO - utils_ner - input_ids: 2 26753 9 12191 5 10056 7802 2334 50 3908 5223 12568 11 1161 15 1165 10 8 3 0 0 0 0 0 0 0 0 0 0 0 0 0 0 0 0 0 0 0 0 0 0 0 0 0 0 0 0 0 0 0 0 0 0 0 0 0 0 0 0 0 0 0 0 0 0 0 0 0 0 0 0 0 0 0 0 0 0 0 0 0 0 0 0 0 0 0 0 0 0 0 0 0 0 0 0 0 0 0 0 0 0 0 0 0 0 0 0 0 0 0 0 0 0 0 0 0 0 0 0 0 0 0 0 0 0 0 0 0\n",
            "05/17/2022 23:40:21 - INFO - utils_ner - input_mask: 1 1 1 1 1 1 1 1 1 1 1 1 1 1 1 1 1 1 1 0 0 0 0 0 0 0 0 0 0 0 0 0 0 0 0 0 0 0 0 0 0 0 0 0 0 0 0 0 0 0 0 0 0 0 0 0 0 0 0 0 0 0 0 0 0 0 0 0 0 0 0 0 0 0 0 0 0 0 0 0 0 0 0 0 0 0 0 0 0 0 0 0 0 0 0 0 0 0 0 0 0 0 0 0 0 0 0 0 0 0 0 0 0 0 0 0 0 0 0 0 0 0 0 0 0 0 0 0\n",
            "05/17/2022 23:40:21 - INFO - utils_ner - segment_ids: 0 0 0 0 0 0 0 0 0 0 0 0 0 0 0 0 0 0 0 0 0 0 0 0 0 0 0 0 0 0 0 0 0 0 0 0 0 0 0 0 0 0 0 0 0 0 0 0 0 0 0 0 0 0 0 0 0 0 0 0 0 0 0 0 0 0 0 0 0 0 0 0 0 0 0 0 0 0 0 0 0 0 0 0 0 0 0 0 0 0 0 0 0 0 0 0 0 0 0 0 0 0 0 0 0 0 0 0 0 0 0 0 0 0 0 0 0 0 0 0 0 0 0 0 0 0 0 0\n",
            "05/17/2022 23:40:21 - INFO - utils_ner - label_ids: -100 6 16 6 16 16 16 16 16 7 15 15 16 16 16 16 16 16 -100 -100 -100 -100 -100 -100 -100 -100 -100 -100 -100 -100 -100 -100 -100 -100 -100 -100 -100 -100 -100 -100 -100 -100 -100 -100 -100 -100 -100 -100 -100 -100 -100 -100 -100 -100 -100 -100 -100 -100 -100 -100 -100 -100 -100 -100 -100 -100 -100 -100 -100 -100 -100 -100 -100 -100 -100 -100 -100 -100 -100 -100 -100 -100 -100 -100 -100 -100 -100 -100 -100 -100 -100 -100 -100 -100 -100 -100 -100 -100 -100 -100 -100 -100 -100 -100 -100 -100 -100 -100 -100 -100 -100 -100 -100 -100 -100 -100 -100 -100 -100 -100 -100 -100 -100 -100 -100 -100 -100 -100\n",
            "05/17/2022 23:40:21 - INFO - utils_ner - *** Example ***\n",
            "05/17/2022 23:40:21 - INFO - utils_ner - guid: dev-5\n",
            "05/17/2022 23:40:21 - INFO - utils_ner - tokens: [CLS] しかし その よう な 方式 の アニメ 制作 は 定着 せ ず 、 「 鉄 # ### 腕 アトム 」 式 の ビジネス モデル が 旧 虫 プロ 以後 の 時代 に も 引き継が れ た 。 [SEP]\n",
            "05/17/2022 23:40:21 - INFO - utils_ner - input_ids: 2 373 59 124 18 1922 5 1149 1079 9 5231 191 255 6 36 509 4931 30049 4657 24358 38 616 5 4646 1317 14 647 6651 285 1892 5 315 7 28 8332 20 10 8 3 0 0 0 0 0 0 0 0 0 0 0 0 0 0 0 0 0 0 0 0 0 0 0 0 0 0 0 0 0 0 0 0 0 0 0 0 0 0 0 0 0 0 0 0 0 0 0 0 0 0 0 0 0 0 0 0 0 0 0 0 0 0 0 0 0 0 0 0 0 0 0 0 0 0 0 0 0 0 0 0 0 0 0 0 0 0 0 0 0\n",
            "05/17/2022 23:40:21 - INFO - utils_ner - input_mask: 1 1 1 1 1 1 1 1 1 1 1 1 1 1 1 1 1 1 1 1 1 1 1 1 1 1 1 1 1 1 1 1 1 1 1 1 1 1 1 0 0 0 0 0 0 0 0 0 0 0 0 0 0 0 0 0 0 0 0 0 0 0 0 0 0 0 0 0 0 0 0 0 0 0 0 0 0 0 0 0 0 0 0 0 0 0 0 0 0 0 0 0 0 0 0 0 0 0 0 0 0 0 0 0 0 0 0 0 0 0 0 0 0 0 0 0 0 0 0 0 0 0 0 0 0 0 0 0\n",
            "05/17/2022 23:40:21 - INFO - utils_ner - segment_ids: 0 0 0 0 0 0 0 0 0 0 0 0 0 0 0 0 0 0 0 0 0 0 0 0 0 0 0 0 0 0 0 0 0 0 0 0 0 0 0 0 0 0 0 0 0 0 0 0 0 0 0 0 0 0 0 0 0 0 0 0 0 0 0 0 0 0 0 0 0 0 0 0 0 0 0 0 0 0 0 0 0 0 0 0 0 0 0 0 0 0 0 0 0 0 0 0 0 0 0 0 0 0 0 0 0 0 0 0 0 0 0 0 0 0 0 0 0 0 0 0 0 0 0 0 0 0 0 0\n",
            "05/17/2022 23:40:21 - INFO - utils_ner - label_ids: -100 16 16 16 16 16 16 16 16 16 16 16 16 16 16 7 15 -100 -100 15 16 16 16 16 16 16 6 14 14 16 16 16 16 16 16 16 16 16 -100 -100 -100 -100 -100 -100 -100 -100 -100 -100 -100 -100 -100 -100 -100 -100 -100 -100 -100 -100 -100 -100 -100 -100 -100 -100 -100 -100 -100 -100 -100 -100 -100 -100 -100 -100 -100 -100 -100 -100 -100 -100 -100 -100 -100 -100 -100 -100 -100 -100 -100 -100 -100 -100 -100 -100 -100 -100 -100 -100 -100 -100 -100 -100 -100 -100 -100 -100 -100 -100 -100 -100 -100 -100 -100 -100 -100 -100 -100 -100 -100 -100 -100 -100 -100 -100 -100 -100 -100 -100\n",
            "05/17/2022 23:40:22 - INFO - utils_ner - Saving features into cached file /tmp/ner-wikipedia-dataset/preprocessed/cached_dev_BertJapaneseTokenizer_128\n",
            "/usr/local/lib/python3.7/dist-packages/transformers/trainer.py:1282: FutureWarning: `model_path` is deprecated and will be removed in a future version. Use `resume_from_checkpoint` instead.\n",
            "  FutureWarning,\n",
            "/usr/local/lib/python3.7/dist-packages/transformers/optimization.py:309: FutureWarning: This implementation of AdamW is deprecated and will be removed in a future version. Use the PyTorch implementation torch.optim.AdamW instead, or set `no_deprecation_warning=True` to disable this warning\n",
            "  FutureWarning,\n",
            "[INFO|trainer.py:1419] 2022-05-17 23:40:37,983 >> ***** Running training *****\n",
            "[INFO|trainer.py:1420] 2022-05-17 23:40:37,983 >>   Num examples = 3231\n",
            "[INFO|trainer.py:1421] 2022-05-17 23:40:37,983 >>   Num Epochs = 5\n",
            "[INFO|trainer.py:1422] 2022-05-17 23:40:37,983 >>   Instantaneous batch size per device = 32\n",
            "[INFO|trainer.py:1423] 2022-05-17 23:40:37,983 >>   Total train batch size (w. parallel, distributed & accumulation) = 32\n",
            "[INFO|trainer.py:1424] 2022-05-17 23:40:37,983 >>   Gradient Accumulation steps = 1\n",
            "[INFO|trainer.py:1425] 2022-05-17 23:40:37,983 >>   Total optimization steps = 505\n",
            "{'loss': 0.6821, 'learning_rate': 4.5049504950495054e-05, 'epoch': 0.5}\n",
            "{'loss': 0.1847, 'learning_rate': 4.0099009900990106e-05, 'epoch': 0.99}\n",
            " 20% 100/505 [01:03<04:27,  1.51it/s][INFO|trainer.py:2340] 2022-05-17 23:41:41,072 >> Saving model checkpoint to /tmp/ner-wikipedia/checkpoint-100\n",
            "[INFO|configuration_utils.py:446] 2022-05-17 23:41:41,073 >> Configuration saved in /tmp/ner-wikipedia/checkpoint-100/config.json\n",
            "[INFO|modeling_utils.py:1542] 2022-05-17 23:41:42,351 >> Model weights saved in /tmp/ner-wikipedia/checkpoint-100/pytorch_model.bin\n",
            "{'loss': 0.0937, 'learning_rate': 3.514851485148515e-05, 'epoch': 1.49}\n",
            "{'loss': 0.0676, 'learning_rate': 3.01980198019802e-05, 'epoch': 1.98}\n",
            " 40% 200/505 [02:14<03:22,  1.51it/s][INFO|trainer.py:2340] 2022-05-17 23:42:52,948 >> Saving model checkpoint to /tmp/ner-wikipedia/checkpoint-200\n",
            "[INFO|configuration_utils.py:446] 2022-05-17 23:42:52,949 >> Configuration saved in /tmp/ner-wikipedia/checkpoint-200/config.json\n",
            "[INFO|modeling_utils.py:1542] 2022-05-17 23:42:54,217 >> Model weights saved in /tmp/ner-wikipedia/checkpoint-200/pytorch_model.bin\n",
            "{'loss': 0.0337, 'learning_rate': 2.5247524752475248e-05, 'epoch': 2.48}\n",
            "{'loss': 0.0337, 'learning_rate': 2.02970297029703e-05, 'epoch': 2.97}\n",
            " 59% 300/505 [03:26<02:16,  1.50it/s][INFO|trainer.py:2340] 2022-05-17 23:44:04,663 >> Saving model checkpoint to /tmp/ner-wikipedia/checkpoint-300\n",
            "[INFO|configuration_utils.py:446] 2022-05-17 23:44:04,664 >> Configuration saved in /tmp/ner-wikipedia/checkpoint-300/config.json\n",
            "[INFO|modeling_utils.py:1542] 2022-05-17 23:44:05,889 >> Model weights saved in /tmp/ner-wikipedia/checkpoint-300/pytorch_model.bin\n",
            "[INFO|trainer.py:2418] 2022-05-17 23:44:09,480 >> Deleting older checkpoint [/tmp/ner-wikipedia/checkpoint-100] due to args.save_total_limit\n",
            "{'loss': 0.0173, 'learning_rate': 1.534653465346535e-05, 'epoch': 3.47}\n",
            "{'loss': 0.0158, 'learning_rate': 1.0396039603960395e-05, 'epoch': 3.96}\n",
            " 79% 400/505 [04:38<01:10,  1.49it/s][INFO|trainer.py:2340] 2022-05-17 23:45:16,359 >> Saving model checkpoint to /tmp/ner-wikipedia/checkpoint-400\n",
            "[INFO|configuration_utils.py:446] 2022-05-17 23:45:16,360 >> Configuration saved in /tmp/ner-wikipedia/checkpoint-400/config.json\n",
            "[INFO|modeling_utils.py:1542] 2022-05-17 23:45:17,571 >> Model weights saved in /tmp/ner-wikipedia/checkpoint-400/pytorch_model.bin\n",
            "[INFO|trainer.py:2418] 2022-05-17 23:45:21,219 >> Deleting older checkpoint [/tmp/ner-wikipedia/checkpoint-200] due to args.save_total_limit\n",
            "{'loss': 0.0119, 'learning_rate': 5.445544554455446e-06, 'epoch': 4.46}\n",
            "{'loss': 0.0084, 'learning_rate': 4.950495049504951e-07, 'epoch': 4.95}\n",
            " 99% 500/505 [05:50<00:03,  1.50it/s][INFO|trainer.py:2340] 2022-05-17 23:46:28,168 >> Saving model checkpoint to /tmp/ner-wikipedia/checkpoint-500\n",
            "[INFO|configuration_utils.py:446] 2022-05-17 23:46:28,169 >> Configuration saved in /tmp/ner-wikipedia/checkpoint-500/config.json\n",
            "[INFO|modeling_utils.py:1542] 2022-05-17 23:46:29,408 >> Model weights saved in /tmp/ner-wikipedia/checkpoint-500/pytorch_model.bin\n",
            "[INFO|trainer.py:2418] 2022-05-17 23:46:32,940 >> Deleting older checkpoint [/tmp/ner-wikipedia/checkpoint-300] due to args.save_total_limit\n",
            "100% 505/505 [05:58<00:00,  1.01s/it][INFO|trainer.py:1662] 2022-05-17 23:46:36,379 >> \n",
            "\n",
            "Training completed. Do not forget to share your model on huggingface.co/models =)\n",
            "\n",
            "\n",
            "{'train_runtime': 358.3997, 'train_samples_per_second': 45.075, 'train_steps_per_second': 1.409, 'train_loss': 0.11384755554470685, 'epoch': 5.0}\n",
            "100% 505/505 [05:58<00:00,  1.41it/s]\n",
            "[INFO|trainer.py:2340] 2022-05-17 23:46:36,385 >> Saving model checkpoint to /tmp/ner-wikipedia\n",
            "[INFO|configuration_utils.py:446] 2022-05-17 23:46:36,386 >> Configuration saved in /tmp/ner-wikipedia/config.json\n",
            "[INFO|modeling_utils.py:1542] 2022-05-17 23:46:37,580 >> Model weights saved in /tmp/ner-wikipedia/pytorch_model.bin\n",
            "[INFO|tokenization_utils_base.py:2108] 2022-05-17 23:46:37,581 >> tokenizer config file saved in /tmp/ner-wikipedia/tokenizer_config.json\n",
            "[INFO|tokenization_utils_base.py:2114] 2022-05-17 23:46:37,581 >> Special tokens file saved in /tmp/ner-wikipedia/special_tokens_map.json\n",
            "05/17/2022 23:46:37 - INFO - __main__ - *** Evaluate ***\n",
            "[INFO|trainer.py:2590] 2022-05-17 23:46:37,603 >> ***** Running Evaluation *****\n",
            "[INFO|trainer.py:2592] 2022-05-17 23:46:37,603 >>   Num examples = 1078\n",
            "[INFO|trainer.py:2595] 2022-05-17 23:46:37,603 >>   Batch size = 256\n",
            "100% 5/5 [00:08<00:00,  1.73s/it]\n",
            "05/17/2022 23:46:47 - INFO - __main__ - ***** Eval results *****\n",
            "05/17/2022 23:46:47 - INFO - __main__ -   eval_loss = 0.1069055050611496\n",
            "05/17/2022 23:46:47 - INFO - __main__ -   eval_accuracy_score = 0.9752633385253042\n",
            "05/17/2022 23:46:47 - INFO - __main__ -   eval_precision = 0.8606060606060606\n",
            "05/17/2022 23:46:47 - INFO - __main__ -   eval_recall = 0.8994038748137109\n",
            "05/17/2022 23:46:47 - INFO - __main__ -   eval_f1 = 0.8795773364911641\n",
            "05/17/2022 23:46:47 - INFO - __main__ -   eval_runtime = 10.3723\n",
            "05/17/2022 23:46:47 - INFO - __main__ -   eval_samples_per_second = 103.931\n",
            "05/17/2022 23:46:47 - INFO - __main__ -   eval_steps_per_second = 0.482\n",
            "05/17/2022 23:46:47 - INFO - __main__ -   epoch = 5.0\n",
            "05/17/2022 23:46:48 - INFO - utils_ner - Creating features from dataset file at /tmp/ner-wikipedia-dataset/preprocessed\n",
            "05/17/2022 23:46:48 - INFO - utils_ner - Writing example 0 of 1076\n",
            "05/17/2022 23:46:48 - INFO - utils_ner - *** Example ***\n",
            "05/17/2022 23:46:48 - INFO - utils_ner - guid: test-1\n",
            "05/17/2022 23:46:48 - INFO - utils_ner - tokens: [CLS] なお 、 代表 取締役 は 若林 史 # ### 江 では なく 別 の 人物 で ある 。 [SEP]\n",
            "05/17/2022 23:46:48 - INFO - utils_ner - input_ids: 2 521 6 542 2898 9 22733 932 4931 30049 870 17234 332 692 5 1303 12 31 8 3 0 0 0 0 0 0 0 0 0 0 0 0 0 0 0 0 0 0 0 0 0 0 0 0 0 0 0 0 0 0 0 0 0 0 0 0 0 0 0 0 0 0 0 0 0 0 0 0 0 0 0 0 0 0 0 0 0 0 0 0 0 0 0 0 0 0 0 0 0 0 0 0 0 0 0 0 0 0 0 0 0 0 0 0 0 0 0 0 0 0 0 0 0 0 0 0 0 0 0 0 0 0 0 0 0 0 0 0\n",
            "05/17/2022 23:46:48 - INFO - utils_ner - input_mask: 1 1 1 1 1 1 1 1 1 1 1 1 1 1 1 1 1 1 1 1 0 0 0 0 0 0 0 0 0 0 0 0 0 0 0 0 0 0 0 0 0 0 0 0 0 0 0 0 0 0 0 0 0 0 0 0 0 0 0 0 0 0 0 0 0 0 0 0 0 0 0 0 0 0 0 0 0 0 0 0 0 0 0 0 0 0 0 0 0 0 0 0 0 0 0 0 0 0 0 0 0 0 0 0 0 0 0 0 0 0 0 0 0 0 0 0 0 0 0 0 0 0 0 0 0 0 0 0\n",
            "05/17/2022 23:46:48 - INFO - utils_ner - segment_ids: 0 0 0 0 0 0 0 0 0 0 0 0 0 0 0 0 0 0 0 0 0 0 0 0 0 0 0 0 0 0 0 0 0 0 0 0 0 0 0 0 0 0 0 0 0 0 0 0 0 0 0 0 0 0 0 0 0 0 0 0 0 0 0 0 0 0 0 0 0 0 0 0 0 0 0 0 0 0 0 0 0 0 0 0 0 0 0 0 0 0 0 0 0 0 0 0 0 0 0 0 0 0 0 0 0 0 0 0 0 0 0 0 0 0 0 0 0 0 0 0 0 0 0 0 0 0 0 0\n",
            "05/17/2022 23:46:48 - INFO - utils_ner - label_ids: -100 16 16 16 16 16 0 8 8 -100 -100 16 16 16 16 16 16 16 16 -100 -100 -100 -100 -100 -100 -100 -100 -100 -100 -100 -100 -100 -100 -100 -100 -100 -100 -100 -100 -100 -100 -100 -100 -100 -100 -100 -100 -100 -100 -100 -100 -100 -100 -100 -100 -100 -100 -100 -100 -100 -100 -100 -100 -100 -100 -100 -100 -100 -100 -100 -100 -100 -100 -100 -100 -100 -100 -100 -100 -100 -100 -100 -100 -100 -100 -100 -100 -100 -100 -100 -100 -100 -100 -100 -100 -100 -100 -100 -100 -100 -100 -100 -100 -100 -100 -100 -100 -100 -100 -100 -100 -100 -100 -100 -100 -100 -100 -100 -100 -100 -100 -100 -100 -100 -100 -100 -100 -100\n",
            "05/17/2022 23:46:48 - INFO - utils_ner - *** Example ***\n",
            "05/17/2022 23:46:48 - INFO - utils_ner - guid: test-2\n",
            "05/17/2022 23:46:48 - INFO - utils_ner - tokens: [CLS] 「 復活 篇 」 は グリーン # ### バニ # ### ー から の 発売 と なっ て いる 。 [SEP]\n",
            "05/17/2022 23:46:48 - INFO - utils_ner - input_ids: 2 36 2866 8175 38 9 4244 4931 30049 27490 4931 30049 3871 40 5 580 13 58 16 33 8 3 0 0 0 0 0 0 0 0 0 0 0 0 0 0 0 0 0 0 0 0 0 0 0 0 0 0 0 0 0 0 0 0 0 0 0 0 0 0 0 0 0 0 0 0 0 0 0 0 0 0 0 0 0 0 0 0 0 0 0 0 0 0 0 0 0 0 0 0 0 0 0 0 0 0 0 0 0 0 0 0 0 0 0 0 0 0 0 0 0 0 0 0 0 0 0 0 0 0 0 0 0 0 0 0 0 0\n",
            "05/17/2022 23:46:48 - INFO - utils_ner - input_mask: 1 1 1 1 1 1 1 1 1 1 1 1 1 1 1 1 1 1 1 1 1 1 0 0 0 0 0 0 0 0 0 0 0 0 0 0 0 0 0 0 0 0 0 0 0 0 0 0 0 0 0 0 0 0 0 0 0 0 0 0 0 0 0 0 0 0 0 0 0 0 0 0 0 0 0 0 0 0 0 0 0 0 0 0 0 0 0 0 0 0 0 0 0 0 0 0 0 0 0 0 0 0 0 0 0 0 0 0 0 0 0 0 0 0 0 0 0 0 0 0 0 0 0 0 0 0 0 0\n",
            "05/17/2022 23:46:48 - INFO - utils_ner - segment_ids: 0 0 0 0 0 0 0 0 0 0 0 0 0 0 0 0 0 0 0 0 0 0 0 0 0 0 0 0 0 0 0 0 0 0 0 0 0 0 0 0 0 0 0 0 0 0 0 0 0 0 0 0 0 0 0 0 0 0 0 0 0 0 0 0 0 0 0 0 0 0 0 0 0 0 0 0 0 0 0 0 0 0 0 0 0 0 0 0 0 0 0 0 0 0 0 0 0 0 0 0 0 0 0 0 0 0 0 0 0 0 0 0 0 0 0 0 0 0 0 0 0 0 0 0 0 0 0 0\n",
            "05/17/2022 23:46:48 - INFO - utils_ner - label_ids: -100 16 7 15 16 16 6 14 -100 -100 14 -100 -100 16 16 16 16 16 16 16 16 -100 -100 -100 -100 -100 -100 -100 -100 -100 -100 -100 -100 -100 -100 -100 -100 -100 -100 -100 -100 -100 -100 -100 -100 -100 -100 -100 -100 -100 -100 -100 -100 -100 -100 -100 -100 -100 -100 -100 -100 -100 -100 -100 -100 -100 -100 -100 -100 -100 -100 -100 -100 -100 -100 -100 -100 -100 -100 -100 -100 -100 -100 -100 -100 -100 -100 -100 -100 -100 -100 -100 -100 -100 -100 -100 -100 -100 -100 -100 -100 -100 -100 -100 -100 -100 -100 -100 -100 -100 -100 -100 -100 -100 -100 -100 -100 -100 -100 -100 -100 -100 -100 -100 -100 -100 -100 -100\n",
            "05/17/2022 23:46:48 - INFO - utils_ner - *** Example ***\n",
            "05/17/2022 23:46:48 - INFO - utils_ner - guid: test-3\n",
            "05/17/2022 23:46:48 - INFO - utils_ner - tokens: [CLS] これら により 実質 的 な 証拠 調べ が 遅れ た と 日刊 ゲン # ### ダイ は 報じ て いる 。 [SEP]\n",
            "05/17/2022 23:46:48 - INFO - utils_ner - input_ids: 2 875 225 4506 81 18 5343 6000 14 4807 10 13 15578 15907 4931 30049 2816 9 5443 16 33 8 3 0 0 0 0 0 0 0 0 0 0 0 0 0 0 0 0 0 0 0 0 0 0 0 0 0 0 0 0 0 0 0 0 0 0 0 0 0 0 0 0 0 0 0 0 0 0 0 0 0 0 0 0 0 0 0 0 0 0 0 0 0 0 0 0 0 0 0 0 0 0 0 0 0 0 0 0 0 0 0 0 0 0 0 0 0 0 0 0 0 0 0 0 0 0 0 0 0 0 0 0 0 0 0 0 0\n",
            "05/17/2022 23:46:48 - INFO - utils_ner - input_mask: 1 1 1 1 1 1 1 1 1 1 1 1 1 1 1 1 1 1 1 1 1 1 1 0 0 0 0 0 0 0 0 0 0 0 0 0 0 0 0 0 0 0 0 0 0 0 0 0 0 0 0 0 0 0 0 0 0 0 0 0 0 0 0 0 0 0 0 0 0 0 0 0 0 0 0 0 0 0 0 0 0 0 0 0 0 0 0 0 0 0 0 0 0 0 0 0 0 0 0 0 0 0 0 0 0 0 0 0 0 0 0 0 0 0 0 0 0 0 0 0 0 0 0 0 0 0 0 0\n",
            "05/17/2022 23:46:48 - INFO - utils_ner - segment_ids: 0 0 0 0 0 0 0 0 0 0 0 0 0 0 0 0 0 0 0 0 0 0 0 0 0 0 0 0 0 0 0 0 0 0 0 0 0 0 0 0 0 0 0 0 0 0 0 0 0 0 0 0 0 0 0 0 0 0 0 0 0 0 0 0 0 0 0 0 0 0 0 0 0 0 0 0 0 0 0 0 0 0 0 0 0 0 0 0 0 0 0 0 0 0 0 0 0 0 0 0 0 0 0 0 0 0 0 0 0 0 0 0 0 0 0 0 0 0 0 0 0 0 0 0 0 0 0 0\n",
            "05/17/2022 23:46:48 - INFO - utils_ner - label_ids: -100 16 16 16 16 16 16 16 16 16 16 16 6 14 14 -100 -100 16 16 16 16 16 -100 -100 -100 -100 -100 -100 -100 -100 -100 -100 -100 -100 -100 -100 -100 -100 -100 -100 -100 -100 -100 -100 -100 -100 -100 -100 -100 -100 -100 -100 -100 -100 -100 -100 -100 -100 -100 -100 -100 -100 -100 -100 -100 -100 -100 -100 -100 -100 -100 -100 -100 -100 -100 -100 -100 -100 -100 -100 -100 -100 -100 -100 -100 -100 -100 -100 -100 -100 -100 -100 -100 -100 -100 -100 -100 -100 -100 -100 -100 -100 -100 -100 -100 -100 -100 -100 -100 -100 -100 -100 -100 -100 -100 -100 -100 -100 -100 -100 -100 -100 -100 -100 -100 -100 -100 -100\n",
            "05/17/2022 23:46:48 - INFO - utils_ner - *** Example ***\n",
            "05/17/2022 23:46:48 - INFO - utils_ner - guid: test-4\n",
            "05/17/2022 23:46:48 - INFO - utils_ner - tokens: [CLS] プログラマ の アンドリュー ・ スミス に よれ ば 、 体 の 動き と 頭 の 動き を 独立 さ せ て しまう と 、 「 カン # ### ニン ##グ でき て 」 しまう パズル が ある と いう 。 [SEP]\n",
            "05/17/2022 23:46:48 - INFO - utils_ner - input_ids: 2 25198 5 12795 35 7983 7 1940 312 6 397 5 3040 13 1177 5 3040 11 1266 26 191 16 1497 13 6 36 2317 4931 30049 9056 28530 203 16 38 1497 16113 14 31 13 625 8 3 0 0 0 0 0 0 0 0 0 0 0 0 0 0 0 0 0 0 0 0 0 0 0 0 0 0 0 0 0 0 0 0 0 0 0 0 0 0 0 0 0 0 0 0 0 0 0 0 0 0 0 0 0 0 0 0 0 0 0 0 0 0 0 0 0 0 0 0 0 0 0 0 0 0 0 0 0 0 0 0 0 0 0 0 0 0\n",
            "05/17/2022 23:46:48 - INFO - utils_ner - input_mask: 1 1 1 1 1 1 1 1 1 1 1 1 1 1 1 1 1 1 1 1 1 1 1 1 1 1 1 1 1 1 1 1 1 1 1 1 1 1 1 1 1 1 0 0 0 0 0 0 0 0 0 0 0 0 0 0 0 0 0 0 0 0 0 0 0 0 0 0 0 0 0 0 0 0 0 0 0 0 0 0 0 0 0 0 0 0 0 0 0 0 0 0 0 0 0 0 0 0 0 0 0 0 0 0 0 0 0 0 0 0 0 0 0 0 0 0 0 0 0 0 0 0 0 0 0 0 0 0\n",
            "05/17/2022 23:46:48 - INFO - utils_ner - segment_ids: 0 0 0 0 0 0 0 0 0 0 0 0 0 0 0 0 0 0 0 0 0 0 0 0 0 0 0 0 0 0 0 0 0 0 0 0 0 0 0 0 0 0 0 0 0 0 0 0 0 0 0 0 0 0 0 0 0 0 0 0 0 0 0 0 0 0 0 0 0 0 0 0 0 0 0 0 0 0 0 0 0 0 0 0 0 0 0 0 0 0 0 0 0 0 0 0 0 0 0 0 0 0 0 0 0 0 0 0 0 0 0 0 0 0 0 0 0 0 0 0 0 0 0 0 0 0 0 0\n",
            "05/17/2022 23:46:48 - INFO - utils_ner - label_ids: -100 16 16 0 8 8 16 16 16 16 16 16 16 16 16 16 16 16 16 16 16 16 16 16 16 16 16 16 -100 -100 -100 16 16 16 16 16 16 16 16 16 16 -100 -100 -100 -100 -100 -100 -100 -100 -100 -100 -100 -100 -100 -100 -100 -100 -100 -100 -100 -100 -100 -100 -100 -100 -100 -100 -100 -100 -100 -100 -100 -100 -100 -100 -100 -100 -100 -100 -100 -100 -100 -100 -100 -100 -100 -100 -100 -100 -100 -100 -100 -100 -100 -100 -100 -100 -100 -100 -100 -100 -100 -100 -100 -100 -100 -100 -100 -100 -100 -100 -100 -100 -100 -100 -100 -100 -100 -100 -100 -100 -100 -100 -100 -100 -100 -100 -100\n",
            "05/17/2022 23:46:48 - INFO - utils_ner - *** Example ***\n",
            "05/17/2022 23:46:48 - INFO - utils_ner - guid: test-5\n",
            "05/17/2022 23:46:48 - INFO - utils_ner - tokens: [CLS] ポリ # ### [UNK] # ### ビ ##オ # ### ス に 従え ば ピク # ### トル は 、 第 二 次 ポ # ### エ # ### ニ 戦争 について その 責任 を ハミ # ### ルカ # ### ル # ### ・ # ### バル # ### カ 、 ハンニバル ら バル # ### カ 家 に 帰し て いる 。 [SEP]\n",
            "05/17/2022 23:46:48 - INFO - utils_ner - input_ids: 2 5286 4931 30049 1 4931 30049 389 28541 4931 30049 55 7 18885 312 12451 4931 30049 7387 9 6 97 287 288 329 4931 30049 133 4931 30049 353 941 362 59 2891 11 9931 4931 30049 18620 4931 30049 434 4931 30049 35 4931 30049 2555 4931 30049 103 6 24253 60 2555 4931 30049 103 167 7 25424 16 33 8 3 0 0 0 0 0 0 0 0 0 0 0 0 0 0 0 0 0 0 0 0 0 0 0 0 0 0 0 0 0 0 0 0 0 0 0 0 0 0 0 0 0 0 0 0 0 0 0 0 0 0 0 0 0 0 0 0 0 0 0 0 0 0\n",
            "05/17/2022 23:46:48 - INFO - utils_ner - input_mask: 1 1 1 1 1 1 1 1 1 1 1 1 1 1 1 1 1 1 1 1 1 1 1 1 1 1 1 1 1 1 1 1 1 1 1 1 1 1 1 1 1 1 1 1 1 1 1 1 1 1 1 1 1 1 1 1 1 1 1 1 1 1 1 1 1 1 0 0 0 0 0 0 0 0 0 0 0 0 0 0 0 0 0 0 0 0 0 0 0 0 0 0 0 0 0 0 0 0 0 0 0 0 0 0 0 0 0 0 0 0 0 0 0 0 0 0 0 0 0 0 0 0 0 0 0 0 0 0\n",
            "05/17/2022 23:46:48 - INFO - utils_ner - segment_ids: 0 0 0 0 0 0 0 0 0 0 0 0 0 0 0 0 0 0 0 0 0 0 0 0 0 0 0 0 0 0 0 0 0 0 0 0 0 0 0 0 0 0 0 0 0 0 0 0 0 0 0 0 0 0 0 0 0 0 0 0 0 0 0 0 0 0 0 0 0 0 0 0 0 0 0 0 0 0 0 0 0 0 0 0 0 0 0 0 0 0 0 0 0 0 0 0 0 0 0 0 0 0 0 0 0 0 0 0 0 0 0 0 0 0 0 0 0 0 0 0 0 0 0 0 0 0 0 0\n",
            "05/17/2022 23:46:48 - INFO - utils_ner - label_ids: -100 0 8 -100 -100 8 -100 -100 -100 8 -100 -100 16 16 16 0 8 -100 -100 16 16 2 10 10 10 10 -100 -100 10 -100 -100 10 16 16 16 16 0 8 -100 -100 8 -100 -100 8 -100 -100 8 -100 -100 8 -100 -100 16 0 16 0 8 -100 -100 16 16 16 16 16 16 -100 -100 -100 -100 -100 -100 -100 -100 -100 -100 -100 -100 -100 -100 -100 -100 -100 -100 -100 -100 -100 -100 -100 -100 -100 -100 -100 -100 -100 -100 -100 -100 -100 -100 -100 -100 -100 -100 -100 -100 -100 -100 -100 -100 -100 -100 -100 -100 -100 -100 -100 -100 -100 -100 -100 -100 -100 -100 -100 -100 -100 -100 -100\n",
            "05/17/2022 23:46:49 - INFO - utils_ner - Saving features into cached file /tmp/ner-wikipedia-dataset/preprocessed/cached_test_BertJapaneseTokenizer_128\n",
            "[INFO|trainer.py:2590] 2022-05-17 23:46:49,240 >> ***** Running Prediction *****\n",
            "[INFO|trainer.py:2592] 2022-05-17 23:46:49,240 >>   Num examples = 1076\n",
            "[INFO|trainer.py:2595] 2022-05-17 23:46:49,240 >>   Batch size = 256\n",
            "100% 5/5 [00:05<00:00,  1.08s/it]05/17/2022 23:47:02 - INFO - __main__ -   test_loss = 0.1237124502658844\n",
            "05/17/2022 23:47:02 - INFO - __main__ -   test_accuracy_score = 0.9729627528833428\n",
            "05/17/2022 23:47:02 - INFO - __main__ -   test_precision = 0.845782237086585\n",
            "05/17/2022 23:47:02 - INFO - __main__ -   test_recall = 0.8821705426356589\n",
            "05/17/2022 23:47:02 - INFO - __main__ -   test_f1 = 0.8635932460633656\n",
            "05/17/2022 23:47:02 - INFO - __main__ -   test_runtime = 10.4221\n",
            "05/17/2022 23:47:02 - INFO - __main__ -   test_samples_per_second = 103.242\n",
            "05/17/2022 23:47:02 - INFO - __main__ -   test_steps_per_second = 0.48\n",
            "100% 5/5 [00:11<00:00,  2.26s/it]\n"
          ]
        }
      ]
    },
    {
      "cell_type": "markdown",
      "source": [
        "「鉄 # ### 腕 アトム」🤔"
      ],
      "metadata": {
        "id": "Fx4z8hGTztwI"
      }
    },
    {
      "cell_type": "code",
      "source": [
        "!ls -l /tmp/ner-wikipedia"
      ],
      "metadata": {
        "id": "rRzMqhEICN3M",
        "colab": {
          "base_uri": "https://localhost:8080/"
        },
        "outputId": "cc855a5a-e9fa-45aa-b12a-e5df7d2767fd"
      },
      "execution_count": 25,
      "outputs": [
        {
          "output_type": "stream",
          "name": "stdout",
          "text": [
            "total 430584\n",
            "drwxr-xr-x 2 root root      4096 May 17 23:45 checkpoint-400\n",
            "drwxr-xr-x 2 root root      4096 May 17 23:46 checkpoint-500\n",
            "-rw-r--r-- 1 root root      1988 May 17 23:46 config.json\n",
            "-rw-r--r-- 1 root root       269 May 17 23:46 eval_results.txt\n",
            "-rw-r--r-- 1 root root 440229745 May 17 23:46 pytorch_model.bin\n",
            "drwxr-xr-x 3 root root      4096 May 17 23:40 runs\n",
            "-rw-r--r-- 1 root root       112 May 17 23:46 special_tokens_map.json\n",
            "-rw-r--r-- 1 root root    388470 May 17 23:47 test_predictions.txt\n",
            "-rw-r--r-- 1 root root       255 May 17 23:47 test_results.txt\n",
            "-rw-r--r-- 1 root root       474 May 17 23:46 tokenizer_config.json\n",
            "-rw-r--r-- 1 root root      3183 May 17 23:46 training_args.bin\n",
            "-rw-r--r-- 1 root root    257706 May 17 23:46 vocab.txt\n"
          ]
        }
      ]
    },
    {
      "cell_type": "code",
      "source": [
        "!cat /tmp/ner-wikipedia/eval_results.txt"
      ],
      "metadata": {
        "id": "n7jeU6NGE1Qf",
        "colab": {
          "base_uri": "https://localhost:8080/"
        },
        "outputId": "8c124c2a-2ced-4135-e3b7-0452eaa1e908"
      },
      "execution_count": 26,
      "outputs": [
        {
          "output_type": "stream",
          "name": "stdout",
          "text": [
            "eval_loss = 0.1069055050611496\n",
            "eval_accuracy_score = 0.9752633385253042\n",
            "eval_precision = 0.8606060606060606\n",
            "eval_recall = 0.8994038748137109\n",
            "eval_f1 = 0.8795773364911641\n",
            "eval_runtime = 10.3723\n",
            "eval_samples_per_second = 103.931\n",
            "eval_steps_per_second = 0.482\n",
            "epoch = 5.0\n"
          ]
        }
      ]
    },
    {
      "cell_type": "code",
      "source": [
        "!cat /tmp/ner-wikipedia/test_results.txt"
      ],
      "metadata": {
        "colab": {
          "base_uri": "https://localhost:8080/"
        },
        "id": "p0alkBlzpieY",
        "outputId": "d30a800a-965b-4a8e-e88f-d883e96e54f5"
      },
      "execution_count": 27,
      "outputs": [
        {
          "output_type": "stream",
          "name": "stdout",
          "text": [
            "test_loss = 0.1237124502658844\n",
            "test_accuracy_score = 0.9729627528833428\n",
            "test_precision = 0.845782237086585\n",
            "test_recall = 0.8821705426356589\n",
            "test_f1 = 0.8635932460633656\n",
            "test_runtime = 10.4221\n",
            "test_samples_per_second = 103.242\n",
            "test_steps_per_second = 0.48\n"
          ]
        }
      ]
    },
    {
      "cell_type": "markdown",
      "source": [
        "ここでドライブをマウント"
      ],
      "metadata": {
        "id": "FyCT34DZ3kB7"
      }
    },
    {
      "cell_type": "code",
      "source": [
        "!mkdir -p drive/MyDrive/nlp/20220518/ner-wikipedia/"
      ],
      "metadata": {
        "id": "FJZCUUeO3Nks"
      },
      "execution_count": 28,
      "outputs": []
    },
    {
      "cell_type": "code",
      "source": [
        "!cp /tmp/ner-wikipedia/*.* drive/MyDrive/nlp/20220518/ner-wikipedia/"
      ],
      "metadata": {
        "id": "6-LChlAZ3aHs"
      },
      "execution_count": 29,
      "outputs": []
    }
  ]
}